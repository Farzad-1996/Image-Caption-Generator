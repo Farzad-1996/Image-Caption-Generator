{
 "cells": [
  {
   "cell_type": "code",
   "execution_count": 1,
   "metadata": {
    "colab": {
     "base_uri": "https://localhost:8080/"
    },
    "executionInfo": {
     "elapsed": 28792,
     "status": "ok",
     "timestamp": 1659425737842,
     "user": {
      "displayName": "Sajib Kumar Saha Joy",
      "userId": "00306887839544176354"
     },
     "user_tz": -360
    },
    "id": "ozgHXVi1IwS1",
    "outputId": "aec8b136-8854-4954-9e52-08496c313f73"
   },
   "outputs": [],
   "source": [
    "# from google.colab import drive\n",
    "# drive.mount('/content/drive')"
   ]
  },
  {
   "cell_type": "markdown",
   "metadata": {
    "id": "VcHroNi4KqKW"
   },
   "source": [
    "# Import Necessary Files \n"
   ]
  },
  {
   "cell_type": "code",
   "execution_count": 2,
   "metadata": {
    "colab": {
     "base_uri": "https://localhost:8080/"
    },
    "executionInfo": {
     "elapsed": 5353,
     "status": "ok",
     "timestamp": 1659425743191,
     "user": {
      "displayName": "Sajib Kumar Saha Joy",
      "userId": "00306887839544176354"
     },
     "user_tz": -360
    },
    "id": "wn8ho5FuyTgd",
    "outputId": "1adc992b-bebb-4f34-dc3d-3ccbdb71a400"
   },
   "outputs": [
    {
     "name": "stdout",
     "output_type": "stream",
     "text": [
      "WARNING:tensorflow:From C:\\Users\\Admin\\AppData\\Local\\Temp/ipykernel_15048/3326022288.py:2: is_gpu_available (from tensorflow.python.framework.test_util) is deprecated and will be removed in a future version.\n",
      "Instructions for updating:\n",
      "Use `tf.config.list_physical_devices('GPU')` instead.\n"
     ]
    },
    {
     "data": {
      "text/plain": [
       "True"
      ]
     },
     "execution_count": 2,
     "metadata": {},
     "output_type": "execute_result"
    }
   ],
   "source": [
    "import tensorflow as tf\n",
    "tf.test.is_gpu_available()"
   ]
  },
  {
   "cell_type": "code",
   "execution_count": 3,
   "metadata": {
    "colab": {
     "base_uri": "https://localhost:8080/"
    },
    "executionInfo": {
     "elapsed": 23,
     "status": "ok",
     "timestamp": 1659425743192,
     "user": {
      "displayName": "Sajib Kumar Saha Joy",
      "userId": "00306887839544176354"
     },
     "user_tz": -360
    },
    "id": "dD1rd2LOyTge",
    "outputId": "35231df6-3bc1-49ba-93e5-1212773d8c94",
    "scrolled": true
   },
   "outputs": [
    {
     "name": "stdout",
     "output_type": "stream",
     "text": [
      "2.7.0\n"
     ]
    }
   ],
   "source": [
    "import tensorflow\n",
    "print(tensorflow.__version__)"
   ]
  },
  {
   "cell_type": "code",
   "execution_count": 4,
   "metadata": {
    "executionInfo": {
     "elapsed": 20,
     "status": "ok",
     "timestamp": 1659425743193,
     "user": {
      "displayName": "Sajib Kumar Saha Joy",
      "userId": "00306887839544176354"
     },
     "user_tz": -360
    },
    "id": "OaJJKcjQKqKX"
   },
   "outputs": [],
   "source": [
    "from tensorflow.keras.applications.vgg16 import VGG16\n",
    "from tensorflow.keras.preprocessing.image import load_img\n",
    "from tensorflow.keras.preprocessing.image import img_to_array\n",
    "from tensorflow.keras.applications.vgg16 import preprocess_input\n",
    "from tensorflow.keras.models import Model\n",
    "from tensorflow.keras.utils  import plot_model\n",
    "\n",
    "import pickle\n",
    "from tqdm import tqdm\n",
    "import string\n",
    "\n",
    "import pandas as pd\n",
    "import seaborn as sns"
   ]
  },
  {
   "cell_type": "markdown",
   "metadata": {
    "id": "l6uUpUm5KqKd"
   },
   "source": [
    "# Creating VGG16 Model for Extract Image Features"
   ]
  },
  {
   "cell_type": "code",
   "execution_count": 5,
   "metadata": {
    "colab": {
     "base_uri": "https://localhost:8080/",
     "height": 1000
    },
    "executionInfo": {
     "elapsed": 7673,
     "status": "ok",
     "timestamp": 1659425750847,
     "user": {
      "displayName": "Sajib Kumar Saha Joy",
      "userId": "00306887839544176354"
     },
     "user_tz": -360
    },
    "id": "rGRvhn_9KqKe",
    "outputId": "8e45713c-6aea-4c86-9d24-122246749ed7"
   },
   "outputs": [
    {
     "name": "stdout",
     "output_type": "stream",
     "text": [
      "Model: \"vgg16\"\n",
      "_________________________________________________________________\n",
      " Layer (type)                Output Shape              Param #   \n",
      "=================================================================\n",
      " input_1 (InputLayer)        [(None, 224, 224, 3)]     0         \n",
      "                                                                 \n",
      " block1_conv1 (Conv2D)       (None, 224, 224, 64)      1792      \n",
      "                                                                 \n",
      " block1_conv2 (Conv2D)       (None, 224, 224, 64)      36928     \n",
      "                                                                 \n",
      " block1_pool (MaxPooling2D)  (None, 112, 112, 64)      0         \n",
      "                                                                 \n",
      " block2_conv1 (Conv2D)       (None, 112, 112, 128)     73856     \n",
      "                                                                 \n",
      " block2_conv2 (Conv2D)       (None, 112, 112, 128)     147584    \n",
      "                                                                 \n",
      " block2_pool (MaxPooling2D)  (None, 56, 56, 128)       0         \n",
      "                                                                 \n",
      " block3_conv1 (Conv2D)       (None, 56, 56, 256)       295168    \n",
      "                                                                 \n",
      " block3_conv2 (Conv2D)       (None, 56, 56, 256)       590080    \n",
      "                                                                 \n",
      " block3_conv3 (Conv2D)       (None, 56, 56, 256)       590080    \n",
      "                                                                 \n",
      " block3_pool (MaxPooling2D)  (None, 28, 28, 256)       0         \n",
      "                                                                 \n",
      " block4_conv1 (Conv2D)       (None, 28, 28, 512)       1180160   \n",
      "                                                                 \n",
      " block4_conv2 (Conv2D)       (None, 28, 28, 512)       2359808   \n",
      "                                                                 \n",
      " block4_conv3 (Conv2D)       (None, 28, 28, 512)       2359808   \n",
      "                                                                 \n",
      " block4_pool (MaxPooling2D)  (None, 14, 14, 512)       0         \n",
      "                                                                 \n",
      " block5_conv1 (Conv2D)       (None, 14, 14, 512)       2359808   \n",
      "                                                                 \n",
      " block5_conv2 (Conv2D)       (None, 14, 14, 512)       2359808   \n",
      "                                                                 \n",
      " block5_conv3 (Conv2D)       (None, 14, 14, 512)       2359808   \n",
      "                                                                 \n",
      " block5_pool (MaxPooling2D)  (None, 7, 7, 512)         0         \n",
      "                                                                 \n",
      " flatten (Flatten)           (None, 25088)             0         \n",
      "                                                                 \n",
      " fc1 (Dense)                 (None, 4096)              102764544 \n",
      "                                                                 \n",
      " fc2 (Dense)                 (None, 4096)              16781312  \n",
      "                                                                 \n",
      " predictions (Dense)         (None, 1000)              4097000   \n",
      "                                                                 \n",
      "=================================================================\n",
      "Total params: 138,357,544\n",
      "Trainable params: 138,357,544\n",
      "Non-trainable params: 0\n",
      "_________________________________________________________________\n",
      "('You must install pydot (`pip install pydot`) and install graphviz (see instructions at https://graphviz.gitlab.io/download/) ', 'for plot_model/model_to_dot to work.')\n"
     ]
    }
   ],
   "source": [
    "# Orginal VGG16 Model\n",
    "vgg16 = VGG16()\n",
    "vgg16.summary()\n",
    "plot_model(vgg16, to_file='vgg16_model.png', show_shapes=True, show_layer_names=True)"
   ]
  },
  {
   "cell_type": "code",
   "execution_count": 6,
   "metadata": {
    "executionInfo": {
     "elapsed": 5,
     "status": "ok",
     "timestamp": 1659425750847,
     "user": {
      "displayName": "Sajib Kumar Saha Joy",
      "userId": "00306887839544176354"
     },
     "user_tz": -360
    },
    "id": "ChVj6Z5dKqKi"
   },
   "outputs": [],
   "source": [
    "def get_image_feature_extractor_model(): \n",
    "    vgg16 = VGG16()\n",
    "    image_feature_extractor_model = Model(inputs=vgg16.inputs, outputs=vgg16.get_layer('fc2').output) # Prepare VGG16 for Transfer learning\n",
    "    return image_feature_extractor_model   "
   ]
  },
  {
   "cell_type": "code",
   "execution_count": 7,
   "metadata": {
    "colab": {
     "base_uri": "https://localhost:8080/"
    },
    "executionInfo": {
     "elapsed": 1355,
     "status": "ok",
     "timestamp": 1659425752198,
     "user": {
      "displayName": "Sajib Kumar Saha Joy",
      "userId": "00306887839544176354"
     },
     "user_tz": -360
    },
    "id": "cqnYm439KqKn",
    "outputId": "ad441a64-1595-459f-a03b-042a9c9ab05e"
   },
   "outputs": [
    {
     "name": "stdout",
     "output_type": "stream",
     "text": [
      "Model: \"model\"\n",
      "_________________________________________________________________\n",
      " Layer (type)                Output Shape              Param #   \n",
      "=================================================================\n",
      " input_2 (InputLayer)        [(None, 224, 224, 3)]     0         \n",
      "                                                                 \n",
      " block1_conv1 (Conv2D)       (None, 224, 224, 64)      1792      \n",
      "                                                                 \n",
      " block1_conv2 (Conv2D)       (None, 224, 224, 64)      36928     \n",
      "                                                                 \n",
      " block1_pool (MaxPooling2D)  (None, 112, 112, 64)      0         \n",
      "                                                                 \n",
      " block2_conv1 (Conv2D)       (None, 112, 112, 128)     73856     \n",
      "                                                                 \n",
      " block2_conv2 (Conv2D)       (None, 112, 112, 128)     147584    \n",
      "                                                                 \n",
      " block2_pool (MaxPooling2D)  (None, 56, 56, 128)       0         \n",
      "                                                                 \n",
      " block3_conv1 (Conv2D)       (None, 56, 56, 256)       295168    \n",
      "                                                                 \n",
      " block3_conv2 (Conv2D)       (None, 56, 56, 256)       590080    \n",
      "                                                                 \n",
      " block3_conv3 (Conv2D)       (None, 56, 56, 256)       590080    \n",
      "                                                                 \n",
      " block3_pool (MaxPooling2D)  (None, 28, 28, 256)       0         \n",
      "                                                                 \n",
      " block4_conv1 (Conv2D)       (None, 28, 28, 512)       1180160   \n",
      "                                                                 \n",
      " block4_conv2 (Conv2D)       (None, 28, 28, 512)       2359808   \n",
      "                                                                 \n",
      " block4_conv3 (Conv2D)       (None, 28, 28, 512)       2359808   \n",
      "                                                                 \n",
      " block4_pool (MaxPooling2D)  (None, 14, 14, 512)       0         \n",
      "                                                                 \n",
      " block5_conv1 (Conv2D)       (None, 14, 14, 512)       2359808   \n",
      "                                                                 \n",
      " block5_conv2 (Conv2D)       (None, 14, 14, 512)       2359808   \n",
      "                                                                 \n",
      " block5_conv3 (Conv2D)       (None, 14, 14, 512)       2359808   \n",
      "                                                                 \n",
      " block5_pool (MaxPooling2D)  (None, 7, 7, 512)         0         \n",
      "                                                                 \n",
      " flatten (Flatten)           (None, 25088)             0         \n",
      "                                                                 \n",
      " fc1 (Dense)                 (None, 4096)              102764544 \n",
      "                                                                 \n",
      " fc2 (Dense)                 (None, 4096)              16781312  \n",
      "                                                                 \n",
      "=================================================================\n",
      "Total params: 134,260,544\n",
      "Trainable params: 134,260,544\n",
      "Non-trainable params: 0\n",
      "_________________________________________________________________\n"
     ]
    }
   ],
   "source": [
    "image_fe_model=get_image_feature_extractor_model()\n",
    "image_fe_model.summary()"
   ]
  },
  {
   "cell_type": "code",
   "execution_count": 8,
   "metadata": {
    "colab": {
     "base_uri": "https://localhost:8080/",
     "height": 1000
    },
    "executionInfo": {
     "elapsed": 9,
     "status": "ok",
     "timestamp": 1659425752199,
     "user": {
      "displayName": "Sajib Kumar Saha Joy",
      "userId": "00306887839544176354"
     },
     "user_tz": -360
    },
    "id": "bNBFXaqMKqKr",
    "outputId": "a5823302-4b97-4cb9-ea0a-7a17058efa7a"
   },
   "outputs": [
    {
     "name": "stdout",
     "output_type": "stream",
     "text": [
      "('You must install pydot (`pip install pydot`) and install graphviz (see instructions at https://graphviz.gitlab.io/download/) ', 'for plot_model/model_to_dot to work.')\n"
     ]
    }
   ],
   "source": [
    "plot_model(image_fe_model, to_file='image_feature_extractor_model.png', show_shapes=True, show_layer_names=True) # Showing Model Description visually"
   ]
  },
  {
   "cell_type": "markdown",
   "metadata": {
    "id": "7VqFtpXuKqKu"
   },
   "source": [
    "# Extract Features From Each Image"
   ]
  },
  {
   "cell_type": "code",
   "execution_count": 9,
   "metadata": {
    "executionInfo": {
     "elapsed": 8,
     "status": "ok",
     "timestamp": 1659425752200,
     "user": {
      "displayName": "Sajib Kumar Saha Joy",
      "userId": "00306887839544176354"
     },
     "user_tz": -360
    },
    "id": "DtK7FHsWKqKv"
   },
   "outputs": [],
   "source": [
    "# from os import listdir\n",
    "# def extract_image_features(directory,image_fe_model):\n",
    "#     features = []\n",
    "#     for name in tqdm(listdir(directory)):\n",
    "#         filename = directory + '/' + name\n",
    "#         image = load_img(filename, target_size=(224, 224))\n",
    "#         image = img_to_array(image)\n",
    "#         x,y,z=image.shape\n",
    "#         image = image.reshape((1, x, y, z))\n",
    "#         image = preprocess_input(image)\n",
    "#         feature = image_fe_model.predict(image, verbose=0)\n",
    "#         image_id = name.split('.')[0] #get image id without format\n",
    "#         features.append([image_id,feature])\n",
    "#     return features\n",
    "\n",
    "# directory = r'/content/drive/MyDrive/#Research/#ImageCaption/BornonImages'\n",
    "# features = extract_image_features(directory,image_fe_model)\n",
    "# import pickle\n",
    "# with open( r'/content/drive/MyDrive/#Research/#ImageCaption/BornonImages/image_feature_vgg.pkl', 'wb') as file:\n",
    "#     pickle.dump(features, file)"
   ]
  },
  {
   "cell_type": "code",
   "execution_count": 10,
   "metadata": {
    "executionInfo": {
     "elapsed": 19075,
     "status": "ok",
     "timestamp": 1659425771268,
     "user": {
      "displayName": "Sajib Kumar Saha Joy",
      "userId": "00306887839544176354"
     },
     "user_tz": -360
    },
    "id": "22ocRhlx8FK4"
   },
   "outputs": [],
   "source": [
    "import pickle\n",
    "with open( r'BornonImages/image_feature_vgg.pkl', 'rb') as file:\n",
    "    features = pickle.load(file)\n",
    "# features"
   ]
  },
  {
   "cell_type": "code",
   "execution_count": 11,
   "metadata": {
    "colab": {
     "base_uri": "https://localhost:8080/",
     "height": 362
    },
    "executionInfo": {
     "elapsed": 8,
     "status": "ok",
     "timestamp": 1659425771270,
     "user": {
      "displayName": "Sajib Kumar Saha Joy",
      "userId": "00306887839544176354"
     },
     "user_tz": -360
    },
    "id": "Iuhd4MFAKqKy",
    "outputId": "e997e11f-4e10-40f1-ec7c-aea2b6bf6c11"
   },
   "outputs": [
    {
     "name": "stdout",
     "output_type": "stream",
     "text": [
      "<class 'pandas.core.frame.DataFrame'>\n",
      "RangeIndex: 4106 entries, 0 to 4105\n",
      "Data columns (total 2 columns):\n",
      " #   Column         Non-Null Count  Dtype \n",
      "---  ------         --------------  ----- \n",
      " 0   Image Id       4106 non-null   object\n",
      " 1   Image Feature  4106 non-null   object\n",
      "dtypes: object(2)\n",
      "memory usage: 64.3+ KB\n"
     ]
    },
    {
     "data": {
      "text/html": [
       "<div>\n",
       "<style scoped>\n",
       "    .dataframe tbody tr th:only-of-type {\n",
       "        vertical-align: middle;\n",
       "    }\n",
       "\n",
       "    .dataframe tbody tr th {\n",
       "        vertical-align: top;\n",
       "    }\n",
       "\n",
       "    .dataframe thead th {\n",
       "        text-align: right;\n",
       "    }\n",
       "</style>\n",
       "<table border=\"1\" class=\"dataframe\">\n",
       "  <thead>\n",
       "    <tr style=\"text-align: right;\">\n",
       "      <th></th>\n",
       "      <th>Image Id</th>\n",
       "      <th>Image Feature</th>\n",
       "    </tr>\n",
       "  </thead>\n",
       "  <tbody>\n",
       "    <tr>\n",
       "      <th>0</th>\n",
       "      <td>3177</td>\n",
       "      <td>[[3.3125296, 0.0, 0.0, 2.2000487, 0.34471732, ...</td>\n",
       "    </tr>\n",
       "    <tr>\n",
       "      <th>1</th>\n",
       "      <td>3172</td>\n",
       "      <td>[[0.0, 0.0, 0.14208671, 2.8226347, 0.0, 0.0, 0...</td>\n",
       "    </tr>\n",
       "    <tr>\n",
       "      <th>2</th>\n",
       "      <td>3162</td>\n",
       "      <td>[[0.0, 1.0850376, 1.7213755, 0.0, 0.0, 0.0, 0....</td>\n",
       "    </tr>\n",
       "    <tr>\n",
       "      <th>3</th>\n",
       "      <td>3198</td>\n",
       "      <td>[[0.0, 0.0, 0.094326496, 0.0, 0.124467224, 0.0...</td>\n",
       "    </tr>\n",
       "    <tr>\n",
       "      <th>4</th>\n",
       "      <td>3102</td>\n",
       "      <td>[[0.0, 0.0, 1.414273, 0.0, 2.8978157, 0.0, 0.0...</td>\n",
       "    </tr>\n",
       "  </tbody>\n",
       "</table>\n",
       "</div>"
      ],
      "text/plain": [
       "  Image Id                                      Image Feature\n",
       "0     3177  [[3.3125296, 0.0, 0.0, 2.2000487, 0.34471732, ...\n",
       "1     3172  [[0.0, 0.0, 0.14208671, 2.8226347, 0.0, 0.0, 0...\n",
       "2     3162  [[0.0, 1.0850376, 1.7213755, 0.0, 0.0, 0.0, 0....\n",
       "3     3198  [[0.0, 0.0, 0.094326496, 0.0, 0.124467224, 0.0...\n",
       "4     3102  [[0.0, 0.0, 1.414273, 0.0, 2.8978157, 0.0, 0.0..."
      ]
     },
     "execution_count": 11,
     "metadata": {},
     "output_type": "execute_result"
    }
   ],
   "source": [
    "import pandas as pd\n",
    "df=pd.DataFrame(features, columns=['Image Id','Image Feature'])\n",
    "df.info()\n",
    "df.head()"
   ]
  },
  {
   "cell_type": "markdown",
   "metadata": {
    "id": "i_3LfKheKqK2"
   },
   "source": [
    "# Load Captions"
   ]
  },
  {
   "cell_type": "code",
   "execution_count": 12,
   "metadata": {
    "colab": {
     "base_uri": "https://localhost:8080/"
    },
    "executionInfo": {
     "elapsed": 839,
     "status": "ok",
     "timestamp": 1659425772104,
     "user": {
      "displayName": "Sajib Kumar Saha Joy",
      "userId": "00306887839544176354"
     },
     "user_tz": -360
    },
    "id": "Fc7hNAcmKqK3",
    "outputId": "f37d4be7-eb4a-46c7-85cb-3d0bc2888028"
   },
   "outputs": [
    {
     "name": "stderr",
     "output_type": "stream",
     "text": [
      "100%|██████████| 20439/20439 [00:00<00:00, 583850.68it/s]\n"
     ]
    }
   ],
   "source": [
    "def load_caption(filename):\n",
    "    with open(filename,'r',encoding=\"utf8\") as fp:\n",
    "        text=fp.read()\n",
    "    mapping = {}\n",
    "    for line in tqdm(text.split('\\n')):\n",
    "        tokens = line.split()\n",
    "        if len(line) < 2: # There can be missing caption or blank line\n",
    "            continue\n",
    "        image_id, image_caption = tokens[0], tokens[1:] # first token -> image id, from 2nd one-> Caption\n",
    "        image_id = image_id.split('.')[0]\n",
    "        image_caption = ' '.join(image_caption) # converting all the caption token to sentense\n",
    "        if image_id not in mapping:\n",
    "            mapping[image_id] = [list()] # Creating a list againest each image as there can be multiple caption for single image\n",
    "        mapping[image_id][0].append(image_caption)\n",
    "    return mapping\n",
    "file_dir=r\"Bornon_Dataset-main/textFile/bornon_all_token.txt\"\n",
    "captions = load_caption(file_dir)"
   ]
  },
  {
   "cell_type": "code",
   "execution_count": 13,
   "metadata": {
    "colab": {
     "base_uri": "https://localhost:8080/",
     "height": 424
    },
    "executionInfo": {
     "elapsed": 19,
     "status": "ok",
     "timestamp": 1659425772105,
     "user": {
      "displayName": "Sajib Kumar Saha Joy",
      "userId": "00306887839544176354"
     },
     "user_tz": -360
    },
    "id": "wbWLfCY2KqK6",
    "outputId": "5cdc3b52-3110-4778-a184-a5f30ba1846e"
   },
   "outputs": [
    {
     "data": {
      "text/html": [
       "<div>\n",
       "<style scoped>\n",
       "    .dataframe tbody tr th:only-of-type {\n",
       "        vertical-align: middle;\n",
       "    }\n",
       "\n",
       "    .dataframe tbody tr th {\n",
       "        vertical-align: top;\n",
       "    }\n",
       "\n",
       "    .dataframe thead th {\n",
       "        text-align: right;\n",
       "    }\n",
       "</style>\n",
       "<table border=\"1\" class=\"dataframe\">\n",
       "  <thead>\n",
       "    <tr style=\"text-align: right;\">\n",
       "      <th></th>\n",
       "      <th>Image Id</th>\n",
       "      <th>Image Feature</th>\n",
       "      <th>Caption</th>\n",
       "    </tr>\n",
       "  </thead>\n",
       "  <tbody>\n",
       "    <tr>\n",
       "      <th>0</th>\n",
       "      <td>3177</td>\n",
       "      <td>[[3.3125296, 0.0, 0.0, 2.2000487, 0.34471732, ...</td>\n",
       "      <td>[[চারটি চায়ের কাপ রয়েছে ।, চায়ের কাপে চা ঢা...</td>\n",
       "    </tr>\n",
       "    <tr>\n",
       "      <th>1</th>\n",
       "      <td>3172</td>\n",
       "      <td>[[0.0, 0.0, 0.14208671, 2.8226347, 0.0, 0.0, 0...</td>\n",
       "      <td>[[একটি বড় নৌকা রয়েছে ।, ডাঙ্গা একটি বড় নৌকা...</td>\n",
       "    </tr>\n",
       "    <tr>\n",
       "      <th>2</th>\n",
       "      <td>3162</td>\n",
       "      <td>[[0.0, 1.0850376, 1.7213755, 0.0, 0.0, 0.0, 0....</td>\n",
       "      <td>[[একটি ট্রেন আসছে ।, দু'ধারে ফসলি জমির মাঝে রে...</td>\n",
       "    </tr>\n",
       "    <tr>\n",
       "      <th>3</th>\n",
       "      <td>3198</td>\n",
       "      <td>[[0.0, 0.0, 0.094326496, 0.0, 0.124467224, 0.0...</td>\n",
       "      <td>[[সাগরে চর জেগেছে ।, সাগর চরে কিছু নৌকা বাঁধা ...</td>\n",
       "    </tr>\n",
       "    <tr>\n",
       "      <th>4</th>\n",
       "      <td>3102</td>\n",
       "      <td>[[0.0, 0.0, 1.414273, 0.0, 2.8978157, 0.0, 0.0...</td>\n",
       "      <td>[[একটি পাখি আছে ।, একটি কালো পাখি আছে ।, একটি ...</td>\n",
       "    </tr>\n",
       "    <tr>\n",
       "      <th>...</th>\n",
       "      <td>...</td>\n",
       "      <td>...</td>\n",
       "      <td>...</td>\n",
       "    </tr>\n",
       "    <tr>\n",
       "      <th>4101</th>\n",
       "      <td>218</td>\n",
       "      <td>[[0.0, 0.0, 0.0, 1.5800617, 0.0, 0.0, 0.0, 0.0...</td>\n",
       "      <td>[[কিছু নাস্তার প্লেট দেখা যাচ্ছে ।, একটি ফ্লোর...</td>\n",
       "    </tr>\n",
       "    <tr>\n",
       "      <th>4102</th>\n",
       "      <td>273</td>\n",
       "      <td>[[0.27854258, 0.0, 0.9427728, 0.0, 0.0, 0.0, 0...</td>\n",
       "      <td>[[কায়াকিঙ্গের একটি মুহূর্ত ।, কয়েকজন মানুষের ক...</td>\n",
       "    </tr>\n",
       "    <tr>\n",
       "      <th>4103</th>\n",
       "      <td>120</td>\n",
       "      <td>[[0.027016878, 0.0, 0.0, 0.0, 2.251215, 0.0, 0...</td>\n",
       "      <td>[[আবছা ভাবে একজন মানুষ ও শিশু দেখা যাচ্ছে ।, আ...</td>\n",
       "    </tr>\n",
       "    <tr>\n",
       "      <th>4104</th>\n",
       "      <td>281</td>\n",
       "      <td>[[0.0, 0.0, 1.3625104, 0.58974487, 1.2960742, ...</td>\n",
       "      <td>[[কাশফুলে ঢাকা একটি মাঠ দেখা যাচ্ছে ।, কাশফুলে...</td>\n",
       "    </tr>\n",
       "    <tr>\n",
       "      <th>4105</th>\n",
       "      <td>285</td>\n",
       "      <td>[[0.016659737, 0.0, 0.0, 0.0, 0.0, 0.8395976, ...</td>\n",
       "      <td>[[একজন ছেলের হাতে একটি ঘড়ি দেখা যাচ্ছে ।, একটি...</td>\n",
       "    </tr>\n",
       "  </tbody>\n",
       "</table>\n",
       "<p>4106 rows × 3 columns</p>\n",
       "</div>"
      ],
      "text/plain": [
       "     Image Id                                      Image Feature  \\\n",
       "0        3177  [[3.3125296, 0.0, 0.0, 2.2000487, 0.34471732, ...   \n",
       "1        3172  [[0.0, 0.0, 0.14208671, 2.8226347, 0.0, 0.0, 0...   \n",
       "2        3162  [[0.0, 1.0850376, 1.7213755, 0.0, 0.0, 0.0, 0....   \n",
       "3        3198  [[0.0, 0.0, 0.094326496, 0.0, 0.124467224, 0.0...   \n",
       "4        3102  [[0.0, 0.0, 1.414273, 0.0, 2.8978157, 0.0, 0.0...   \n",
       "...       ...                                                ...   \n",
       "4101      218  [[0.0, 0.0, 0.0, 1.5800617, 0.0, 0.0, 0.0, 0.0...   \n",
       "4102      273  [[0.27854258, 0.0, 0.9427728, 0.0, 0.0, 0.0, 0...   \n",
       "4103      120  [[0.027016878, 0.0, 0.0, 0.0, 2.251215, 0.0, 0...   \n",
       "4104      281  [[0.0, 0.0, 1.3625104, 0.58974487, 1.2960742, ...   \n",
       "4105      285  [[0.016659737, 0.0, 0.0, 0.0, 0.0, 0.8395976, ...   \n",
       "\n",
       "                                                Caption  \n",
       "0     [[চারটি চায়ের কাপ রয়েছে ।, চায়ের কাপে চা ঢা...  \n",
       "1     [[একটি বড় নৌকা রয়েছে ।, ডাঙ্গা একটি বড় নৌকা...  \n",
       "2     [[একটি ট্রেন আসছে ।, দু'ধারে ফসলি জমির মাঝে রে...  \n",
       "3     [[সাগরে চর জেগেছে ।, সাগর চরে কিছু নৌকা বাঁধা ...  \n",
       "4     [[একটি পাখি আছে ।, একটি কালো পাখি আছে ।, একটি ...  \n",
       "...                                                 ...  \n",
       "4101  [[কিছু নাস্তার প্লেট দেখা যাচ্ছে ।, একটি ফ্লোর...  \n",
       "4102  [[কায়াকিঙ্গের একটি মুহূর্ত ।, কয়েকজন মানুষের ক...  \n",
       "4103  [[আবছা ভাবে একজন মানুষ ও শিশু দেখা যাচ্ছে ।, আ...  \n",
       "4104  [[কাশফুলে ঢাকা একটি মাঠ দেখা যাচ্ছে ।, কাশফুলে...  \n",
       "4105  [[একজন ছেলের হাতে একটি ঘড়ি দেখা যাচ্ছে ।, একটি...  \n",
       "\n",
       "[4106 rows x 3 columns]"
      ]
     },
     "execution_count": 13,
     "metadata": {},
     "output_type": "execute_result"
    }
   ],
   "source": [
    "df['Caption']=df['Image Id'].copy()\n",
    "df['Caption']=df['Caption'].map(captions)\n",
    "df"
   ]
  },
  {
   "cell_type": "markdown",
   "metadata": {
    "id": "9Cv1zJZufaVp"
   },
   "source": [
    "# Preprocessing Caption"
   ]
  },
  {
   "cell_type": "code",
   "execution_count": 14,
   "metadata": {
    "colab": {
     "base_uri": "https://localhost:8080/",
     "height": 424
    },
    "executionInfo": {
     "elapsed": 19,
     "status": "ok",
     "timestamp": 1659425772106,
     "user": {
      "displayName": "Sajib Kumar Saha Joy",
      "userId": "00306887839544176354"
     },
     "user_tz": -360
    },
    "id": "bUZnrambfclo",
    "outputId": "7de0100c-edd4-45f2-e78d-312ad6c8b39c"
   },
   "outputs": [
    {
     "data": {
      "text/html": [
       "<div>\n",
       "<style scoped>\n",
       "    .dataframe tbody tr th:only-of-type {\n",
       "        vertical-align: middle;\n",
       "    }\n",
       "\n",
       "    .dataframe tbody tr th {\n",
       "        vertical-align: top;\n",
       "    }\n",
       "\n",
       "    .dataframe thead th {\n",
       "        text-align: right;\n",
       "    }\n",
       "</style>\n",
       "<table border=\"1\" class=\"dataframe\">\n",
       "  <thead>\n",
       "    <tr style=\"text-align: right;\">\n",
       "      <th></th>\n",
       "      <th>Image Id</th>\n",
       "      <th>Image Feature</th>\n",
       "      <th>Caption</th>\n",
       "    </tr>\n",
       "  </thead>\n",
       "  <tbody>\n",
       "    <tr>\n",
       "      <th>0</th>\n",
       "      <td>3177</td>\n",
       "      <td>[[3.3125296, 0.0, 0.0, 2.2000487, 0.34471732, ...</td>\n",
       "      <td>[[startseq চারটি চায়ের কাপ রয়েছে । endseq , ...</td>\n",
       "    </tr>\n",
       "    <tr>\n",
       "      <th>1</th>\n",
       "      <td>3172</td>\n",
       "      <td>[[0.0, 0.0, 0.14208671, 2.8226347, 0.0, 0.0, 0...</td>\n",
       "      <td>[[startseq একটি বড় নৌকা রয়েছে । endseq , sta...</td>\n",
       "    </tr>\n",
       "    <tr>\n",
       "      <th>2</th>\n",
       "      <td>3162</td>\n",
       "      <td>[[0.0, 1.0850376, 1.7213755, 0.0, 0.0, 0.0, 0....</td>\n",
       "      <td>[[startseq একটি ট্রেন আসছে । endseq , startseq...</td>\n",
       "    </tr>\n",
       "    <tr>\n",
       "      <th>3</th>\n",
       "      <td>3198</td>\n",
       "      <td>[[0.0, 0.0, 0.094326496, 0.0, 0.124467224, 0.0...</td>\n",
       "      <td>[[startseq সাগরে চর জেগেছে । endseq , startseq...</td>\n",
       "    </tr>\n",
       "    <tr>\n",
       "      <th>4</th>\n",
       "      <td>3102</td>\n",
       "      <td>[[0.0, 0.0, 1.414273, 0.0, 2.8978157, 0.0, 0.0...</td>\n",
       "      <td>[[startseq একটি পাখি আছে । endseq , startseq এ...</td>\n",
       "    </tr>\n",
       "    <tr>\n",
       "      <th>...</th>\n",
       "      <td>...</td>\n",
       "      <td>...</td>\n",
       "      <td>...</td>\n",
       "    </tr>\n",
       "    <tr>\n",
       "      <th>4101</th>\n",
       "      <td>218</td>\n",
       "      <td>[[0.0, 0.0, 0.0, 1.5800617, 0.0, 0.0, 0.0, 0.0...</td>\n",
       "      <td>[[startseq কিছু নাস্তার প্লেট দেখা যাচ্ছে । en...</td>\n",
       "    </tr>\n",
       "    <tr>\n",
       "      <th>4102</th>\n",
       "      <td>273</td>\n",
       "      <td>[[0.27854258, 0.0, 0.9427728, 0.0, 0.0, 0.0, 0...</td>\n",
       "      <td>[[startseq কায়াকিঙ্গের একটি মুহূর্ত । endseq ,...</td>\n",
       "    </tr>\n",
       "    <tr>\n",
       "      <th>4103</th>\n",
       "      <td>120</td>\n",
       "      <td>[[0.027016878, 0.0, 0.0, 0.0, 2.251215, 0.0, 0...</td>\n",
       "      <td>[[startseq আবছা ভাবে একজন মানুষ ও শিশু দেখা যা...</td>\n",
       "    </tr>\n",
       "    <tr>\n",
       "      <th>4104</th>\n",
       "      <td>281</td>\n",
       "      <td>[[0.0, 0.0, 1.3625104, 0.58974487, 1.2960742, ...</td>\n",
       "      <td>[[startseq কাশফুলে ঢাকা একটি মাঠ দেখা যাচ্ছে ।...</td>\n",
       "    </tr>\n",
       "    <tr>\n",
       "      <th>4105</th>\n",
       "      <td>285</td>\n",
       "      <td>[[0.016659737, 0.0, 0.0, 0.0, 0.0, 0.8395976, ...</td>\n",
       "      <td>[[startseq একজন ছেলের হাতে একটি ঘড়ি দেখা যাচ্ছ...</td>\n",
       "    </tr>\n",
       "  </tbody>\n",
       "</table>\n",
       "<p>4088 rows × 3 columns</p>\n",
       "</div>"
      ],
      "text/plain": [
       "     Image Id                                      Image Feature  \\\n",
       "0        3177  [[3.3125296, 0.0, 0.0, 2.2000487, 0.34471732, ...   \n",
       "1        3172  [[0.0, 0.0, 0.14208671, 2.8226347, 0.0, 0.0, 0...   \n",
       "2        3162  [[0.0, 1.0850376, 1.7213755, 0.0, 0.0, 0.0, 0....   \n",
       "3        3198  [[0.0, 0.0, 0.094326496, 0.0, 0.124467224, 0.0...   \n",
       "4        3102  [[0.0, 0.0, 1.414273, 0.0, 2.8978157, 0.0, 0.0...   \n",
       "...       ...                                                ...   \n",
       "4101      218  [[0.0, 0.0, 0.0, 1.5800617, 0.0, 0.0, 0.0, 0.0...   \n",
       "4102      273  [[0.27854258, 0.0, 0.9427728, 0.0, 0.0, 0.0, 0...   \n",
       "4103      120  [[0.027016878, 0.0, 0.0, 0.0, 2.251215, 0.0, 0...   \n",
       "4104      281  [[0.0, 0.0, 1.3625104, 0.58974487, 1.2960742, ...   \n",
       "4105      285  [[0.016659737, 0.0, 0.0, 0.0, 0.0, 0.8395976, ...   \n",
       "\n",
       "                                                Caption  \n",
       "0     [[startseq চারটি চায়ের কাপ রয়েছে । endseq , ...  \n",
       "1     [[startseq একটি বড় নৌকা রয়েছে । endseq , sta...  \n",
       "2     [[startseq একটি ট্রেন আসছে । endseq , startseq...  \n",
       "3     [[startseq সাগরে চর জেগেছে । endseq , startseq...  \n",
       "4     [[startseq একটি পাখি আছে । endseq , startseq এ...  \n",
       "...                                                 ...  \n",
       "4101  [[startseq কিছু নাস্তার প্লেট দেখা যাচ্ছে । en...  \n",
       "4102  [[startseq কায়াকিঙ্গের একটি মুহূর্ত । endseq ,...  \n",
       "4103  [[startseq আবছা ভাবে একজন মানুষ ও শিশু দেখা যা...  \n",
       "4104  [[startseq কাশফুলে ঢাকা একটি মাঠ দেখা যাচ্ছে ।...  \n",
       "4105  [[startseq একজন ছেলের হাতে একটি ঘড়ি দেখা যাচ্ছ...  \n",
       "\n",
       "[4088 rows x 3 columns]"
      ]
     },
     "execution_count": 14,
     "metadata": {},
     "output_type": "execute_result"
    }
   ],
   "source": [
    "import re\n",
    "import string\n",
    "\n",
    "df.dropna(subset = [\"Caption\"], inplace=True)\n",
    "\n",
    "def preprocess_caption(image_captions):\n",
    "    updated_captions=[]\n",
    "    # print(image_captions)\n",
    "    for caption in image_captions[0]: #we used image_captions[0] instead of image_captions to unwraping the outer []\n",
    "        caption = caption.strip()\n",
    "        caption = \" \".join(caption.split())\n",
    "\n",
    "        remove = string.punctuation\n",
    "        remove = remove.replace(\"|\", \"\") # don't remove hyphens\n",
    "        pattern = r\"[{}]\".format(remove) # create the pattern\n",
    "        caption = re.sub(pattern, \"\", caption) \n",
    "        caption = re.sub(' +', ' ', caption)\n",
    "        updated_captions.append('startseq '+caption+' endseq ')\n",
    "    return [updated_captions]  \n",
    "df['Caption']=df['Caption'].apply(lambda img_captions:preprocess_caption(img_captions))\n",
    "df"
   ]
  },
  {
   "cell_type": "code",
   "execution_count": 15,
   "metadata": {
    "colab": {
     "base_uri": "https://localhost:8080/",
     "height": 352
    },
    "executionInfo": {
     "elapsed": 18,
     "status": "ok",
     "timestamp": 1659425772106,
     "user": {
      "displayName": "Sajib Kumar Saha Joy",
      "userId": "00306887839544176354"
     },
     "user_tz": -360
    },
    "id": "pn7WkbVdfjA6",
    "outputId": "4535f560-1e49-4a33-e779-c315bf29d250"
   },
   "outputs": [
    {
     "name": "stdout",
     "output_type": "stream",
     "text": [
      "Image Id         0\n",
      "Image Feature    0\n",
      "Caption          0\n",
      "dtype: int64\n"
     ]
    },
    {
     "data": {
      "text/plain": [
       "<AxesSubplot:>"
      ]
     },
     "execution_count": 15,
     "metadata": {},
     "output_type": "execute_result"
    },
    {
     "data": {
      "image/png": "[encoded data removed]",
      "text/plain": [
       "<Figure size 432x288 with 1 Axes>"
      ]
     },
     "metadata": {
      "needs_background": "light"
     },
     "output_type": "display_data"
    }
   ],
   "source": [
    "# Check if there are any missing value\n",
    "print(df.isnull().sum(axis=0))\n",
    "sns.heatmap(df.isnull(),yticklabels=False,cbar=False,cmap='viridis')"
   ]
  },
  {
   "cell_type": "markdown",
   "metadata": {
    "id": "JEprL5VBKqK-"
   },
   "source": [
    "Now we have all the data in df Dataframe"
   ]
  },
  {
   "cell_type": "markdown",
   "metadata": {
    "id": "Uoc9hxbnKqLS"
   },
   "source": [
    "# Separately Load Train Test Dev Data From Predefined Text File "
   ]
  },
  {
   "cell_type": "code",
   "execution_count": 16,
   "metadata": {
    "executionInfo": {
     "elapsed": 15,
     "status": "ok",
     "timestamp": 1659425772107,
     "user": {
      "displayName": "Sajib Kumar Saha Joy",
      "userId": "00306887839544176354"
     },
     "user_tz": -360
    },
    "id": "EUS3w7EEKqLV"
   },
   "outputs": [],
   "source": [
    "def get_data(file,df):\n",
    "    with open(file,'r',encoding=\"utf8\") as fp:\n",
    "        doc=fp.read()\n",
    "    data = []\n",
    "    for line in doc.split('\\n'):\n",
    "        if len(line) < 1:\n",
    "            continue\n",
    "        id = line.split('.')[0]\n",
    "        data.append(id)\n",
    "    data=set(data)\n",
    "    return df[df['Image Id'].isin(data)]    "
   ]
  },
  {
   "cell_type": "code",
   "execution_count": 17,
   "metadata": {
    "colab": {
     "base_uri": "https://localhost:8080/",
     "height": 424
    },
    "executionInfo": {
     "elapsed": 16,
     "status": "ok",
     "timestamp": 1659425772108,
     "user": {
      "displayName": "Sajib Kumar Saha Joy",
      "userId": "00306887839544176354"
     },
     "user_tz": -360
    },
    "id": "j_vkO9-oKqLY",
    "outputId": "64d8090f-c75a-4a87-c86e-9485304479d8"
   },
   "outputs": [
    {
     "data": {
      "text/html": [
       "<div>\n",
       "<style scoped>\n",
       "    .dataframe tbody tr th:only-of-type {\n",
       "        vertical-align: middle;\n",
       "    }\n",
       "\n",
       "    .dataframe tbody tr th {\n",
       "        vertical-align: top;\n",
       "    }\n",
       "\n",
       "    .dataframe thead th {\n",
       "        text-align: right;\n",
       "    }\n",
       "</style>\n",
       "<table border=\"1\" class=\"dataframe\">\n",
       "  <thead>\n",
       "    <tr style=\"text-align: right;\">\n",
       "      <th></th>\n",
       "      <th>Image Id</th>\n",
       "      <th>Image Feature</th>\n",
       "      <th>Caption</th>\n",
       "    </tr>\n",
       "  </thead>\n",
       "  <tbody>\n",
       "    <tr>\n",
       "      <th>0</th>\n",
       "      <td>3177</td>\n",
       "      <td>[[3.3125296, 0.0, 0.0, 2.2000487, 0.34471732, ...</td>\n",
       "      <td>[[startseq চারটি চায়ের কাপ রয়েছে । endseq , ...</td>\n",
       "    </tr>\n",
       "    <tr>\n",
       "      <th>2</th>\n",
       "      <td>3162</td>\n",
       "      <td>[[0.0, 1.0850376, 1.7213755, 0.0, 0.0, 0.0, 0....</td>\n",
       "      <td>[[startseq একটি ট্রেন আসছে । endseq , startseq...</td>\n",
       "    </tr>\n",
       "    <tr>\n",
       "      <th>3</th>\n",
       "      <td>3198</td>\n",
       "      <td>[[0.0, 0.0, 0.094326496, 0.0, 0.124467224, 0.0...</td>\n",
       "      <td>[[startseq সাগরে চর জেগেছে । endseq , startseq...</td>\n",
       "    </tr>\n",
       "    <tr>\n",
       "      <th>4</th>\n",
       "      <td>3102</td>\n",
       "      <td>[[0.0, 0.0, 1.414273, 0.0, 2.8978157, 0.0, 0.0...</td>\n",
       "      <td>[[startseq একটি পাখি আছে । endseq , startseq এ...</td>\n",
       "    </tr>\n",
       "    <tr>\n",
       "      <th>5</th>\n",
       "      <td>3142</td>\n",
       "      <td>[[0.0, 0.9932846, 0.30795476, 0.0, 0.0, 0.0, 2...</td>\n",
       "      <td>[[startseq বিশাল চা বাগান রয়েছে । endseq , st...</td>\n",
       "    </tr>\n",
       "    <tr>\n",
       "      <th>...</th>\n",
       "      <td>...</td>\n",
       "      <td>...</td>\n",
       "      <td>...</td>\n",
       "    </tr>\n",
       "    <tr>\n",
       "      <th>4098</th>\n",
       "      <td>99</td>\n",
       "      <td>[[0.0, 0.0, 0.0, 0.0, 0.61351717, 0.62780046, ...</td>\n",
       "      <td>[[startseq মোবাইলে কথা বলা একজন লোক । endseq ,...</td>\n",
       "    </tr>\n",
       "    <tr>\n",
       "      <th>4101</th>\n",
       "      <td>218</td>\n",
       "      <td>[[0.0, 0.0, 0.0, 1.5800617, 0.0, 0.0, 0.0, 0.0...</td>\n",
       "      <td>[[startseq কিছু নাস্তার প্লেট দেখা যাচ্ছে । en...</td>\n",
       "    </tr>\n",
       "    <tr>\n",
       "      <th>4102</th>\n",
       "      <td>273</td>\n",
       "      <td>[[0.27854258, 0.0, 0.9427728, 0.0, 0.0, 0.0, 0...</td>\n",
       "      <td>[[startseq কায়াকিঙ্গের একটি মুহূর্ত । endseq ,...</td>\n",
       "    </tr>\n",
       "    <tr>\n",
       "      <th>4103</th>\n",
       "      <td>120</td>\n",
       "      <td>[[0.027016878, 0.0, 0.0, 0.0, 2.251215, 0.0, 0...</td>\n",
       "      <td>[[startseq আবছা ভাবে একজন মানুষ ও শিশু দেখা যা...</td>\n",
       "    </tr>\n",
       "    <tr>\n",
       "      <th>4104</th>\n",
       "      <td>281</td>\n",
       "      <td>[[0.0, 0.0, 1.3625104, 0.58974487, 1.2960742, ...</td>\n",
       "      <td>[[startseq কাশফুলে ঢাকা একটি মাঠ দেখা যাচ্ছে ।...</td>\n",
       "    </tr>\n",
       "  </tbody>\n",
       "</table>\n",
       "<p>3488 rows × 3 columns</p>\n",
       "</div>"
      ],
      "text/plain": [
       "     Image Id                                      Image Feature  \\\n",
       "0        3177  [[3.3125296, 0.0, 0.0, 2.2000487, 0.34471732, ...   \n",
       "2        3162  [[0.0, 1.0850376, 1.7213755, 0.0, 0.0, 0.0, 0....   \n",
       "3        3198  [[0.0, 0.0, 0.094326496, 0.0, 0.124467224, 0.0...   \n",
       "4        3102  [[0.0, 0.0, 1.414273, 0.0, 2.8978157, 0.0, 0.0...   \n",
       "5        3142  [[0.0, 0.9932846, 0.30795476, 0.0, 0.0, 0.0, 2...   \n",
       "...       ...                                                ...   \n",
       "4098       99  [[0.0, 0.0, 0.0, 0.0, 0.61351717, 0.62780046, ...   \n",
       "4101      218  [[0.0, 0.0, 0.0, 1.5800617, 0.0, 0.0, 0.0, 0.0...   \n",
       "4102      273  [[0.27854258, 0.0, 0.9427728, 0.0, 0.0, 0.0, 0...   \n",
       "4103      120  [[0.027016878, 0.0, 0.0, 0.0, 2.251215, 0.0, 0...   \n",
       "4104      281  [[0.0, 0.0, 1.3625104, 0.58974487, 1.2960742, ...   \n",
       "\n",
       "                                                Caption  \n",
       "0     [[startseq চারটি চায়ের কাপ রয়েছে । endseq , ...  \n",
       "2     [[startseq একটি ট্রেন আসছে । endseq , startseq...  \n",
       "3     [[startseq সাগরে চর জেগেছে । endseq , startseq...  \n",
       "4     [[startseq একটি পাখি আছে । endseq , startseq এ...  \n",
       "5     [[startseq বিশাল চা বাগান রয়েছে । endseq , st...  \n",
       "...                                                 ...  \n",
       "4098  [[startseq মোবাইলে কথা বলা একজন লোক । endseq ,...  \n",
       "4101  [[startseq কিছু নাস্তার প্লেট দেখা যাচ্ছে । en...  \n",
       "4102  [[startseq কায়াকিঙ্গের একটি মুহূর্ত । endseq ,...  \n",
       "4103  [[startseq আবছা ভাবে একজন মানুষ ও শিশু দেখা যা...  \n",
       "4104  [[startseq কাশফুলে ঢাকা একটি মাঠ দেখা যাচ্ছে ।...  \n",
       "\n",
       "[3488 rows x 3 columns]"
      ]
     },
     "execution_count": 17,
     "metadata": {},
     "output_type": "execute_result"
    }
   ],
   "source": [
    "# Load Training Data\n",
    "filename =r\"Bornon_Dataset-main/textFile/bornon_train_token.txt\"\n",
    "train = get_data(filename,df)\n",
    "train"
   ]
  },
  {
   "cell_type": "code",
   "execution_count": 18,
   "metadata": {
    "executionInfo": {
     "elapsed": 16,
     "status": "ok",
     "timestamp": 1659425772109,
     "user": {
      "displayName": "Sajib Kumar Saha Joy",
      "userId": "00306887839544176354"
     },
     "user_tz": -360
    },
    "id": "oZ18TGzuKqLb"
   },
   "outputs": [],
   "source": [
    "# # Load Dev Data\n",
    "# filename = '/kaggle/input/flicker8k-dataset/Flickr8k_text/Flickr_8k.testImages.txt'\n",
    "# dev = get_data(filename,df)\n",
    "# dev"
   ]
  },
  {
   "cell_type": "code",
   "execution_count": 19,
   "metadata": {
    "colab": {
     "base_uri": "https://localhost:8080/",
     "height": 424
    },
    "executionInfo": {
     "elapsed": 425,
     "status": "ok",
     "timestamp": 1659425772519,
     "user": {
      "displayName": "Sajib Kumar Saha Joy",
      "userId": "00306887839544176354"
     },
     "user_tz": -360
    },
    "id": "1KJ6hf-YKqLd",
    "outputId": "713ec5a9-0025-4b1f-8501-3052f7cd5a31"
   },
   "outputs": [
    {
     "data": {
      "text/html": [
       "<div>\n",
       "<style scoped>\n",
       "    .dataframe tbody tr th:only-of-type {\n",
       "        vertical-align: middle;\n",
       "    }\n",
       "\n",
       "    .dataframe tbody tr th {\n",
       "        vertical-align: top;\n",
       "    }\n",
       "\n",
       "    .dataframe thead th {\n",
       "        text-align: right;\n",
       "    }\n",
       "</style>\n",
       "<table border=\"1\" class=\"dataframe\">\n",
       "  <thead>\n",
       "    <tr style=\"text-align: right;\">\n",
       "      <th></th>\n",
       "      <th>Image Id</th>\n",
       "      <th>Image Feature</th>\n",
       "      <th>Caption</th>\n",
       "    </tr>\n",
       "  </thead>\n",
       "  <tbody>\n",
       "    <tr>\n",
       "      <th>1</th>\n",
       "      <td>3172</td>\n",
       "      <td>[[0.0, 0.0, 0.14208671, 2.8226347, 0.0, 0.0, 0...</td>\n",
       "      <td>[[startseq একটি বড় নৌকা রয়েছে । endseq , sta...</td>\n",
       "    </tr>\n",
       "    <tr>\n",
       "      <th>14</th>\n",
       "      <td>3107</td>\n",
       "      <td>[[0.0, 1.4762948, 0.0, 5.9642463, 0.0, 0.0, 1....</td>\n",
       "      <td>[[startseq বনে দুটি বাঘ রয়েছে । endseq , star...</td>\n",
       "    </tr>\n",
       "    <tr>\n",
       "      <th>16</th>\n",
       "      <td>3151</td>\n",
       "      <td>[[1.7288276, 0.0, 0.0, 0.0, 5.1389303, 0.0, 1....</td>\n",
       "      <td>[[startseq দুইজন ব্যক্তি রয়েছে । endseq , sta...</td>\n",
       "    </tr>\n",
       "    <tr>\n",
       "      <th>37</th>\n",
       "      <td>3110</td>\n",
       "      <td>[[0.0, 0.0, 3.423864, 0.0, 4.2561307, 0.0, 1.2...</td>\n",
       "      <td>[[startseq একটি পাখি আছে । endseq , startseq এ...</td>\n",
       "    </tr>\n",
       "    <tr>\n",
       "      <th>39</th>\n",
       "      <td>3169</td>\n",
       "      <td>[[0.24135035, 0.9604883, 0.0, 0.42227882, 2.26...</td>\n",
       "      <td>[[startseq জলাভূমিতে কিচ্ছু নৌকা সাজানো রয়েছে...</td>\n",
       "    </tr>\n",
       "    <tr>\n",
       "      <th>...</th>\n",
       "      <td>...</td>\n",
       "      <td>...</td>\n",
       "      <td>...</td>\n",
       "    </tr>\n",
       "    <tr>\n",
       "      <th>4078</th>\n",
       "      <td>64</td>\n",
       "      <td>[[1.8009146, 0.0, 2.4705272, 0.0, 0.0, 0.37894...</td>\n",
       "      <td>[[startseq শিশুর চোখের নিষ্পাপ চাহনি । endseq ...</td>\n",
       "    </tr>\n",
       "    <tr>\n",
       "      <th>4081</th>\n",
       "      <td>73</td>\n",
       "      <td>[[0.72557825, 0.0, 0.0, 0.0, 0.0, 0.0, 3.11689...</td>\n",
       "      <td>[[startseq চেনা গন্তব্বে অচেনার খোঁজে । endseq...</td>\n",
       "    </tr>\n",
       "    <tr>\n",
       "      <th>4099</th>\n",
       "      <td>89</td>\n",
       "      <td>[[0.0, 0.34387177, 0.13793707, 0.09150568, 2.2...</td>\n",
       "      <td>[[startseq রোদৌজ্জ্বল দুপুরের ক্লান্ত পথিক । e...</td>\n",
       "    </tr>\n",
       "    <tr>\n",
       "      <th>4100</th>\n",
       "      <td>95</td>\n",
       "      <td>[[0.71901274, 5.3003306, 0.8062901, 0.0, 0.718...</td>\n",
       "      <td>[[startseq ব্ব্রিজ পার করতে থাকা একটি ট্রেন । ...</td>\n",
       "    </tr>\n",
       "    <tr>\n",
       "      <th>4105</th>\n",
       "      <td>285</td>\n",
       "      <td>[[0.016659737, 0.0, 0.0, 0.0, 0.0, 0.8395976, ...</td>\n",
       "      <td>[[startseq একজন ছেলের হাতে একটি ঘড়ি দেখা যাচ্ছ...</td>\n",
       "    </tr>\n",
       "  </tbody>\n",
       "</table>\n",
       "<p>600 rows × 3 columns</p>\n",
       "</div>"
      ],
      "text/plain": [
       "     Image Id                                      Image Feature  \\\n",
       "1        3172  [[0.0, 0.0, 0.14208671, 2.8226347, 0.0, 0.0, 0...   \n",
       "14       3107  [[0.0, 1.4762948, 0.0, 5.9642463, 0.0, 0.0, 1....   \n",
       "16       3151  [[1.7288276, 0.0, 0.0, 0.0, 5.1389303, 0.0, 1....   \n",
       "37       3110  [[0.0, 0.0, 3.423864, 0.0, 4.2561307, 0.0, 1.2...   \n",
       "39       3169  [[0.24135035, 0.9604883, 0.0, 0.42227882, 2.26...   \n",
       "...       ...                                                ...   \n",
       "4078       64  [[1.8009146, 0.0, 2.4705272, 0.0, 0.0, 0.37894...   \n",
       "4081       73  [[0.72557825, 0.0, 0.0, 0.0, 0.0, 0.0, 3.11689...   \n",
       "4099       89  [[0.0, 0.34387177, 0.13793707, 0.09150568, 2.2...   \n",
       "4100       95  [[0.71901274, 5.3003306, 0.8062901, 0.0, 0.718...   \n",
       "4105      285  [[0.016659737, 0.0, 0.0, 0.0, 0.0, 0.8395976, ...   \n",
       "\n",
       "                                                Caption  \n",
       "1     [[startseq একটি বড় নৌকা রয়েছে । endseq , sta...  \n",
       "14    [[startseq বনে দুটি বাঘ রয়েছে । endseq , star...  \n",
       "16    [[startseq দুইজন ব্যক্তি রয়েছে । endseq , sta...  \n",
       "37    [[startseq একটি পাখি আছে । endseq , startseq এ...  \n",
       "39    [[startseq জলাভূমিতে কিচ্ছু নৌকা সাজানো রয়েছে...  \n",
       "...                                                 ...  \n",
       "4078  [[startseq শিশুর চোখের নিষ্পাপ চাহনি । endseq ...  \n",
       "4081  [[startseq চেনা গন্তব্বে অচেনার খোঁজে । endseq...  \n",
       "4099  [[startseq রোদৌজ্জ্বল দুপুরের ক্লান্ত পথিক । e...  \n",
       "4100  [[startseq ব্ব্রিজ পার করতে থাকা একটি ট্রেন । ...  \n",
       "4105  [[startseq একজন ছেলের হাতে একটি ঘড়ি দেখা যাচ্ছ...  \n",
       "\n",
       "[600 rows x 3 columns]"
      ]
     },
     "execution_count": 19,
     "metadata": {},
     "output_type": "execute_result"
    }
   ],
   "source": [
    "# Load Test Data\n",
    "filename = r\"Bornon_Dataset-main/textFile/bornon_test_token.txt\"\n",
    "test = get_data(filename,df)\n",
    "test"
   ]
  },
  {
   "cell_type": "markdown",
   "metadata": {
    "id": "zQfpSam4KqLg"
   },
   "source": [
    "# Defining Some Helper Function"
   ]
  },
  {
   "cell_type": "code",
   "execution_count": 20,
   "metadata": {
    "colab": {
     "base_uri": "https://localhost:8080/",
     "height": 792,
     "referenced_widgets": [
      "b6262428896e4c039996c5eb12d93df9",
      "44388403c0094726a751c06fa2f5afe2",
      "f74b427c3fee448ca962de11cb2a3870",
      "363663d32a164001859a92a5142add21",
      "0fd726d01a5b44669b10dff472fa8e75",
      "6688a75ddc2b47b9984f8f0b76e16632",
      "6df8f7e45c8f4c2883e6d90897f64d4a",
      "0a743870d04b454eb7cd8e8b53606745",
      "865efc731570481a8d1e2a8347950135",
      "fd86cabc49b44c8ca9ee96f82293048f",
      "354a7d9dfd4644bd8907fe8a88cfad18",
      "6310b0e26f5d4e348d3ae74c2fc3dbac",
      "e226b072068a4aaab922893e817975ef",
      "45a5a4a68ff54d46afb1bf034660a802",
      "aa2ace35c9214bdea9178b44d3df7d28",
      "0954811ec7f148cd994aa5bd862ec3be",
      "8cfd973ca07540c6ad1946b4660e87c1",
      "a223afc8d2cb414cbe26c1fc0858f55f",
      "8f7c9b23f8d34c3bb6b2e2f3ebbc74f4",
      "242acea326ab40ad9a9c295ea1859312",
      "026e998b52f54005b3b3d5b2cce7ccb9",
      "4aae3d36a44742928997752f96463ea4",
      "be2c3df55d4649319bd880b0992e6abf",
      "558d5f8d214349a5b651ff5170766e31",
      "a619cbd594884f919f8c335e3bbe219b",
      "b94c6c7b6a3141f7b31bd12efdbc8a06",
      "1b0d03b6181c41a1a1d3c0124c4eac09",
      "f789e864b6b14fadb4c7636ec197bcb6",
      "78eba9b6d012492b8efd7210ac1564ea",
      "0044219393414084b24278970035f030",
      "c6cb0856b24f4a13b768b2cd6899e895",
      "f5b0d5f3ebc54bc6b42d09387f7ed225",
      "d95bb4b269d9498384135055d600097a"
     ]
    },
    "executionInfo": {
     "elapsed": 35355,
     "status": "ok",
     "timestamp": 1659425807870,
     "user": {
      "displayName": "Sajib Kumar Saha Joy",
      "userId": "00306887839544176354"
     },
     "user_tz": -360
    },
    "id": "nXDUm4N_5hwo",
    "outputId": "db8a3138-ceaa-464f-9221-3cf896c03ee1"
   },
   "outputs": [
    {
     "name": "stdout",
     "output_type": "stream",
     "text": [
      "Requirement already satisfied: transformers in c:\\users\\admin\\anaconda3\\envs\\tf_gpu\\lib\\site-packages (4.15.0)\n",
      "Requirement already satisfied: requests in c:\\users\\admin\\anaconda3\\envs\\tf_gpu\\lib\\site-packages (from transformers) (2.26.0)\n",
      "Requirement already satisfied: pyyaml>=5.1 in c:\\users\\admin\\anaconda3\\envs\\tf_gpu\\lib\\site-packages (from transformers) (6.0)\n",
      "Requirement already satisfied: huggingface-hub<1.0,>=0.1.0 in c:\\users\\admin\\anaconda3\\envs\\tf_gpu\\lib\\site-packages (from transformers) (0.4.0)\n",
      "Requirement already satisfied: sacremoses in c:\\users\\admin\\anaconda3\\envs\\tf_gpu\\lib\\site-packages (from transformers) (0.0.47)\n",
      "Requirement already satisfied: filelock in c:\\users\\admin\\anaconda3\\envs\\tf_gpu\\lib\\site-packages (from transformers) (3.4.2)\n",
      "Requirement already satisfied: numpy>=1.17 in c:\\users\\admin\\anaconda3\\envs\\tf_gpu\\lib\\site-packages (from transformers) (1.21.2)\n",
      "Requirement already satisfied: regex!=2019.12.17 in c:\\users\\admin\\anaconda3\\envs\\tf_gpu\\lib\\site-packages (from transformers) (2021.8.3)\n",
      "Requirement already satisfied: tokenizers<0.11,>=0.10.1 in c:\\users\\admin\\anaconda3\\envs\\tf_gpu\\lib\\site-packages (from transformers) (0.10.3)\n",
      "Requirement already satisfied: packaging>=20.0 in c:\\users\\admin\\anaconda3\\envs\\tf_gpu\\lib\\site-packages (from transformers) (21.0)\n",
      "Requirement already satisfied: tqdm>=4.27 in c:\\users\\admin\\anaconda3\\envs\\tf_gpu\\lib\\site-packages (from transformers) (4.62.3)\n",
      "Requirement already satisfied: typing-extensions>=3.7.4.3 in c:\\users\\admin\\anaconda3\\envs\\tf_gpu\\lib\\site-packages (from huggingface-hub<1.0,>=0.1.0->transformers) (3.10.0.2)\n",
      "Requirement already satisfied: pyparsing>=2.0.2 in c:\\users\\admin\\anaconda3\\envs\\tf_gpu\\lib\\site-packages (from packaging>=20.0->transformers) (3.0.4)\n",
      "Requirement already satisfied: colorama in c:\\users\\admin\\anaconda3\\envs\\tf_gpu\\lib\\site-packages (from tqdm>=4.27->transformers) (0.4.4)\n",
      "Requirement already satisfied: charset-normalizer~=2.0.0 in c:\\users\\admin\\anaconda3\\envs\\tf_gpu\\lib\\site-packages (from requests->transformers) (2.0.4)\n",
      "Requirement already satisfied: certifi>=2017.4.17 in c:\\users\\admin\\anaconda3\\envs\\tf_gpu\\lib\\site-packages (from requests->transformers) (2021.10.8)\n",
      "Requirement already satisfied: urllib3<1.27,>=1.21.1 in c:\\users\\admin\\anaconda3\\envs\\tf_gpu\\lib\\site-packages (from requests->transformers) (1.26.7)\n",
      "Requirement already satisfied: idna<4,>=2.5 in c:\\users\\admin\\anaconda3\\envs\\tf_gpu\\lib\\site-packages (from requests->transformers) (3.2)\n",
      "Requirement already satisfied: click in c:\\users\\admin\\anaconda3\\envs\\tf_gpu\\lib\\site-packages (from sacremoses->transformers) (8.0.3)\n",
      "Requirement already satisfied: six in c:\\users\\admin\\anaconda3\\envs\\tf_gpu\\lib\\site-packages (from sacremoses->transformers) (1.16.0)\n",
      "Requirement already satisfied: joblib in c:\\users\\admin\\anaconda3\\envs\\tf_gpu\\lib\\site-packages (from sacremoses->transformers) (1.1.0)\n"
     ]
    },
    {
     "name": "stderr",
     "output_type": "stream",
     "text": [
      "Some layers from the model checkpoint at sagorsarker/bangla-bert-base were not used when initializing TFBertModel: ['mlm___cls']\n",
      "- This IS expected if you are initializing TFBertModel from the checkpoint of a model trained on another task or with another architecture (e.g. initializing a BertForSequenceClassification model from a BertForPreTraining model).\n",
      "- This IS NOT expected if you are initializing TFBertModel from the checkpoint of a model that you expect to be exactly identical (initializing a BertForSequenceClassification model from a BertForSequenceClassification model).\n",
      "All the layers of TFBertModel were initialized from the model checkpoint at sagorsarker/bangla-bert-base.\n",
      "If your task is similar to the task the model of the checkpoint was trained on, you can already use TFBertModel for predictions without further training.\n"
     ]
    }
   ],
   "source": [
    "max_len_calculated = 64\n",
    "!pip install transformers\n",
    "from transformers import AutoModelForPreTraining, AutoTokenizer\n",
    "from transformers import BertTokenizer, TFBertModel\n",
    "import tensorflow as tf\n",
    "\n",
    "def SagorBert():\n",
    "  model = TFBertModel.from_pretrained(\"sagorsarker/bangla-bert-base\")\n",
    "  # model = TFBertModel.from_pretrained(\"bert-base-multilingual-cased\")\n",
    "  tokenizer = BertTokenizer.from_pretrained(\"sagorsarker/bangla-bert-base\")\n",
    "  # tokenizer = BertTokenizer.from_pretrained(\"bert-base-multilingual-cased\")\n",
    "  #model.eval()\n",
    "  return tokenizer, model\n",
    "bangla_tokenizer, bangla_model = SagorBert() \n",
    "def bert_encode(data):\n",
    "    tokens = bangla_tokenizer.batch_encode_plus(data, max_length=max_len_calculated, padding='max_length', truncation=True)\n",
    "    return tf.constant(tokens['input_ids'])"
   ]
  },
  {
   "cell_type": "code",
   "execution_count": 21,
   "metadata": {
    "executionInfo": {
     "elapsed": 792,
     "status": "ok",
     "timestamp": 1659427192131,
     "user": {
      "displayName": "Sajib Kumar Saha Joy",
      "userId": "00306887839544176354"
     },
     "user_tz": -360
    },
    "id": "9y7h2zQnKqLi"
   },
   "outputs": [],
   "source": [
    "from keras.preprocessing.text import Tokenizer\n",
    "from keras.preprocessing.sequence import pad_sequences\n",
    "from tensorflow.keras.utils import to_categorical\n",
    "import numpy as np\n",
    "\n",
    "\n",
    "# Covert caption column to a list of captions\n",
    "def to_lines(captions):\n",
    "    all_caption = []\n",
    "    for caption in captions:\n",
    "        [all_caption.append(data) for data in caption[0]] # Again, we used caption[0] instead of caption to unwrap outer []\n",
    "    return all_caption\n",
    "\n",
    "\n",
    "# Fit a tokenizer to the given captions\n",
    "def create_tokenizer(captions):\n",
    "    lines = to_lines(captions)\n",
    "    tokenizer = Tokenizer(oov_token = 1)\n",
    "    tokenizer.fit_on_texts(lines)\n",
    "    return tokenizer\n",
    "\n",
    "\n",
    "# Calculate the length of the caption with most words\n",
    "def max_length(captions):\n",
    "    lines = to_lines(captions)\n",
    "    max_len=max(len(d.split()) for d in lines)\n",
    "    return max_len\n",
    "\n",
    "\n",
    "# # Create sequences of images, input sequences and output words for an image\n",
    "def create_sequences(tokenizer, max_length, caption_list, image, vocab_size):\n",
    "    X1, X2, y = [], [], []\n",
    "    \n",
    "    for caption in caption_list:\n",
    "        seq = caption.split(' ')\n",
    "        # print('###################################\\nOriginal Caption',caption)\n",
    "        \n",
    "        for i in range(1, len(seq)-1):\n",
    "            input_seq, output_seq = seq[:i], seq[i]\n",
    "            # print('Before texts_to_sequences --> inputseq -->', input_seq, '\\toutput_seq --> ', output_seq )\n",
    "            output_seq = tokenizer.texts_to_sequences([output_seq])[0] \n",
    "            # print('After texts_to_sequences --> inputseq --> ', input_seq, '\\toutput_seq --> ', output_seq )\n",
    "            \n",
    "            merged_txt = \"\"\n",
    "            for element in input_seq:\n",
    "              merged_txt = merged_txt + \" \" + element \n",
    "            input_seq = bert_encode([merged_txt])\n",
    "            # print('Merged Text: ', merged_txt)\n",
    "            # print('Bert Tokenized : ',input_seq)\n",
    "            input_seq = bangla_model(input_seq)\n",
    "            output_seq = to_categorical([output_seq], num_classes=vocab_size)[0]\n",
    "            # print('Output Sequence Onehot : ')\n",
    "            # for i, el in enumerate(output_seq):\n",
    "            #   if el != 0: \n",
    "            #     print(i)\n",
    "            # print('\\nOutput Sequence Shape : ',output_seq.shape,'Vocab Size: ', vocab_size  )\n",
    "            # print( 'input_seq[0][0].shape, output_seq.shape',input_seq[0][0].shape,output_seq.shape )\n",
    "            # print('Image',image[:5])\n",
    "            X1.append(image)\n",
    "            X2.append(input_seq[0][0])\n",
    "            y.append(output_seq)\n",
    "            # print(np.array(y).shape)\n",
    "    # print( np.array(X1).shape, np.array(X2).shape, np.array(y).reshape(-1,1).shape)\n",
    "    return np.asarray(X1), np.asarray(X2), np.asarray(y)\n",
    "\n",
    "# def create_sequences(tokenizer, max_length, caption_list, image, vocab_size):\n",
    "#     X1, X2, y = [], [], []\n",
    "    \n",
    "#     for caption in caption_list:\n",
    "#         seq = tokenizer.texts_to_sequences([caption])[0]\n",
    "#         for i in range(1, len(seq)):\n",
    "#             input_seq, output_seq = seq[:i], seq[i]\n",
    "#             input_seq = pad_sequences([input_seq], maxlen=max_length)[0]\n",
    "#             output_seq = to_categorical([output_seq], num_classes=vocab_size)[0]\n",
    "#             print(input_seq.shape,output_seq.shape )\n",
    "#             X1.append(image)\n",
    "#             X2.append(input_seq)\n",
    "#             y.append(output_seq)\n",
    "#             print(np.array(y).shape)\n",
    "#     return np.array(X1), np.array(X2), np.array(y)\n",
    "\n",
    "# Below code is used to progressively load the batch of data\n",
    "# Data generator will be called from model.fit_generator()\n",
    "# We need to use this method rather fit to work with limited resource like RAM\n",
    "def data_generator(data, tokenizer, max_length,vocab_size):\n",
    "    # Loop for ever over images\n",
    "    while 1:\n",
    "        for image_id,image_feature,image_captions in data:\n",
    "            image = image_feature[0]  # get image feature by unwraping outer []\n",
    "            # print(image_id, '-----',image[:5])\n",
    "            caption_list=image_captions[0] # get all the captions of an image by unwraping outer []\n",
    "            # print('--------',caption_list,'--------')\n",
    "            input_img, input_seq, output_word = create_sequences(tokenizer, max_length, caption_list, image,vocab_size)\n",
    "            # print(input_img.shape, input_seq.shape, output_word.shape, '--------',type(input_img), type(input_seq), type(output_word))\n",
    "            yield [[input_img, input_seq], output_word]"
   ]
  },
  {
   "cell_type": "code",
   "execution_count": 22,
   "metadata": {
    "colab": {
     "base_uri": "https://localhost:8080/"
    },
    "executionInfo": {
     "elapsed": 14,
     "status": "ok",
     "timestamp": 1659425808475,
     "user": {
      "displayName": "Sajib Kumar Saha Joy",
      "userId": "00306887839544176354"
     },
     "user_tz": -360
    },
    "id": "Rr4TxXcLZPTD",
    "outputId": "35a701d4-b4e4-404e-f216-8796a859e10d"
   },
   "outputs": [
    {
     "data": {
      "text/plain": [
       "24"
      ]
     },
     "execution_count": 22,
     "metadata": {},
     "output_type": "execute_result"
    }
   ],
   "source": [
    "max_length(train['Caption'])"
   ]
  },
  {
   "cell_type": "markdown",
   "metadata": {
    "id": "ZFfS3kTVyTgq"
   },
   "source": [
    "# Bert"
   ]
  },
  {
   "cell_type": "markdown",
   "metadata": {
    "id": "TzIcDQ0GKqLl"
   },
   "source": [
    "# Building Model and Train"
   ]
  },
  {
   "cell_type": "code",
   "execution_count": 23,
   "metadata": {
    "executionInfo": {
     "elapsed": 486,
     "status": "ok",
     "timestamp": 1659432798575,
     "user": {
      "displayName": "Sajib Kumar Saha Joy",
      "userId": "00306887839544176354"
     },
     "user_tz": -360
    },
    "id": "nor_qD4HKqLl"
   },
   "outputs": [],
   "source": [
    "from keras.models import Model\n",
    "from keras.layers import Input\n",
    "from keras.layers import Dense\n",
    "from keras.layers import LSTM\n",
    "from keras.layers import Embedding\n",
    "from keras.layers import Dropout\n",
    "from keras.layers.merge import add\n",
    "from keras.callbacks import ModelCheckpoint\n",
    "\n",
    "def build_model(vocab_size, max_length):\n",
    "    # feature extractor model for image part\n",
    "    inputs1 = Input(shape=(4096,))\n",
    "    fe1 = Dense(512, activation='relu',kernel_initializer='he_uniform')(inputs1)\n",
    "    fe2 = Dropout(0.5)(fe1)\n",
    "    fe3 = Dense(256, activation='relu',kernel_initializer='he_uniform')(fe2)\n",
    "    # sequence model for caption\n",
    "    inputs2 = Input(shape=(max_length,768))\n",
    "  \n",
    "    se1 = inputs2\n",
    "    se2 = Dropout(0.5)(se1)\n",
    "    se3 = LSTM(256, recurrent_dropout=0.2)(se2)\n",
    "    # Mergeing Image and Sequence\n",
    "    decoder1 = add([fe3, se3])\n",
    "    decoder2 = Dense(256, activation='relu',kernel_initializer='he_uniform')(decoder1)\n",
    "    outputs = Dense(vocab_size, activation='softmax')(decoder2)\n",
    "    # Image+caption X->[image, seq]   y->[word]\n",
    "    model = Model(inputs=[inputs1, inputs2], outputs=outputs)\n",
    "    sgd = tf.keras.optimizers.Adam(lr=0.00005, beta_1=0.9,beta_2=0.999,epsilon=1e-07,amsgrad=False,name=\"Adam\")\n",
    "    model.compile(loss='categorical_crossentropy', optimizer=sgd, metrics=['accuracy'])\n",
    "    # summarize model\n",
    "    print(model.summary())\n",
    "    return model"
   ]
  },
  {
   "cell_type": "code",
   "execution_count": 24,
   "metadata": {
    "colab": {
     "base_uri": "https://localhost:8080/"
    },
    "executionInfo": {
     "elapsed": 499,
     "status": "ok",
     "timestamp": 1659432802279,
     "user": {
      "displayName": "Sajib Kumar Saha Joy",
      "userId": "00306887839544176354"
     },
     "user_tz": -360
    },
    "id": "eiB8g3lNKqLo",
    "outputId": "ed415ee1-d358-4457-aa86-d18baae31712"
   },
   "outputs": [
    {
     "name": "stdout",
     "output_type": "stream",
     "text": [
      "Train Data  3488\n",
      "[[1]]\n",
      "Vocabulary Size:  5353\n",
      "Max Length:  24\n"
     ]
    }
   ],
   "source": [
    "print('Train Data ' ,len(train))\n",
    "tokenizer = create_tokenizer(train['Caption'])\n",
    "print(tokenizer.texts_to_sequences(['জলাভূমিতে']))\n",
    "vocab_size = len(tokenizer.word_index) + 1\n",
    "print('Vocabulary Size: ' , vocab_size)\n",
    "max_len = max_length(train['Caption'])\n",
    "print('Max Length: ' , max_len)"
   ]
  },
  {
   "cell_type": "code",
   "execution_count": 25,
   "metadata": {
    "colab": {
     "base_uri": "https://localhost:8080/"
    },
    "executionInfo": {
     "elapsed": 558,
     "status": "ok",
     "timestamp": 1659427159345,
     "user": {
      "displayName": "Sajib Kumar Saha Joy",
      "userId": "00306887839544176354"
     },
     "user_tz": -360
    },
    "id": "7Ve_pY-glHCR",
    "outputId": "c3d54390-44f9-4546-a890-1da084834eab"
   },
   "outputs": [
    {
     "data": {
      "text/plain": [
       "64"
      ]
     },
     "execution_count": 25,
     "metadata": {},
     "output_type": "execute_result"
    }
   ],
   "source": [
    "max_len_calculated"
   ]
  },
  {
   "cell_type": "code",
   "execution_count": 26,
   "metadata": {
    "colab": {
     "base_uri": "https://localhost:8080/",
     "height": 1000
    },
    "executionInfo": {
     "elapsed": 1728,
     "status": "ok",
     "timestamp": 1659432808769,
     "user": {
      "displayName": "Sajib Kumar Saha Joy",
      "userId": "00306887839544176354"
     },
     "user_tz": -360
    },
    "id": "dznEWVGtKqLr",
    "outputId": "33157473-97f1-490e-d03c-ed4e270d980d"
   },
   "outputs": [
    {
     "name": "stdout",
     "output_type": "stream",
     "text": [
      "WARNING:tensorflow:Layer lstm will not use cuDNN kernels since it doesn't meet the criteria. It will use a generic GPU kernel as fallback when running on GPU.\n",
      "Model: \"model_1\"\n",
      "__________________________________________________________________________________________________\n",
      " Layer (type)                   Output Shape         Param #     Connected to                     \n",
      "==================================================================================================\n",
      " input_3 (InputLayer)           [(None, 4096)]       0           []                               \n",
      "                                                                                                  \n",
      " dense (Dense)                  (None, 512)          2097664     ['input_3[0][0]']                \n",
      "                                                                                                  \n",
      " input_4 (InputLayer)           [(None, 64, 768)]    0           []                               \n",
      "                                                                                                  \n",
      " dropout_37 (Dropout)           (None, 512)          0           ['dense[0][0]']                  \n",
      "                                                                                                  \n",
      " dropout_38 (Dropout)           (None, 64, 768)      0           ['input_4[0][0]']                \n",
      "                                                                                                  \n",
      " dense_1 (Dense)                (None, 256)          131328      ['dropout_37[0][0]']             \n",
      "                                                                                                  \n",
      " lstm (LSTM)                    (None, 256)          1049600     ['dropout_38[0][0]']             \n",
      "                                                                                                  \n",
      " add (Add)                      (None, 256)          0           ['dense_1[0][0]',                \n",
      "                                                                  'lstm[0][0]']                   \n",
      "                                                                                                  \n",
      " dense_2 (Dense)                (None, 256)          65792       ['add[0][0]']                    \n",
      "                                                                                                  \n",
      " dense_3 (Dense)                (None, 5353)         1375721     ['dense_2[0][0]']                \n",
      "                                                                                                  \n",
      "==================================================================================================\n",
      "Total params: 4,720,105\n",
      "Trainable params: 4,720,105\n",
      "Non-trainable params: 0\n",
      "__________________________________________________________________________________________________\n",
      "None\n",
      "('You must install pydot (`pip install pydot`) and install graphviz (see instructions at https://graphviz.gitlab.io/download/) ', 'for plot_model/model_to_dot to work.')\n"
     ]
    },
    {
     "name": "stderr",
     "output_type": "stream",
     "text": [
      "C:\\Users\\Admin\\anaconda3\\envs\\tf_gpu\\lib\\site-packages\\keras\\optimizer_v2\\adam.py:105: UserWarning: The `lr` argument is deprecated, use `learning_rate` instead.\n",
      "  super(Adam, self).__init__(name, **kwargs)\n"
     ]
    }
   ],
   "source": [
    "model = build_model(vocab_size, max_len_calculated)\n",
    "plot_model(model, to_file='image_captioning_model.png', show_shapes=True, show_layer_names=True) # Showing Model Description Visually"
   ]
  },
  {
   "cell_type": "code",
   "execution_count": 27,
   "metadata": {
    "executionInfo": {
     "elapsed": 896,
     "status": "ok",
     "timestamp": 1659432836311,
     "user": {
      "displayName": "Sajib Kumar Saha Joy",
      "userId": "00306887839544176354"
     },
     "user_tz": -360
    },
    "id": "SUrZFEoohdfd"
   },
   "outputs": [],
   "source": [
    "# train_generator = data_generator(train.values, tokenizer, max_len_calculated,vocab_size)\n",
    "# i = 0\n",
    "# while True:\n",
    "#   i+=1\n",
    "#   print(i)\n",
    "#   x = next(train_generator)\n",
    "  \n",
    "#   if i== 3500:\n",
    "#     break\n",
    "\n",
    "# dev_generator = data_generator(test.values, tokenizer, max_len_calculated, vocab_size)\n",
    "# i=0\n",
    "# print('--------')\n",
    "# while True:\n",
    "#   i+=1\n",
    "#   print(i)\n",
    "#   x = next(dev_generator)\n",
    "  \n",
    "#   if i== 3500:\n",
    "#     break\n",
    "train_generator = data_generator(train.values, tokenizer, max_len_calculated,vocab_size)"
   ]
  },
  {
   "cell_type": "code",
   "execution_count": 28,
   "metadata": {
    "colab": {
     "base_uri": "https://localhost:8080/"
    },
    "executionInfo": {
     "elapsed": 5696,
     "status": "ok",
     "timestamp": 1659432844746,
     "user": {
      "displayName": "Sajib Kumar Saha Joy",
      "userId": "00306887839544176354"
     },
     "user_tz": -360
    },
    "id": "t1_MH2cwRHB-",
    "outputId": "5e09dd4d-5f02-4462-d478-1bf57982a376"
   },
   "outputs": [
    {
     "data": {
      "text/plain": [
       "[[array([[3.3125296, 0.       , 0.       , ..., 0.       , 0.       ,\n",
       "          0.       ],\n",
       "         [3.3125296, 0.       , 0.       , ..., 0.       , 0.       ,\n",
       "          0.       ],\n",
       "         [3.3125296, 0.       , 0.       , ..., 0.       , 0.       ,\n",
       "          0.       ],\n",
       "         ...,\n",
       "         [3.3125296, 0.       , 0.       , ..., 0.       , 0.       ,\n",
       "          0.       ],\n",
       "         [3.3125296, 0.       , 0.       , ..., 0.       , 0.       ,\n",
       "          0.       ],\n",
       "         [3.3125296, 0.       , 0.       , ..., 0.       , 0.       ,\n",
       "          0.       ]], dtype=float32),\n",
       "  array([[[ 1.4750965 ,  1.1387188 ,  1.7412034 , ..., -0.286674  ,\n",
       "           -1.0593104 , -0.14788672],\n",
       "          [ 1.1080915 , -0.15249713,  0.6446228 , ...,  0.38424388,\n",
       "           -0.7198979 ,  0.46056375],\n",
       "          [ 1.4082086 ,  0.64033306,  1.826217  , ...,  0.26168945,\n",
       "           -0.20956251,  0.5708787 ],\n",
       "          ...,\n",
       "          [ 1.721721  , -0.03325674,  1.1539526 , ...,  0.15190053,\n",
       "            0.14398967,  0.634163  ],\n",
       "          [ 1.8583742 , -0.00522216,  1.2509305 , ...,  0.17913845,\n",
       "            0.13117772,  0.5336137 ],\n",
       "          [ 1.8283669 ,  0.15372951,  1.3976763 , ...,  0.18428002,\n",
       "            0.14013475,  0.53098667]],\n",
       "  \n",
       "         [[ 1.4416288 ,  0.55955166,  1.4968276 , ...,  0.34821215,\n",
       "           -0.63142073, -0.42612386],\n",
       "          [ 0.28369462,  0.07449348,  1.420565  , ...,  0.9516674 ,\n",
       "           -0.12881523, -0.91713464],\n",
       "          [ 1.4658654 , -0.42124638,  2.3079174 , ...,  1.772247  ,\n",
       "           -0.43860888, -0.5850117 ],\n",
       "          ...,\n",
       "          [ 1.7191936 , -0.05202623,  1.1104459 , ...,  0.15683585,\n",
       "            0.18369713,  0.6381756 ],\n",
       "          [ 1.8457811 , -0.02414607,  1.1858858 , ...,  0.19488019,\n",
       "            0.17218478,  0.5468817 ],\n",
       "          [ 1.8148291 ,  0.14152409,  1.3210778 , ...,  0.22006506,\n",
       "            0.18287218,  0.54998446]],\n",
       "  \n",
       "         [[ 1.7248302 ,  0.3732364 ,  0.96900177, ...,  0.1569535 ,\n",
       "           -0.29539472, -0.34197268],\n",
       "          [ 0.3355132 , -0.83017534,  1.3528519 , ...,  0.8114104 ,\n",
       "           -0.19495994, -0.927327  ],\n",
       "          [ 1.2080383 , -0.11228888,  2.995005  , ...,  1.0551285 ,\n",
       "            0.377828  , -0.5165849 ],\n",
       "          ...,\n",
       "          [ 1.7422514 , -0.05812661,  1.1272334 , ...,  0.16493754,\n",
       "            0.21853244,  0.59606993],\n",
       "          [ 1.8693222 , -0.02105793,  1.2269064 , ...,  0.19191372,\n",
       "            0.21641828,  0.5038352 ],\n",
       "          [ 1.840067  ,  0.14175841,  1.3868847 , ...,  0.19727738,\n",
       "            0.2473445 ,  0.49116233]],\n",
       "  \n",
       "         ...,\n",
       "  \n",
       "         [[ 1.6714193 ,  0.42623404,  1.2270584 , ...,  0.5847158 ,\n",
       "           -0.07415791, -0.93965286],\n",
       "          [ 0.8741477 , -0.70770574,  1.3222684 , ...,  0.6672374 ,\n",
       "           -0.38964525, -1.0571376 ],\n",
       "          [ 1.1063731 , -1.0148789 ,  2.3688202 , ...,  0.68925905,\n",
       "           -0.04269433, -0.3011522 ],\n",
       "          ...,\n",
       "          [ 1.7392539 , -0.04575832,  1.1163257 , ...,  0.13790154,\n",
       "            0.16896644,  0.6347436 ],\n",
       "          [ 1.8637227 , -0.01886619,  1.1993954 , ...,  0.18349811,\n",
       "            0.15903834,  0.5500853 ],\n",
       "          [ 1.8257418 ,  0.14984015,  1.3552972 , ...,  0.19773163,\n",
       "            0.18784972,  0.5414868 ]],\n",
       "  \n",
       "         [[ 1.7136996 ,  0.5092771 ,  1.054396  , ...,  0.36152416,\n",
       "           -0.18331425, -1.0351919 ],\n",
       "          [ 0.8272384 , -0.5796301 ,  1.2667176 , ...,  0.4552063 ,\n",
       "           -0.5368081 , -1.0859464 ],\n",
       "          [ 1.3031807 , -0.86844903,  2.3392732 , ...,  0.61676806,\n",
       "           -0.10577545, -0.50680137],\n",
       "          ...,\n",
       "          [ 1.7418897 , -0.01523533,  1.1462511 , ...,  0.07428006,\n",
       "            0.2098102 ,  0.5979686 ],\n",
       "          [ 1.8723222 ,  0.02867058,  1.2274075 , ...,  0.12754019,\n",
       "            0.18956488,  0.52469814],\n",
       "          [ 1.8267572 ,  0.19983828,  1.3920164 , ...,  0.12530164,\n",
       "            0.23035167,  0.512687  ]],\n",
       "  \n",
       "         [[ 1.4048465 ,  0.22032729,  1.3346958 , ...,  0.91034085,\n",
       "           -0.27703762, -0.8426436 ],\n",
       "          [ 0.97775817, -0.38979417,  0.6064435 , ...,  0.45660818,\n",
       "           -0.74643254, -1.2807093 ],\n",
       "          [ 1.1759617 , -0.6659992 ,  2.06604   , ...,  0.35338843,\n",
       "           -0.1555337 , -0.42969233],\n",
       "          ...,\n",
       "          [ 1.826501  ,  0.2578343 ,  1.3058664 , ...,  0.10084745,\n",
       "            0.07955207,  0.5094342 ],\n",
       "          [ 1.9579433 ,  0.32346854,  1.4317021 , ...,  0.12215763,\n",
       "            0.06400839,  0.37040678],\n",
       "          [ 1.9017881 ,  0.5403518 ,  1.5795001 , ...,  0.13908878,\n",
       "            0.1086779 ,  0.37913   ]]], dtype=float32)],\n",
       " array([[0., 0., 0., ..., 0., 0., 0.],\n",
       "        [0., 0., 0., ..., 0., 0., 0.],\n",
       "        [0., 0., 0., ..., 0., 0., 0.],\n",
       "        ...,\n",
       "        [0., 0., 0., ..., 0., 0., 0.],\n",
       "        [0., 0., 0., ..., 0., 0., 0.],\n",
       "        [0., 0., 0., ..., 0., 0., 0.]], dtype=float32)]"
      ]
     },
     "execution_count": 28,
     "metadata": {},
     "output_type": "execute_result"
    }
   ],
   "source": [
    "x = next(train_generator)\n",
    "x"
   ]
  },
  {
   "cell_type": "markdown",
   "metadata": {
    "id": "BJP9df-1iqej"
   },
   "source": [
    "# Data Generator and Train"
   ]
  },
  {
   "cell_type": "code",
   "execution_count": 29,
   "metadata": {
    "colab": {
     "base_uri": "https://localhost:8080/"
    },
    "executionInfo": {
     "elapsed": 2493412,
     "status": "ok",
     "timestamp": 1659435365581,
     "user": {
      "displayName": "Sajib Kumar Saha Joy",
      "userId": "00306887839544176354"
     },
     "user_tz": -360
    },
    "id": "MiUZTaqUKqLz",
    "outputId": "c287caaf-6228-40ef-ede5-38e49c6f6b3c"
   },
   "outputs": [
    {
     "name": "stderr",
     "output_type": "stream",
     "text": [
      "C:\\Users\\Admin\\AppData\\Local\\Temp/ipykernel_15048/1827473020.py:12: UserWarning: `Model.fit_generator` is deprecated and will be removed in a future version. Please use `Model.fit`, which supports generators.\n",
      "  model.fit_generator(train_generator, epochs=num_epoch, steps_per_epoch=len(train)/8, validation_data=dev_generator,validation_steps=len(test)/16,callbacks=[checkpoint],verbose=1)\n"
     ]
    },
    {
     "name": "stdout",
     "output_type": "stream",
     "text": [
      "Epoch 1/50\n",
      "436/436 [==============================] - ETA: 0s - loss: 5.7194 - accuracy: 0.2042\n",
      "Epoch 00001: val_loss improved from inf to 4.73792, saving model to Saved Model\\bert-lstm-model-ep001-loss5.719-val_loss4.738.h5\n",
      "436/436 [==============================] - 1348s 3s/step - loss: 5.7194 - accuracy: 0.2042 - val_loss: 4.7379 - val_accuracy: 0.2992\n",
      "Epoch 2/50\n"
     ]
    },
    {
     "name": "stderr",
     "output_type": "stream",
     "text": [
      "C:\\Users\\Admin\\anaconda3\\envs\\tf_gpu\\lib\\site-packages\\keras\\engine\\functional.py:1410: CustomMaskWarning: Custom mask layers require a config and must override get_config. When loading, the custom mask layer must be passed to the custom_objects argument.\n",
      "  layer_config = serialize_layer_fn(layer)\n"
     ]
    },
    {
     "name": "stdout",
     "output_type": "stream",
     "text": [
      "436/436 [==============================] - ETA: 0s - loss: 4.8664 - accuracy: 0.2702\n",
      "Epoch 00002: val_loss did not improve from 4.73792\n",
      "436/436 [==============================] - 1468s 3s/step - loss: 4.8664 - accuracy: 0.2702 - val_loss: 4.9169 - val_accuracy: 0.2672\n",
      "Epoch 3/50\n",
      "436/436 [==============================] - ETA: 0s - loss: 3.9013 - accuracy: 0.4027\n",
      "Epoch 00003: val_loss did not improve from 4.73792\n",
      "436/436 [==============================] - 1246s 3s/step - loss: 3.9013 - accuracy: 0.4027 - val_loss: 5.5296 - val_accuracy: 0.2844\n",
      "Epoch 4/50\n",
      "436/436 [==============================] - ETA: 0s - loss: 3.9905 - accuracy: 0.4234\n",
      "Epoch 00004: val_loss improved from 4.73792 to 4.15571, saving model to Saved Model\\bert-lstm-model-ep004-loss3.990-val_loss4.156.h5\n",
      "436/436 [==============================] - 1264s 3s/step - loss: 3.9905 - accuracy: 0.4234 - val_loss: 4.1557 - val_accuracy: 0.3592\n",
      "Epoch 5/50\n",
      "436/436 [==============================] - ETA: 0s - loss: 4.2649 - accuracy: 0.3734\n",
      "Epoch 00005: val_loss improved from 4.15571 to 3.84509, saving model to Saved Model\\bert-lstm-model-ep005-loss4.265-val_loss3.845.h5\n",
      "436/436 [==============================] - 1463s 3s/step - loss: 4.2649 - accuracy: 0.3734 - val_loss: 3.8451 - val_accuracy: 0.4282\n",
      "Epoch 6/50\n",
      "436/436 [==============================] - ETA: 0s - loss: 4.1490 - accuracy: 0.3811\n",
      "Epoch 00006: val_loss improved from 3.84509 to 3.57585, saving model to Saved Model\\bert-lstm-model-ep006-loss4.149-val_loss3.576.h5\n",
      "436/436 [==============================] - 1367s 3s/step - loss: 4.1490 - accuracy: 0.3811 - val_loss: 3.5758 - val_accuracy: 0.4079\n",
      "Epoch 7/50\n",
      "436/436 [==============================] - ETA: 0s - loss: 3.9690 - accuracy: 0.4356\n",
      "Epoch 00007: val_loss did not improve from 3.57585\n",
      "436/436 [==============================] - 1484s 3s/step - loss: 3.9690 - accuracy: 0.4356 - val_loss: 3.8587 - val_accuracy: 0.3805\n",
      "Epoch 8/50\n",
      "436/436 [==============================] - ETA: 0s - loss: 4.4434 - accuracy: 0.3705\n",
      "Epoch 00008: val_loss did not improve from 3.57585\n",
      "436/436 [==============================] - 1404s 3s/step - loss: 4.4434 - accuracy: 0.3705 - val_loss: 4.4999 - val_accuracy: 0.3219\n",
      "Epoch 9/50\n",
      "436/436 [==============================] - ETA: 0s - loss: 4.0426 - accuracy: 0.3859\n",
      "Epoch 00009: val_loss did not improve from 3.57585\n",
      "436/436 [==============================] - 1370s 3s/step - loss: 4.0426 - accuracy: 0.3859 - val_loss: 4.5463 - val_accuracy: 0.3660\n",
      "Epoch 10/50\n",
      "436/436 [==============================] - ETA: 0s - loss: 3.8731 - accuracy: 0.3791\n",
      "Epoch 00010: val_loss did not improve from 3.57585\n",
      "436/436 [==============================] - 1466s 3s/step - loss: 3.8731 - accuracy: 0.3791 - val_loss: 4.0790 - val_accuracy: 0.4152\n",
      "Epoch 11/50\n",
      "436/436 [==============================] - ETA: 0s - loss: 3.2214 - accuracy: 0.4708\n",
      "Epoch 00011: val_loss did not improve from 3.57585\n",
      "436/436 [==============================] - 1246s 3s/step - loss: 3.2214 - accuracy: 0.4708 - val_loss: 3.6084 - val_accuracy: 0.4703\n",
      "Epoch 12/50\n",
      "436/436 [==============================] - ETA: 0s - loss: 3.3316 - accuracy: 0.4652\n",
      "Epoch 00012: val_loss did not improve from 3.57585\n",
      "436/436 [==============================] - 1276s 3s/step - loss: 3.3316 - accuracy: 0.4652 - val_loss: 4.7569 - val_accuracy: 0.3459\n",
      "Epoch 13/50\n",
      "436/436 [==============================] - ETA: 0s - loss: 3.6318 - accuracy: 0.4243\n",
      "Epoch 00013: val_loss did not improve from 3.57585\n",
      "436/436 [==============================] - 1488s 3s/step - loss: 3.6318 - accuracy: 0.4243 - val_loss: 3.8868 - val_accuracy: 0.4428\n",
      "Epoch 14/50\n",
      "436/436 [==============================] - ETA: 0s - loss: 3.6384 - accuracy: 0.4241\n",
      "Epoch 00014: val_loss improved from 3.57585 to 3.52454, saving model to Saved Model\\bert-lstm-model-ep014-loss3.638-val_loss3.525.h5\n",
      "436/436 [==============================] - 1384s 3s/step - loss: 3.6384 - accuracy: 0.4241 - val_loss: 3.5245 - val_accuracy: 0.4557\n",
      "Epoch 15/50\n",
      "436/436 [==============================] - ETA: 0s - loss: 3.4259 - accuracy: 0.4670\n",
      "Epoch 00015: val_loss did not improve from 3.52454\n",
      "436/436 [==============================] - 1503s 3s/step - loss: 3.4259 - accuracy: 0.4670 - val_loss: 4.1418 - val_accuracy: 0.3529\n",
      "Epoch 16/50\n",
      "436/436 [==============================] - ETA: 0s - loss: 3.9844 - accuracy: 0.3900\n",
      "Epoch 00016: val_loss did not improve from 3.52454\n",
      "436/436 [==============================] - 1405s 3s/step - loss: 3.9844 - accuracy: 0.3900 - val_loss: 5.0956 - val_accuracy: 0.2850\n",
      "Epoch 17/50\n",
      "436/436 [==============================] - ETA: 0s - loss: 3.7319 - accuracy: 0.4002\n",
      "Epoch 00017: val_loss did not improve from 3.52454\n",
      "436/436 [==============================] - 1363s 3s/step - loss: 3.7319 - accuracy: 0.4002 - val_loss: 4.2937 - val_accuracy: 0.3996\n",
      "Epoch 18/50\n",
      "436/436 [==============================] - ETA: 0s - loss: 3.6089 - accuracy: 0.3880\n",
      "Epoch 00018: val_loss did not improve from 3.52454\n",
      "436/436 [==============================] - 1463s 3s/step - loss: 3.6089 - accuracy: 0.3880 - val_loss: 4.8047 - val_accuracy: 0.3026\n",
      "Epoch 19/50\n",
      "436/436 [==============================] - ETA: 0s - loss: 3.0365 - accuracy: 0.4812\n",
      "Epoch 00019: val_loss did not improve from 3.52454\n",
      "436/436 [==============================] - 1253s 3s/step - loss: 3.0365 - accuracy: 0.4812 - val_loss: 4.7549 - val_accuracy: 0.3632\n",
      "Epoch 20/50\n",
      "436/436 [==============================] - ETA: 0s - loss: 3.1063 - accuracy: 0.4785\n",
      "Epoch 00020: val_loss did not improve from 3.52454\n",
      "436/436 [==============================] - 1256s 3s/step - loss: 3.1063 - accuracy: 0.4785 - val_loss: 3.7032 - val_accuracy: 0.4469\n",
      "Epoch 21/50\n",
      "436/436 [==============================] - ETA: 0s - loss: 3.3980 - accuracy: 0.4373\n",
      "Epoch 00021: val_loss improved from 3.52454 to 3.22482, saving model to Saved Model\\bert-lstm-model-ep021-loss3.398-val_loss3.225.h5\n",
      "436/436 [==============================] - 1454s 3s/step - loss: 3.3980 - accuracy: 0.4373 - val_loss: 3.2248 - val_accuracy: 0.5162\n",
      "Epoch 22/50\n",
      "436/436 [==============================] - ETA: 0s - loss: 3.4202 - accuracy: 0.4368\n",
      "Epoch 00022: val_loss did not improve from 3.22482\n",
      "436/436 [==============================] - 1375s 3s/step - loss: 3.4202 - accuracy: 0.4368 - val_loss: 3.2495 - val_accuracy: 0.4546\n",
      "Epoch 23/50\n",
      "436/436 [==============================] - ETA: 0s - loss: 3.1984 - accuracy: 0.4732\n",
      "Epoch 00023: val_loss did not improve from 3.22482\n",
      "436/436 [==============================] - 1510s 3s/step - loss: 3.1984 - accuracy: 0.4732 - val_loss: 4.0912 - val_accuracy: 0.3596\n",
      "Epoch 24/50\n",
      "436/436 [==============================] - ETA: 0s - loss: 3.7054 - accuracy: 0.3992\n",
      "Epoch 00024: val_loss did not improve from 3.22482\n",
      "436/436 [==============================] - 1414s 3s/step - loss: 3.7054 - accuracy: 0.3992 - val_loss: 4.0613 - val_accuracy: 0.3770\n",
      "Epoch 25/50\n",
      "436/436 [==============================] - ETA: 0s - loss: 3.4893 - accuracy: 0.4140\n",
      "Epoch 00025: val_loss did not improve from 3.22482\n",
      "436/436 [==============================] - 1401s 3s/step - loss: 3.4893 - accuracy: 0.4140 - val_loss: 4.2382 - val_accuracy: 0.4081\n",
      "Epoch 26/50\n",
      "436/436 [==============================] - ETA: 0s - loss: 3.4114 - accuracy: 0.3951\n",
      "Epoch 00026: val_loss did not improve from 3.22482\n",
      "436/436 [==============================] - 1498s 3s/step - loss: 3.4114 - accuracy: 0.3951 - val_loss: 3.6130 - val_accuracy: 0.4559\n",
      "Epoch 27/50\n",
      "436/436 [==============================] - ETA: 0s - loss: 2.8968 - accuracy: 0.4890\n",
      "Epoch 00027: val_loss did not improve from 3.22482\n",
      "436/436 [==============================] - 1304s 3s/step - loss: 2.8968 - accuracy: 0.4890 - val_loss: 4.0080 - val_accuracy: 0.4374\n",
      "Epoch 28/50\n",
      "436/436 [==============================] - ETA: 0s - loss: 2.9167 - accuracy: 0.4869\n",
      "Epoch 00028: val_loss did not improve from 3.22482\n",
      "436/436 [==============================] - 1322s 3s/step - loss: 2.9167 - accuracy: 0.4869 - val_loss: 5.1514 - val_accuracy: 0.3411\n",
      "Epoch 29/50\n",
      "436/436 [==============================] - ETA: 0s - loss: 3.2291 - accuracy: 0.4486\n",
      "Epoch 00029: val_loss did not improve from 3.22482\n",
      "436/436 [==============================] - 1508s 3s/step - loss: 3.2291 - accuracy: 0.4486 - val_loss: 3.3497 - val_accuracy: 0.4694\n"
     ]
    },
    {
     "name": "stdout",
     "output_type": "stream",
     "text": [
      "Epoch 30/50\n",
      "436/436 [==============================] - ETA: 0s - loss: 3.2610 - accuracy: 0.4429\n",
      "Epoch 00030: val_loss did not improve from 3.22482\n",
      "436/436 [==============================] - 1404s 3s/step - loss: 3.2610 - accuracy: 0.4429 - val_loss: 3.8170 - val_accuracy: 0.4488\n",
      "Epoch 31/50\n",
      "436/436 [==============================] - ETA: 0s - loss: 3.0412 - accuracy: 0.4794\n",
      "Epoch 00031: val_loss did not improve from 3.22482\n",
      "436/436 [==============================] - 1545s 4s/step - loss: 3.0412 - accuracy: 0.4794 - val_loss: 5.0185 - val_accuracy: 0.3105\n",
      "Epoch 32/50\n",
      "436/436 [==============================] - ETA: 0s - loss: 3.5201 - accuracy: 0.4093\n",
      "Epoch 00032: val_loss did not improve from 3.22482\n",
      "436/436 [==============================] - 1421s 3s/step - loss: 3.5201 - accuracy: 0.4093 - val_loss: 4.2800 - val_accuracy: 0.3971\n",
      "Epoch 33/50\n",
      "436/436 [==============================] - ETA: 0s - loss: 3.2871 - accuracy: 0.4240\n",
      "Epoch 00033: val_loss did not improve from 3.22482\n",
      "436/436 [==============================] - 1403s 3s/step - loss: 3.2871 - accuracy: 0.4240 - val_loss: 4.7259 - val_accuracy: 0.3719\n",
      "Epoch 34/50\n",
      "436/436 [==============================] - ETA: 0s - loss: 3.2379 - accuracy: 0.4043\n",
      "Epoch 00034: val_loss did not improve from 3.22482\n",
      "436/436 [==============================] - 1489s 3s/step - loss: 3.2379 - accuracy: 0.4043 - val_loss: 4.7902 - val_accuracy: 0.3444\n",
      "Epoch 35/50\n",
      "436/436 [==============================] - ETA: 0s - loss: 2.7852 - accuracy: 0.4923\n",
      "Epoch 00035: val_loss did not improve from 3.22482\n",
      "436/436 [==============================] - 1270s 3s/step - loss: 2.7852 - accuracy: 0.4923 - val_loss: 4.0048 - val_accuracy: 0.3984\n",
      "Epoch 36/50\n",
      "436/436 [==============================] - ETA: 0s - loss: 2.7555 - accuracy: 0.4983\n",
      "Epoch 00036: val_loss improved from 3.22482 to 3.16277, saving model to Saved Model\\bert-lstm-model-ep036-loss2.756-val_loss3.163.h5\n",
      "436/436 [==============================] - 1275s 3s/step - loss: 2.7555 - accuracy: 0.4983 - val_loss: 3.1628 - val_accuracy: 0.5012\n",
      "Epoch 37/50\n",
      "436/436 [==============================] - ETA: 0s - loss: 3.0793 - accuracy: 0.4559\n",
      "Epoch 00037: val_loss improved from 3.16277 to 3.14084, saving model to Saved Model\\bert-lstm-model-ep037-loss3.079-val_loss3.141.h5\n",
      "436/436 [==============================] - 1486s 3s/step - loss: 3.0793 - accuracy: 0.4559 - val_loss: 3.1408 - val_accuracy: 0.5248\n",
      "Epoch 38/50\n",
      "436/436 [==============================] - ETA: 0s - loss: 3.1112 - accuracy: 0.4518\n",
      "Epoch 00038: val_loss did not improve from 3.14084\n",
      "436/436 [==============================] - 1406s 3s/step - loss: 3.1112 - accuracy: 0.4518 - val_loss: 3.7903 - val_accuracy: 0.4180\n",
      "Epoch 39/50\n",
      "436/436 [==============================] - ETA: 0s - loss: 2.9058 - accuracy: 0.4848\n",
      "Epoch 00039: val_loss did not improve from 3.14084\n",
      "436/436 [==============================] - 1535s 4s/step - loss: 2.9058 - accuracy: 0.4848 - val_loss: 3.7025 - val_accuracy: 0.4372\n",
      "Epoch 40/50\n",
      "436/436 [==============================] - ETA: 0s - loss: 3.3495 - accuracy: 0.4190\n",
      "Epoch 00040: val_loss did not improve from 3.14084\n",
      "436/436 [==============================] - 1435s 3s/step - loss: 3.3495 - accuracy: 0.4190 - val_loss: 4.4691 - val_accuracy: 0.3768\n",
      "Epoch 41/50\n",
      "436/436 [==============================] - ETA: 0s - loss: 3.1039 - accuracy: 0.4314\n",
      "Epoch 00041: val_loss did not improve from 3.14084\n",
      "436/436 [==============================] - 1393s 3s/step - loss: 3.1039 - accuracy: 0.4314 - val_loss: 3.6895 - val_accuracy: 0.4488\n",
      "Epoch 42/50\n",
      "436/436 [==============================] - ETA: 0s - loss: 3.0760 - accuracy: 0.4116\n",
      "Epoch 00042: val_loss did not improve from 3.14084\n",
      "436/436 [==============================] - 1482s 3s/step - loss: 3.0760 - accuracy: 0.4116 - val_loss: 3.5921 - val_accuracy: 0.4604\n",
      "Epoch 43/50\n",
      "436/436 [==============================] - ETA: 0s - loss: 2.6834 - accuracy: 0.4982\n",
      "Epoch 00043: val_loss did not improve from 3.14084\n",
      "436/436 [==============================] - 1280s 3s/step - loss: 2.6834 - accuracy: 0.4982 - val_loss: 5.6156 - val_accuracy: 0.3335\n",
      "Epoch 44/50\n",
      "436/436 [==============================] - ETA: 0s - loss: 2.6158 - accuracy: 0.5058\n",
      "Epoch 00044: val_loss did not improve from 3.14084\n",
      "436/436 [==============================] - 1289s 3s/step - loss: 2.6158 - accuracy: 0.5058 - val_loss: 4.5477 - val_accuracy: 0.4054\n",
      "Epoch 45/50\n",
      "436/436 [==============================] - ETA: 0s - loss: 2.9434 - accuracy: 0.4627\n",
      "Epoch 00045: val_loss did not improve from 3.14084\n",
      "436/436 [==============================] - 1485s 3s/step - loss: 2.9434 - accuracy: 0.4627 - val_loss: 3.4813 - val_accuracy: 0.4786\n",
      "Epoch 46/50\n",
      "436/436 [==============================] - ETA: 0s - loss: 2.9944 - accuracy: 0.4572\n",
      "Epoch 00046: val_loss did not improve from 3.14084\n",
      "436/436 [==============================] - 1425s 3s/step - loss: 2.9944 - accuracy: 0.4572 - val_loss: 4.5571 - val_accuracy: 0.3471\n",
      "Epoch 47/50\n",
      "436/436 [==============================] - ETA: 0s - loss: 2.7914 - accuracy: 0.4891\n",
      "Epoch 00047: val_loss did not improve from 3.14084\n",
      "436/436 [==============================] - 1557s 4s/step - loss: 2.7914 - accuracy: 0.4891 - val_loss: 5.2345 - val_accuracy: 0.3892\n",
      "Epoch 48/50\n",
      "436/436 [==============================] - ETA: 0s - loss: 3.2146 - accuracy: 0.4225\n",
      "Epoch 00048: val_loss did not improve from 3.14084\n",
      "436/436 [==============================] - 1495s 3s/step - loss: 3.2146 - accuracy: 0.4225 - val_loss: 4.7192 - val_accuracy: 0.3472\n",
      "Epoch 49/50\n",
      "436/436 [==============================] - ETA: 0s - loss: 2.9491 - accuracy: 0.4395\n",
      "Epoch 00049: val_loss did not improve from 3.14084\n",
      "436/436 [==============================] - 1504s 3s/step - loss: 2.9491 - accuracy: 0.4395 - val_loss: 5.3562 - val_accuracy: 0.3460\n",
      "Epoch 50/50\n",
      "436/436 [==============================] - ETA: 0s - loss: 2.9330 - accuracy: 0.4209\n",
      "Epoch 00050: val_loss did not improve from 3.14084\n",
      "436/436 [==============================] - 1576s 4s/step - loss: 2.9330 - accuracy: 0.4209 - val_loss: 3.6982 - val_accuracy: 0.4058\n"
     ]
    }
   ],
   "source": [
    "from keras.callbacks import ModelCheckpoint\n",
    "# define checkpoint callback\n",
    "filepath = r'Saved Model/bert-lstm-model-ep{epoch:03d}-loss{loss:.3f}-val_loss{val_loss:.3f}.h5'\n",
    "checkpoint = ModelCheckpoint(filepath, monitor='val_loss', verbose=1, save_best_only=True, mode='min', )\n",
    "\n",
    "\n",
    "import tensorflow as tf\n",
    "num_epoch= 50\n",
    "train_generator = data_generator(train.values, tokenizer, max_len_calculated,vocab_size)\n",
    "dev_generator = data_generator(test.values, tokenizer, max_len_calculated, vocab_size)\n",
    "with tf.device('/gpu:0'):\n",
    "  model.fit_generator(train_generator, epochs=num_epoch, steps_per_epoch=len(train)/8, validation_data=dev_generator,validation_steps=len(test)/16,callbacks=[checkpoint],verbose=1)"
   ]
  },
  {
   "cell_type": "markdown",
   "metadata": {
    "id": "-IGrHtDOrLUK"
   },
   "source": [
    "# Load Saved Model"
   ]
  },
  {
   "cell_type": "code",
   "execution_count": 30,
   "metadata": {
    "executionInfo": {
     "elapsed": 1017,
     "status": "ok",
     "timestamp": 1659430199507,
     "user": {
      "displayName": "Sajib Kumar Saha Joy",
      "userId": "00306887839544176354"
     },
     "user_tz": -360
    },
    "id": "gfAwRDSlrOFg"
   },
   "outputs": [],
   "source": [
    "# saved_model_path = 'Saved Model/bert-lstm-model-ep006-loss4.146-val_loss3.467.h5'\n",
    "# model.load_weights(saved_model_path)"
   ]
  },
  {
   "cell_type": "markdown",
   "metadata": {
    "id": "edFFB-_7KqL2"
   },
   "source": [
    "# Train History"
   ]
  },
  {
   "cell_type": "code",
   "execution_count": 31,
   "metadata": {
    "colab": {
     "base_uri": "https://localhost:8080/",
     "height": 81
    },
    "executionInfo": {
     "elapsed": 419,
     "status": "ok",
     "timestamp": 1659436108532,
     "user": {
      "displayName": "Sajib Kumar Saha Joy",
      "userId": "00306887839544176354"
     },
     "user_tz": -360
    },
    "id": "o9ctZrSTKqL3",
    "outputId": "bbefd03e-cc92-47bb-b0b2-3a5bc5aa8c7b"
   },
   "outputs": [
    {
     "data": {
      "text/html": [
       "<div>\n",
       "<style scoped>\n",
       "    .dataframe tbody tr th:only-of-type {\n",
       "        vertical-align: middle;\n",
       "    }\n",
       "\n",
       "    .dataframe tbody tr th {\n",
       "        vertical-align: top;\n",
       "    }\n",
       "\n",
       "    .dataframe thead th {\n",
       "        text-align: right;\n",
       "    }\n",
       "</style>\n",
       "<table border=\"1\" class=\"dataframe\">\n",
       "  <thead>\n",
       "    <tr style=\"text-align: right;\">\n",
       "      <th></th>\n",
       "      <th>loss</th>\n",
       "      <th>accuracy</th>\n",
       "      <th>val_loss</th>\n",
       "      <th>val_accuracy</th>\n",
       "    </tr>\n",
       "  </thead>\n",
       "  <tbody>\n",
       "    <tr>\n",
       "      <th>0</th>\n",
       "      <td>5.719446</td>\n",
       "      <td>0.204180</td>\n",
       "      <td>4.737923</td>\n",
       "      <td>0.299213</td>\n",
       "    </tr>\n",
       "    <tr>\n",
       "      <th>1</th>\n",
       "      <td>4.866432</td>\n",
       "      <td>0.270222</td>\n",
       "      <td>4.916874</td>\n",
       "      <td>0.267247</td>\n",
       "    </tr>\n",
       "    <tr>\n",
       "      <th>2</th>\n",
       "      <td>3.901331</td>\n",
       "      <td>0.402711</td>\n",
       "      <td>5.529602</td>\n",
       "      <td>0.284404</td>\n",
       "    </tr>\n",
       "    <tr>\n",
       "      <th>3</th>\n",
       "      <td>3.990478</td>\n",
       "      <td>0.423398</td>\n",
       "      <td>4.155707</td>\n",
       "      <td>0.359170</td>\n",
       "    </tr>\n",
       "    <tr>\n",
       "      <th>4</th>\n",
       "      <td>4.264881</td>\n",
       "      <td>0.373414</td>\n",
       "      <td>3.845089</td>\n",
       "      <td>0.428233</td>\n",
       "    </tr>\n",
       "    <tr>\n",
       "      <th>5</th>\n",
       "      <td>4.149024</td>\n",
       "      <td>0.381137</td>\n",
       "      <td>3.575848</td>\n",
       "      <td>0.407873</td>\n",
       "    </tr>\n",
       "    <tr>\n",
       "      <th>6</th>\n",
       "      <td>3.968984</td>\n",
       "      <td>0.435597</td>\n",
       "      <td>3.858660</td>\n",
       "      <td>0.380538</td>\n",
       "    </tr>\n",
       "    <tr>\n",
       "      <th>7</th>\n",
       "      <td>4.443431</td>\n",
       "      <td>0.370526</td>\n",
       "      <td>4.499934</td>\n",
       "      <td>0.321909</td>\n",
       "    </tr>\n",
       "    <tr>\n",
       "      <th>8</th>\n",
       "      <td>4.042643</td>\n",
       "      <td>0.385896</td>\n",
       "      <td>4.546344</td>\n",
       "      <td>0.365983</td>\n",
       "    </tr>\n",
       "    <tr>\n",
       "      <th>9</th>\n",
       "      <td>3.873111</td>\n",
       "      <td>0.379078</td>\n",
       "      <td>4.079010</td>\n",
       "      <td>0.415182</td>\n",
       "    </tr>\n",
       "    <tr>\n",
       "      <th>10</th>\n",
       "      <td>3.221434</td>\n",
       "      <td>0.470845</td>\n",
       "      <td>3.608352</td>\n",
       "      <td>0.470326</td>\n",
       "    </tr>\n",
       "    <tr>\n",
       "      <th>11</th>\n",
       "      <td>3.331572</td>\n",
       "      <td>0.465218</td>\n",
       "      <td>4.756888</td>\n",
       "      <td>0.345932</td>\n",
       "    </tr>\n",
       "    <tr>\n",
       "      <th>12</th>\n",
       "      <td>3.631817</td>\n",
       "      <td>0.424289</td>\n",
       "      <td>3.886806</td>\n",
       "      <td>0.442848</td>\n",
       "    </tr>\n",
       "    <tr>\n",
       "      <th>13</th>\n",
       "      <td>3.638418</td>\n",
       "      <td>0.424080</td>\n",
       "      <td>3.524538</td>\n",
       "      <td>0.455687</td>\n",
       "    </tr>\n",
       "    <tr>\n",
       "      <th>14</th>\n",
       "      <td>3.425935</td>\n",
       "      <td>0.467009</td>\n",
       "      <td>4.141844</td>\n",
       "      <td>0.352941</td>\n",
       "    </tr>\n",
       "    <tr>\n",
       "      <th>15</th>\n",
       "      <td>3.984401</td>\n",
       "      <td>0.390033</td>\n",
       "      <td>5.095629</td>\n",
       "      <td>0.285027</td>\n",
       "    </tr>\n",
       "    <tr>\n",
       "      <th>16</th>\n",
       "      <td>3.731910</td>\n",
       "      <td>0.400225</td>\n",
       "      <td>4.293711</td>\n",
       "      <td>0.399574</td>\n",
       "    </tr>\n",
       "    <tr>\n",
       "      <th>17</th>\n",
       "      <td>3.608862</td>\n",
       "      <td>0.388033</td>\n",
       "      <td>4.804729</td>\n",
       "      <td>0.302588</td>\n",
       "    </tr>\n",
       "    <tr>\n",
       "      <th>18</th>\n",
       "      <td>3.036530</td>\n",
       "      <td>0.481220</td>\n",
       "      <td>4.754865</td>\n",
       "      <td>0.363211</td>\n",
       "    </tr>\n",
       "    <tr>\n",
       "      <th>19</th>\n",
       "      <td>3.106349</td>\n",
       "      <td>0.478543</td>\n",
       "      <td>3.703168</td>\n",
       "      <td>0.446919</td>\n",
       "    </tr>\n",
       "    <tr>\n",
       "      <th>20</th>\n",
       "      <td>3.398046</td>\n",
       "      <td>0.437267</td>\n",
       "      <td>3.224817</td>\n",
       "      <td>0.516209</td>\n",
       "    </tr>\n",
       "    <tr>\n",
       "      <th>21</th>\n",
       "      <td>3.420199</td>\n",
       "      <td>0.436816</td>\n",
       "      <td>3.249481</td>\n",
       "      <td>0.454620</td>\n",
       "    </tr>\n",
       "    <tr>\n",
       "      <th>22</th>\n",
       "      <td>3.198404</td>\n",
       "      <td>0.473156</td>\n",
       "      <td>4.091158</td>\n",
       "      <td>0.359582</td>\n",
       "    </tr>\n",
       "    <tr>\n",
       "      <th>23</th>\n",
       "      <td>3.705366</td>\n",
       "      <td>0.399210</td>\n",
       "      <td>4.061269</td>\n",
       "      <td>0.377003</td>\n",
       "    </tr>\n",
       "    <tr>\n",
       "      <th>24</th>\n",
       "      <td>3.489334</td>\n",
       "      <td>0.413992</td>\n",
       "      <td>4.238217</td>\n",
       "      <td>0.408100</td>\n",
       "    </tr>\n",
       "    <tr>\n",
       "      <th>25</th>\n",
       "      <td>3.411355</td>\n",
       "      <td>0.395127</td>\n",
       "      <td>3.613033</td>\n",
       "      <td>0.455944</td>\n",
       "    </tr>\n",
       "    <tr>\n",
       "      <th>26</th>\n",
       "      <td>2.896752</td>\n",
       "      <td>0.488967</td>\n",
       "      <td>4.007998</td>\n",
       "      <td>0.437364</td>\n",
       "    </tr>\n",
       "    <tr>\n",
       "      <th>27</th>\n",
       "      <td>2.916668</td>\n",
       "      <td>0.486948</td>\n",
       "      <td>5.151402</td>\n",
       "      <td>0.341113</td>\n",
       "    </tr>\n",
       "    <tr>\n",
       "      <th>28</th>\n",
       "      <td>3.229091</td>\n",
       "      <td>0.448636</td>\n",
       "      <td>3.349694</td>\n",
       "      <td>0.469374</td>\n",
       "    </tr>\n",
       "    <tr>\n",
       "      <th>29</th>\n",
       "      <td>3.260999</td>\n",
       "      <td>0.442906</td>\n",
       "      <td>3.816987</td>\n",
       "      <td>0.448788</td>\n",
       "    </tr>\n",
       "    <tr>\n",
       "      <th>30</th>\n",
       "      <td>3.041198</td>\n",
       "      <td>0.479416</td>\n",
       "      <td>5.018457</td>\n",
       "      <td>0.310511</td>\n",
       "    </tr>\n",
       "    <tr>\n",
       "      <th>31</th>\n",
       "      <td>3.520129</td>\n",
       "      <td>0.409298</td>\n",
       "      <td>4.280002</td>\n",
       "      <td>0.397081</td>\n",
       "    </tr>\n",
       "    <tr>\n",
       "      <th>32</th>\n",
       "      <td>3.287142</td>\n",
       "      <td>0.424004</td>\n",
       "      <td>4.725858</td>\n",
       "      <td>0.371917</td>\n",
       "    </tr>\n",
       "    <tr>\n",
       "      <th>33</th>\n",
       "      <td>3.237890</td>\n",
       "      <td>0.404257</td>\n",
       "      <td>4.790184</td>\n",
       "      <td>0.344398</td>\n",
       "    </tr>\n",
       "    <tr>\n",
       "      <th>34</th>\n",
       "      <td>2.785171</td>\n",
       "      <td>0.492287</td>\n",
       "      <td>4.004763</td>\n",
       "      <td>0.398421</td>\n",
       "    </tr>\n",
       "    <tr>\n",
       "      <th>35</th>\n",
       "      <td>2.755531</td>\n",
       "      <td>0.498292</td>\n",
       "      <td>3.162766</td>\n",
       "      <td>0.501191</td>\n",
       "    </tr>\n",
       "    <tr>\n",
       "      <th>36</th>\n",
       "      <td>3.079311</td>\n",
       "      <td>0.455929</td>\n",
       "      <td>3.140841</td>\n",
       "      <td>0.524752</td>\n",
       "    </tr>\n",
       "    <tr>\n",
       "      <th>37</th>\n",
       "      <td>3.111154</td>\n",
       "      <td>0.451766</td>\n",
       "      <td>3.790299</td>\n",
       "      <td>0.418014</td>\n",
       "    </tr>\n",
       "    <tr>\n",
       "      <th>38</th>\n",
       "      <td>2.905771</td>\n",
       "      <td>0.484773</td>\n",
       "      <td>3.702493</td>\n",
       "      <td>0.437162</td>\n",
       "    </tr>\n",
       "    <tr>\n",
       "      <th>39</th>\n",
       "      <td>3.349488</td>\n",
       "      <td>0.419022</td>\n",
       "      <td>4.469137</td>\n",
       "      <td>0.376802</td>\n",
       "    </tr>\n",
       "    <tr>\n",
       "      <th>40</th>\n",
       "      <td>3.103878</td>\n",
       "      <td>0.431387</td>\n",
       "      <td>3.689463</td>\n",
       "      <td>0.448761</td>\n",
       "    </tr>\n",
       "    <tr>\n",
       "      <th>41</th>\n",
       "      <td>3.076018</td>\n",
       "      <td>0.411583</td>\n",
       "      <td>3.592094</td>\n",
       "      <td>0.460421</td>\n",
       "    </tr>\n",
       "    <tr>\n",
       "      <th>42</th>\n",
       "      <td>2.683415</td>\n",
       "      <td>0.498236</td>\n",
       "      <td>5.615577</td>\n",
       "      <td>0.333541</td>\n",
       "    </tr>\n",
       "    <tr>\n",
       "      <th>43</th>\n",
       "      <td>2.615767</td>\n",
       "      <td>0.505808</td>\n",
       "      <td>4.547668</td>\n",
       "      <td>0.405422</td>\n",
       "    </tr>\n",
       "    <tr>\n",
       "      <th>44</th>\n",
       "      <td>2.943406</td>\n",
       "      <td>0.462705</td>\n",
       "      <td>3.481318</td>\n",
       "      <td>0.478560</td>\n",
       "    </tr>\n",
       "    <tr>\n",
       "      <th>45</th>\n",
       "      <td>2.994428</td>\n",
       "      <td>0.457241</td>\n",
       "      <td>4.557102</td>\n",
       "      <td>0.347118</td>\n",
       "    </tr>\n",
       "    <tr>\n",
       "      <th>46</th>\n",
       "      <td>2.791354</td>\n",
       "      <td>0.489116</td>\n",
       "      <td>5.234491</td>\n",
       "      <td>0.389222</td>\n",
       "    </tr>\n",
       "    <tr>\n",
       "      <th>47</th>\n",
       "      <td>3.214614</td>\n",
       "      <td>0.422546</td>\n",
       "      <td>4.719218</td>\n",
       "      <td>0.347222</td>\n",
       "    </tr>\n",
       "    <tr>\n",
       "      <th>48</th>\n",
       "      <td>2.949071</td>\n",
       "      <td>0.439459</td>\n",
       "      <td>5.356214</td>\n",
       "      <td>0.346018</td>\n",
       "    </tr>\n",
       "    <tr>\n",
       "      <th>49</th>\n",
       "      <td>2.933047</td>\n",
       "      <td>0.420946</td>\n",
       "      <td>3.698220</td>\n",
       "      <td>0.405787</td>\n",
       "    </tr>\n",
       "  </tbody>\n",
       "</table>\n",
       "</div>"
      ],
      "text/plain": [
       "        loss  accuracy  val_loss  val_accuracy\n",
       "0   5.719446  0.204180  4.737923      0.299213\n",
       "1   4.866432  0.270222  4.916874      0.267247\n",
       "2   3.901331  0.402711  5.529602      0.284404\n",
       "3   3.990478  0.423398  4.155707      0.359170\n",
       "4   4.264881  0.373414  3.845089      0.428233\n",
       "5   4.149024  0.381137  3.575848      0.407873\n",
       "6   3.968984  0.435597  3.858660      0.380538\n",
       "7   4.443431  0.370526  4.499934      0.321909\n",
       "8   4.042643  0.385896  4.546344      0.365983\n",
       "9   3.873111  0.379078  4.079010      0.415182\n",
       "10  3.221434  0.470845  3.608352      0.470326\n",
       "11  3.331572  0.465218  4.756888      0.345932\n",
       "12  3.631817  0.424289  3.886806      0.442848\n",
       "13  3.638418  0.424080  3.524538      0.455687\n",
       "14  3.425935  0.467009  4.141844      0.352941\n",
       "15  3.984401  0.390033  5.095629      0.285027\n",
       "16  3.731910  0.400225  4.293711      0.399574\n",
       "17  3.608862  0.388033  4.804729      0.302588\n",
       "18  3.036530  0.481220  4.754865      0.363211\n",
       "19  3.106349  0.478543  3.703168      0.446919\n",
       "20  3.398046  0.437267  3.224817      0.516209\n",
       "21  3.420199  0.436816  3.249481      0.454620\n",
       "22  3.198404  0.473156  4.091158      0.359582\n",
       "23  3.705366  0.399210  4.061269      0.377003\n",
       "24  3.489334  0.413992  4.238217      0.408100\n",
       "25  3.411355  0.395127  3.613033      0.455944\n",
       "26  2.896752  0.488967  4.007998      0.437364\n",
       "27  2.916668  0.486948  5.151402      0.341113\n",
       "28  3.229091  0.448636  3.349694      0.469374\n",
       "29  3.260999  0.442906  3.816987      0.448788\n",
       "30  3.041198  0.479416  5.018457      0.310511\n",
       "31  3.520129  0.409298  4.280002      0.397081\n",
       "32  3.287142  0.424004  4.725858      0.371917\n",
       "33  3.237890  0.404257  4.790184      0.344398\n",
       "34  2.785171  0.492287  4.004763      0.398421\n",
       "35  2.755531  0.498292  3.162766      0.501191\n",
       "36  3.079311  0.455929  3.140841      0.524752\n",
       "37  3.111154  0.451766  3.790299      0.418014\n",
       "38  2.905771  0.484773  3.702493      0.437162\n",
       "39  3.349488  0.419022  4.469137      0.376802\n",
       "40  3.103878  0.431387  3.689463      0.448761\n",
       "41  3.076018  0.411583  3.592094      0.460421\n",
       "42  2.683415  0.498236  5.615577      0.333541\n",
       "43  2.615767  0.505808  4.547668      0.405422\n",
       "44  2.943406  0.462705  3.481318      0.478560\n",
       "45  2.994428  0.457241  4.557102      0.347118\n",
       "46  2.791354  0.489116  5.234491      0.389222\n",
       "47  3.214614  0.422546  4.719218      0.347222\n",
       "48  2.949071  0.439459  5.356214      0.346018\n",
       "49  2.933047  0.420946  3.698220      0.405787"
      ]
     },
     "execution_count": 31,
     "metadata": {},
     "output_type": "execute_result"
    }
   ],
   "source": [
    "train_history=pd.DataFrame(model.history.history)\n",
    "train_history"
   ]
  },
  {
   "cell_type": "code",
   "execution_count": 32,
   "metadata": {
    "colab": {
     "base_uri": "https://localhost:8080/",
     "height": 282
    },
    "executionInfo": {
     "elapsed": 419,
     "status": "ok",
     "timestamp": 1659436111857,
     "user": {
      "displayName": "Sajib Kumar Saha Joy",
      "userId": "00306887839544176354"
     },
     "user_tz": -360
    },
    "id": "JvsRCpg7KqL6",
    "outputId": "919a667a-3307-4ba1-f243-8db1f981abaa"
   },
   "outputs": [
    {
     "data": {
      "text/plain": [
       "<AxesSubplot:>"
      ]
     },
     "execution_count": 32,
     "metadata": {},
     "output_type": "execute_result"
    },
    {
     "data": {
      "image/png": "[encoded data removed]",
      "text/plain": [
       "<Figure size 432x288 with 1 Axes>"
      ]
     },
     "metadata": {
      "needs_background": "light"
     },
     "output_type": "display_data"
    }
   ],
   "source": [
    "train_history.plot()"
   ]
  },
  {
   "cell_type": "code",
   "execution_count": 33,
   "metadata": {
    "colab": {
     "base_uri": "https://localhost:8080/"
    },
    "executionInfo": {
     "elapsed": 528,
     "status": "ok",
     "timestamp": 1659436115812,
     "user": {
      "displayName": "Sajib Kumar Saha Joy",
      "userId": "00306887839544176354"
     },
     "user_tz": -360
    },
    "id": "9jxfICafKqL8",
    "outputId": "0bf51039-9fa3-49c2-f122-14a2639b04d7"
   },
   "outputs": [
    {
     "name": "stdout",
     "output_type": "stream",
     "text": [
      "Minimum Loss\n",
      " 3.140841245651245\n",
      "-----\n",
      "Minimum Loss on epoch: \n",
      " 37\n"
     ]
    }
   ],
   "source": [
    "print('Minimum Loss\\n',train_history.min()['val_loss'])\n",
    "print('-----')\n",
    "print('Minimum Loss on epoch: \\n',train_history.idxmin()['val_loss']+1)"
   ]
  },
  {
   "cell_type": "markdown",
   "metadata": {
    "id": "iCOofUtQKqL_"
   },
   "source": [
    "Looks like model at epoch 19 had performed best at dev set\n"
   ]
  },
  {
   "cell_type": "markdown",
   "metadata": {
    "id": "WtZALYm1KqMA"
   },
   "source": [
    "# Evaluation"
   ]
  },
  {
   "cell_type": "code",
   "execution_count": 45,
   "metadata": {
    "executionInfo": {
     "elapsed": 387,
     "status": "ok",
     "timestamp": 1659436122834,
     "user": {
      "displayName": "Sajib Kumar Saha Joy",
      "userId": "00306887839544176354"
     },
     "user_tz": -360
    },
    "id": "sL_LcaAnKqMA"
   },
   "outputs": [],
   "source": [
    "# Give a unique id to a word\n",
    "def word_for_id(id, tokenizer):\n",
    "    for word, index in tokenizer.word_index.items():\n",
    "        if index == id:\n",
    "            return word\n",
    "    return None\n",
    "\n",
    "# Generate a caption for an image\n",
    "def generate_caption(model, tokenizer, image, max_length):\n",
    "    input_text = 'startseq'\n",
    "    # iterate over the whole length of the sequence\n",
    "    for i in range(max_length):\n",
    "        # sequence = tmodel.encode([input_text])\n",
    "        input_seq = bert_encode([input_text])\n",
    "        input_seq = bangla_model(input_seq)\n",
    "        input_seq = input_seq[0]\n",
    "\n",
    "\n",
    "        # print(sequence)\n",
    "        # Predict next word\n",
    "        # print(image.shape,input_seq.shape )\n",
    "       \n",
    "        pred_b = model.predict([image, input_seq], verbose=0)\n",
    "        pred = np.argmax(pred_b) # Remember it returns word Index\n",
    "        # print(pred_b,'\\t',pred)\n",
    "        word = word_for_id(pred, tokenizer)\n",
    "        # Stop if we cannot find the word\n",
    "#         print('Input Text: ', input_text, 'Prediction: ', pred, 'Word: ', word)\n",
    "#         print('\\nIF: ',image[0][:5], '\\nIS',input_seq[:5], '\\nWORD: ', word)\n",
    "\n",
    "        if word is None:\n",
    "            break\n",
    "        # Generate next input_text\n",
    "        input_text += ' ' + word\n",
    "        # stop if we predict the end of the sequence\n",
    "        if word == 'endseq':\n",
    "            break\n",
    "\n",
    "    return input_text\n",
    "\n",
    "\n",
    "# # Generate a caption for an image\n",
    "# def generate_caption(model, tokenizer, image, max_length):\n",
    "#     input_text = 'startseq'\n",
    "#     # iterate over the whole length of the sequence\n",
    "#     for i in range(max_length):\n",
    "#         sequence = tokenizer.texts_to_sequences([input_text])[0]\n",
    "#         sequence = pad_sequences([sequence], maxlen=max_length)\n",
    "#         # Predict next word\n",
    "#         pred_b = model.predict([image,sequence], verbose=0)\n",
    "#         pred = np.argmax(pred_b) # Remember it returns word Index\n",
    "#         # print(pred_b,'\\t',pred)\n",
    "#         word = word_for_id(pred, tokenizer)\n",
    "#         # Stop if we cannot find the word\n",
    "#         if word is None:\n",
    "#             break\n",
    "#         # Generate next input_text\n",
    "#         input_text += ' ' + word\n",
    "#         # stop if we predict the end of the sequence\n",
    "#         if word == 'endseq':\n",
    "#             break\n",
    "\n",
    "#     return input_text\n",
    "\n",
    "from nltk.translate.bleu_score import corpus_bleu\n",
    "from tqdm import tqdm_notebook\n",
    "def evaluate_model(model, test, tokenizer, max_len):\n",
    "    actual, predicted = [], []\n",
    "    # step over the whole set\n",
    "    for img_id, img_feature, caption_list in tqdm_notebook(test):\n",
    "        prediction = generate_caption(model, tokenizer, img_feature, max_len)\n",
    "        ground_truth = [d.split() for d in caption_list[0]]\n",
    "        actual.append(ground_truth)\n",
    "        predicted.append(prediction.split())\n",
    "\n",
    "    print('BLEU-1: %f' % corpus_bleu(actual, predicted, weights=(1.0, 0, 0, 0)))\n",
    "    print('BLEU-2: %f' % corpus_bleu(actual, predicted, weights=(0.5, 0.5, 0, 0)))\n",
    "    print('BLEU-3: %f' % corpus_bleu(actual, predicted, weights=(0.3, 0.3, 0.3, 0)))\n",
    "    print('BLEU-4: %f' % corpus_bleu(actual, predicted, weights=(0.25, 0.25, 0.25, 0.25)))\n"
   ]
  },
  {
   "cell_type": "code",
   "execution_count": 46,
   "metadata": {
    "colab": {
     "base_uri": "https://localhost:8080/",
     "height": 267,
     "referenced_widgets": [
      "c117fec8fdfc40a2a75ec5acbaceabc4",
      "6ab50c92393c45b1894b5f9a8c60718e",
      "e4f6b0910c614d4e9a7860345d10ff3d",
      "54d3d108f7e0413ba32b4573298ee588",
      "5c67d4b3e6e84ef1b6e1031f66f770c2",
      "748de356114944db883c59c2fb906307",
      "e6a68110fd1a42d5930531830368feb0",
      "0e80ebfc988342ae8cd2ba7e73d94a39",
      "1e0aef6fee31486e95d4657899fa1986",
      "344f544ed30146429bde099b3689c2d3",
      "5f68c2c785534c90807dffe7896f8b03"
     ]
    },
    "executionInfo": {
     "elapsed": 76221,
     "status": "ok",
     "timestamp": 1656612684258,
     "user": {
      "displayName": "Sajib Kumar Saha Joy",
      "userId": "00306887839544176354"
     },
     "user_tz": -360
    },
    "id": "f42ntgnSKqMD",
    "outputId": "24b054cd-92e9-4913-89c4-418f0ef20922"
   },
   "outputs": [
    {
     "data": {
      "application/vnd.jupyter.widget-view+json": {
       "model_id": "3cfc3e8ccff54583ac6cf503b9a80fef",
       "version_major": 2,
       "version_minor": 0
      },
      "text/plain": [
       "  0%|          | 0/600 [00:00<?, ?it/s]"
      ]
     },
     "metadata": {},
     "output_type": "display_data"
    },
    {
     "name": "stdout",
     "output_type": "stream",
     "text": [
      "BLEU-1: 0.611241\n",
      "BLEU-2: 0.469422\n",
      "BLEU-3: 0.349670\n",
      "BLEU-4: 0.187549\n"
     ]
    }
   ],
   "source": [
    "# from tensorflow.keras.models import load_model\n",
    "\n",
    "# # Load the best model\n",
    "# filename = r\"C:\\Users\\Admin\\#ImageCaption\\model-ep002-loss3.445-val_loss3.981.h5\"\n",
    "# model = load_model(filename)\n",
    "\n",
    "# evaluate model\n",
    "evaluate_model(model, test.values, tokenizer, max_len)"
   ]
  },
  {
   "cell_type": "code",
   "execution_count": 48,
   "metadata": {},
   "outputs": [],
   "source": [
    "model.save(r'C:\\Users\\Admin\\#ImageCaption\\Lastepoch.h5')"
   ]
  },
  {
   "cell_type": "markdown",
   "metadata": {
    "id": "myX8TzDKKqMH"
   },
   "source": [
    "# Checking Model"
   ]
  },
  {
   "cell_type": "code",
   "execution_count": 36,
   "metadata": {
    "executionInfo": {
     "elapsed": 366,
     "status": "ok",
     "timestamp": 1659436129207,
     "user": {
      "displayName": "Sajib Kumar Saha Joy",
      "userId": "00306887839544176354"
     },
     "user_tz": -360
    },
    "id": "elGluk_KKqMH"
   },
   "outputs": [],
   "source": [
    "def extract_features_of_single_photo(filename,model):\n",
    "    image = load_img(filename, target_size=(224, 224))\n",
    "    image = img_to_array(image)\n",
    "    image = image.reshape((1, image.shape[0], image.shape[1], image.shape[2]))\n",
    "    image = preprocess_input(image)\n",
    "    feature = model.predict(image, verbose=0)\n",
    "    return feature\n",
    "\n",
    "import matplotlib.pyplot as plt\n",
    "import matplotlib.image as mpimg\n",
    "%matplotlib inline\n",
    "def show_result(img_dir,image_fe_model):\n",
    "    img_feature = extract_features_of_single_photo(img_dir,image_fe_model)\n",
    "    # print(img_feature[0][:5])\n",
    "    caption = generate_caption(model, tokenizer, img_feature, max_len_calculated).split()\n",
    "    caption=' '.join(caption[1:len(caption)-1])\n",
    "    print(caption)\n",
    "    \n",
    "    #Plot\n",
    "    plt.axis('off')      \n",
    "    img=mpimg.imread(img_dir)\n",
    "    imgplot = plt.imshow(img)\n",
    "    plt.title(caption)\n",
    "    plt.show()    "
   ]
  },
  {
   "cell_type": "code",
   "execution_count": 37,
   "metadata": {
    "executionInfo": {
     "elapsed": 375,
     "status": "ok",
     "timestamp": 1659436133369,
     "user": {
      "displayName": "Sajib Kumar Saha Joy",
      "userId": "00306887839544176354"
     },
     "user_tz": -360
    },
    "id": "FvDrdYaRQlBg"
   },
   "outputs": [],
   "source": [
    "import warnings\n",
    "warnings.filterwarnings('ignore')"
   ]
  },
  {
   "cell_type": "code",
   "execution_count": 38,
   "metadata": {
    "colab": {
     "base_uri": "https://localhost:8080/",
     "height": 1000
    },
    "executionInfo": {
     "elapsed": 1777,
     "status": "ok",
     "timestamp": 1659436137451,
     "user": {
      "displayName": "Sajib Kumar Saha Joy",
      "userId": "00306887839544176354"
     },
     "user_tz": -360
    },
    "id": "AVWvDtZJiGDG",
    "outputId": "cd71841c-66a4-4107-eaee-3491847013c4"
   },
   "outputs": [
    {
     "name": "stdout",
     "output_type": "stream",
     "text": [
      "Input Text:  startseq Prediction:  5 Word:  একটি\n",
      "\n",
      "IF:  [0. 0. 0. 0. 0.] \n",
      "IS tf.Tensor(\n",
      "[[[ 1.4750965   1.1387188   1.7412034  ... -0.286674   -1.0593104\n",
      "   -0.14788672]\n",
      "  [ 1.1080915  -0.15249713  0.6446228  ...  0.38424388 -0.7198979\n",
      "    0.46056375]\n",
      "  [ 1.4082086   0.64033306  1.826217   ...  0.26168945 -0.20956251\n",
      "    0.5708787 ]\n",
      "  ...\n",
      "  [ 1.721721   -0.03325674  1.1539526  ...  0.15190053  0.14398967\n",
      "    0.634163  ]\n",
      "  [ 1.8583742  -0.00522216  1.2509305  ...  0.17913845  0.13117772\n",
      "    0.5336137 ]\n",
      "  [ 1.8283669   0.15372951  1.3976763  ...  0.18428002  0.14013475\n",
      "    0.53098667]]], shape=(1, 64, 768), dtype=float32) \n",
      "WORD:  একটি\n",
      "Input Text:  startseq একটি Prediction:  35 Word:  পাখি\n",
      "\n",
      "IF:  [0. 0. 0. 0. 0.] \n",
      "IS tf.Tensor(\n",
      "[[[ 1.342203    0.6836855   1.7329967  ...  0.21460941 -0.6876741\n",
      "   -0.15364248]\n",
      "  [ 0.06546824 -0.03835118  0.5436279  ...  1.4557278  -0.00862954\n",
      "   -0.78658926]\n",
      "  [ 1.0441141  -1.3733596   2.2005398  ...  1.1473345  -1.1915022\n",
      "   -0.15958835]\n",
      "  ...\n",
      "  [ 1.6971611  -0.0211326   1.1492808  ...  0.16500281  0.14818995\n",
      "    0.61964595]\n",
      "  [ 1.8238115   0.00448206  1.2299606  ...  0.19964199  0.1415526\n",
      "    0.5266613 ]\n",
      "  [ 1.7942383   0.17108445  1.3665104  ...  0.22629946  0.15345627\n",
      "    0.5323977 ]]], shape=(1, 64, 768), dtype=float32) \n",
      "WORD:  পাখি\n",
      "Input Text:  startseq একটি পাখি Prediction:  6 Word:  আছে\n",
      "\n",
      "IF:  [0. 0. 0. 0. 0.] \n",
      "IS tf.Tensor(\n",
      "[[[ 1.4542192e+00  5.3324854e-01  1.2026602e+00 ...  6.0925804e-02\n",
      "   -6.5936470e-01  1.3892126e-01]\n",
      "  [ 7.6793671e-02 -3.7877458e-01  1.4010662e+00 ...  1.0790608e+00\n",
      "   -5.4385757e-01 -1.2236075e+00]\n",
      "  [ 9.0178955e-01 -6.5634185e-01  2.6311638e+00 ...  1.6765609e-01\n",
      "   -1.0090556e+00 -1.1234953e-01]\n",
      "  ...\n",
      "  [ 1.7235967e+00 -3.8626961e-02  1.1282862e+00 ...  1.3631774e-01\n",
      "    1.7274323e-01  6.1557680e-01]\n",
      "  [ 1.8498278e+00 -1.2894063e-03  1.2034883e+00 ...  1.7463060e-01\n",
      "    1.6297060e-01  5.2922451e-01]\n",
      "  [ 1.8081733e+00  1.5726994e-01  1.3496667e+00 ...  1.9026051e-01\n",
      "    1.7989713e-01  5.2434939e-01]]], shape=(1, 64, 768), dtype=float32) \n",
      "WORD:  আছে\n",
      "Input Text:  startseq একটি পাখি আছে Prediction:  4 Word:  ।\n",
      "\n",
      "IF:  [0. 0. 0. 0. 0.] \n",
      "IS tf.Tensor(\n",
      "[[[ 1.5064294   0.79214776  0.9425421  ...  0.10153885 -0.6914502\n",
      "    0.04305425]\n",
      "  [ 0.04961414 -0.43295234  0.97806305 ...  1.0757657  -0.65547144\n",
      "   -0.88245064]\n",
      "  [ 0.32845467 -0.16699906  2.148464   ...  0.34109086 -1.0381103\n",
      "    0.19416538]\n",
      "  ...\n",
      "  [ 1.7684312  -0.02621445  1.1174631  ...  0.12482023  0.17776236\n",
      "    0.6049465 ]\n",
      "  [ 1.9030267   0.00534556  1.2020038  ...  0.15249774  0.16759463\n",
      "    0.51300824]\n",
      "  [ 1.8638998   0.17890853  1.3383309  ...  0.17518069  0.17879666\n",
      "    0.51365876]]], shape=(1, 64, 768), dtype=float32) \n",
      "WORD:  ।\n",
      "Input Text:  startseq একটি পাখি আছে । Prediction:  3 Word:  endseq\n",
      "\n",
      "IF:  [0. 0. 0. 0. 0.] \n",
      "IS tf.Tensor(\n",
      "[[[ 1.2078993   0.63242     1.2264065  ...  0.485731   -0.7668392\n",
      "    0.03369537]\n",
      "  [-0.2518791  -0.1892503   0.28120026 ...  0.84564954 -0.9671719\n",
      "   -0.91448945]\n",
      "  [ 0.17213185  0.39668602  1.7905388  ...  0.14113832 -1.2787498\n",
      "   -0.08469603]\n",
      "  ...\n",
      "  [ 1.824732    0.27592683  1.3478903  ...  0.14820194  0.05577702\n",
      "    0.46777618]\n",
      "  [ 1.9517287   0.338115    1.4600064  ...  0.1577139   0.053889\n",
      "    0.32186615]\n",
      "  [ 1.9111832   0.5317765   1.593583   ...  0.18132551  0.04167078\n",
      "    0.32743424]]], shape=(1, 64, 768), dtype=float32) \n",
      "WORD:  endseq\n",
      "একটি পাখি আছে ।\n"
     ]
    },
    {
     "data": {
      "image/png": "[encoded data removed]",
      "text/plain": [
       "<Figure size 432x288 with 1 Axes>"
      ]
     },
     "metadata": {
      "needs_background": "light"
     },
     "output_type": "display_data"
    }
   ],
   "source": [
    "img_dir=r\"784.jpg\"\n",
    "show_result(img_dir,image_fe_model)"
   ]
  },
  {
   "cell_type": "code",
   "execution_count": 39,
   "metadata": {
    "colab": {
     "base_uri": "https://localhost:8080/",
     "height": 906
    },
    "executionInfo": {
     "elapsed": 1181,
     "status": "ok",
     "timestamp": 1659436163624,
     "user": {
      "displayName": "Sajib Kumar Saha Joy",
      "userId": "00306887839544176354"
     },
     "user_tz": -360
    },
    "id": "7pJ0WswvKqMK",
    "outputId": "96125016-0a7d-4173-e1c5-7cfceee847b7"
   },
   "outputs": [
    {
     "name": "stdout",
     "output_type": "stream",
     "text": [
      "Input Text:  startseq Prediction:  10 Word:  একজন\n",
      "\n",
      "IF:  [2.0806272 2.1699595 0.        0.        2.1998305] \n",
      "IS tf.Tensor(\n",
      "[[[ 1.4750965   1.1387188   1.7412034  ... -0.286674   -1.0593104\n",
      "   -0.14788672]\n",
      "  [ 1.1080915  -0.15249713  0.6446228  ...  0.38424388 -0.7198979\n",
      "    0.46056375]\n",
      "  [ 1.4082086   0.64033306  1.826217   ...  0.26168945 -0.20956251\n",
      "    0.5708787 ]\n",
      "  ...\n",
      "  [ 1.721721   -0.03325674  1.1539526  ...  0.15190053  0.14398967\n",
      "    0.634163  ]\n",
      "  [ 1.8583742  -0.00522216  1.2509305  ...  0.17913845  0.13117772\n",
      "    0.5336137 ]\n",
      "  [ 1.8283669   0.15372951  1.3976763  ...  0.18428002  0.14013475\n",
      "    0.53098667]]], shape=(1, 64, 768), dtype=float32) \n",
      "WORD:  একজন\n",
      "Input Text:  startseq একজন Prediction:  79 Word:  মেয়ে\n",
      "\n",
      "IF:  [2.0806272 2.1699595 0.        0.        2.1998305] \n",
      "IS tf.Tensor(\n",
      "[[[ 8.2931453e-01  4.3464801e-01  1.5866132e+00 ...  1.2353361e-01\n",
      "   -5.9479469e-01  2.8059380e-02]\n",
      "  [-2.1716534e-01 -5.2264065e-01  7.0896924e-01 ...  6.7118579e-01\n",
      "   -4.6340933e-01 -1.6129297e-01]\n",
      "  [ 3.9538407e-01 -1.9818379e+00  2.0220902e+00 ...  3.5224304e-01\n",
      "   -1.2084188e+00  1.1161156e-04]\n",
      "  ...\n",
      "  [ 1.7149247e+00 -2.8319463e-02  1.1302979e+00 ...  1.6828620e-01\n",
      "    1.5629266e-01  6.4243627e-01]\n",
      "  [ 1.8365940e+00 -2.5468618e-03  1.2054583e+00 ...  2.0809099e-01\n",
      "    1.4322990e-01  5.5342579e-01]\n",
      "  [ 1.8069829e+00  1.6566035e-01  1.3444644e+00 ...  2.2836186e-01\n",
      "    1.5848590e-01  5.5781728e-01]]], shape=(1, 64, 768), dtype=float32) \n",
      "WORD:  মেয়ে\n",
      "Input Text:  startseq একজন মেয়ে Prediction:  6 Word:  আছে\n",
      "\n",
      "IF:  [2.0806272 2.1699595 0.        0.        2.1998305] \n",
      "IS tf.Tensor(\n",
      "[[[ 1.0377401   0.03328006  0.8419305  ...  0.01799445 -0.27605018\n",
      "   -0.5497724 ]\n",
      "  [ 0.07037538 -0.6281082   0.4231353  ...  0.5842334  -0.6577339\n",
      "   -0.50445354]\n",
      "  [ 0.1427244  -1.5090382   1.9879142  ... -0.17385828 -1.9487939\n",
      "   -0.7794698 ]\n",
      "  ...\n",
      "  [ 1.7250763  -0.03582249  1.1536591  ...  0.1371321   0.18587625\n",
      "    0.58129513]\n",
      "  [ 1.8569543  -0.00386963  1.2312539  ...  0.1667073   0.17254922\n",
      "    0.48988   ]\n",
      "  [ 1.8260531   0.1624736   1.3830826  ...  0.17662898  0.19566265\n",
      "    0.49059176]]], shape=(1, 64, 768), dtype=float32) \n",
      "WORD:  আছে\n",
      "Input Text:  startseq একজন মেয়ে আছে Prediction:  4 Word:  ।\n",
      "\n",
      "IF:  [2.0806272 2.1699595 0.        0.        2.1998305] \n",
      "IS tf.Tensor(\n",
      "[[[ 1.249218    0.7219471   0.80741537 ...  0.05657835 -0.7880958\n",
      "   -0.68113476]\n",
      "  [ 0.15573785 -0.64132446 -0.06114601 ...  0.3679176  -0.80811155\n",
      "   -0.24918987]\n",
      "  [ 0.33498532 -0.80807936  2.073759   ...  0.01648102 -1.8171805\n",
      "   -0.5920887 ]\n",
      "  ...\n",
      "  [ 1.766081   -0.0124165   1.1001722  ...  0.1096222   0.19182496\n",
      "    0.5842832 ]\n",
      "  [ 1.894383    0.00950964  1.192499   ...  0.1330018   0.18388022\n",
      "    0.49249953]\n",
      "  [ 1.8621694   0.17522004  1.3423234  ...  0.13673295  0.20173258\n",
      "    0.48982444]]], shape=(1, 64, 768), dtype=float32) \n",
      "WORD:  ।\n",
      "Input Text:  startseq একজন মেয়ে আছে । Prediction:  3 Word:  endseq\n",
      "\n",
      "IF:  [2.0806272 2.1699595 0.        0.        2.1998305] \n",
      "IS tf.Tensor(\n",
      "[[[ 1.0218368   0.15082683  0.86913013 ...  0.22102293 -0.82264626\n",
      "   -0.6093337 ]\n",
      "  [ 0.0329206  -0.31218904 -0.35660887 ...  0.20452562 -0.92178386\n",
      "   -0.48346657]\n",
      "  [ 0.16817954 -0.53708315  1.9521886  ... -0.04759583 -2.1984925\n",
      "   -0.83890426]\n",
      "  ...\n",
      "  [ 1.8289205   0.28115526  1.355094   ...  0.11939529  0.07176009\n",
      "    0.45089412]\n",
      "  [ 1.952593    0.3300762   1.4849735  ...  0.12680486  0.07870359\n",
      "    0.30449235]\n",
      "  [ 1.912555    0.52476007  1.6347091  ...  0.13728699  0.07070633\n",
      "    0.3048767 ]]], shape=(1, 64, 768), dtype=float32) \n",
      "WORD:  endseq\n",
      "একজন মেয়ে আছে ।\n"
     ]
    },
    {
     "data": {
      "image/png": "[encoded data removed]",
      "text/plain": [
       "<Figure size 432x288 with 1 Axes>"
      ]
     },
     "metadata": {
      "needs_background": "light"
     },
     "output_type": "display_data"
    }
   ],
   "source": [
    "# Set the directory where your image belongs\n",
    "img_dir=r\"954.jpg\"\n",
    "show_result(img_dir,image_fe_model)"
   ]
  },
  {
   "cell_type": "code",
   "execution_count": 42,
   "metadata": {
    "colab": {
     "base_uri": "https://localhost:8080/",
     "height": 906
    },
    "executionInfo": {
     "elapsed": 1862,
     "status": "ok",
     "timestamp": 1659436173093,
     "user": {
      "displayName": "Sajib Kumar Saha Joy",
      "userId": "00306887839544176354"
     },
     "user_tz": -360
    },
    "id": "H5Bo9bRHNyGE",
    "outputId": "7374e4ad-f71c-4a5e-9a7a-7ff3cdef7a9b"
   },
   "outputs": [
    {
     "name": "stdout",
     "output_type": "stream",
     "text": [
      "Input Text:  startseq Prediction:  5 Word:  একটি\n",
      "\n",
      "IF:  [4.0531983  2.7104762  0.         0.         0.10194886] \n",
      "IS tf.Tensor(\n",
      "[[[ 1.4750965   1.1387188   1.7412034  ... -0.286674   -1.0593104\n",
      "   -0.14788672]\n",
      "  [ 1.1080915  -0.15249713  0.6446228  ...  0.38424388 -0.7198979\n",
      "    0.46056375]\n",
      "  [ 1.4082086   0.64033306  1.826217   ...  0.26168945 -0.20956251\n",
      "    0.5708787 ]\n",
      "  ...\n",
      "  [ 1.721721   -0.03325674  1.1539526  ...  0.15190053  0.14398967\n",
      "    0.634163  ]\n",
      "  [ 1.8583742  -0.00522216  1.2509305  ...  0.17913845  0.13117772\n",
      "    0.5336137 ]\n",
      "  [ 1.8283669   0.15372951  1.3976763  ...  0.18428002  0.14013475\n",
      "    0.53098667]]], shape=(1, 64, 768), dtype=float32) \n",
      "WORD:  একটি\n",
      "Input Text:  startseq একটি Prediction:  11 Word:  মানুষ\n",
      "\n",
      "IF:  [4.0531983  2.7104762  0.         0.         0.10194886] \n",
      "IS tf.Tensor(\n",
      "[[[ 1.342203    0.6836855   1.7329967  ...  0.21460941 -0.6876741\n",
      "   -0.15364248]\n",
      "  [ 0.06546824 -0.03835118  0.5436279  ...  1.4557278  -0.00862954\n",
      "   -0.78658926]\n",
      "  [ 1.0441141  -1.3733596   2.2005398  ...  1.1473345  -1.1915022\n",
      "   -0.15958835]\n",
      "  ...\n",
      "  [ 1.6971611  -0.0211326   1.1492808  ...  0.16500281  0.14818995\n",
      "    0.61964595]\n",
      "  [ 1.8238115   0.00448206  1.2299606  ...  0.19964199  0.1415526\n",
      "    0.5266613 ]\n",
      "  [ 1.7942383   0.17108445  1.3665104  ...  0.22629946  0.15345627\n",
      "    0.5323977 ]]], shape=(1, 64, 768), dtype=float32) \n",
      "WORD:  মানুষ\n",
      "Input Text:  startseq একটি মানুষ Prediction:  6 Word:  আছে\n",
      "\n",
      "IF:  [4.0531983  2.7104762  0.         0.         0.10194886] \n",
      "IS tf.Tensor(\n",
      "[[[ 1.313472    0.35355398  1.2842901  ... -0.01006598 -0.5575929\n",
      "   -0.1643036 ]\n",
      "  [ 0.6993328  -0.5557846   0.739886   ...  1.0957059  -0.82488525\n",
      "   -0.7531575 ]\n",
      "  [ 1.2718061  -1.0668501   2.4877613  ...  0.21596718 -1.066606\n",
      "   -0.5464043 ]\n",
      "  ...\n",
      "  [ 1.7200558  -0.03078553  1.1753477  ...  0.11622284  0.19527434\n",
      "    0.59871554]\n",
      "  [ 1.8583475   0.00376707  1.260501   ...  0.1422809   0.18619569\n",
      "    0.5061348 ]\n",
      "  [ 1.8217112   0.17249365  1.4055951  ...  0.15724228  0.20753537\n",
      "    0.50424963]]], shape=(1, 64, 768), dtype=float32) \n",
      "WORD:  আছে\n",
      "Input Text:  startseq একটি মানুষ আছে Prediction:  4 Word:  ।\n",
      "\n",
      "IF:  [4.0531983  2.7104762  0.         0.         0.10194886] \n",
      "IS tf.Tensor(\n",
      "[[[ 1.2421439   0.8490593   1.2860551  ...  0.03445987 -0.63398135\n",
      "   -0.2922599 ]\n",
      "  [ 0.30161917 -0.909076    0.04121551 ...  0.85211426 -0.81812334\n",
      "   -0.48433924]\n",
      "  [ 0.9725333  -0.67429596  2.0003939  ... -0.0743462  -1.1854422\n",
      "    0.3162548 ]\n",
      "  ...\n",
      "  [ 1.7776864  -0.02157831  1.114451   ...  0.10012138  0.1908331\n",
      "    0.6222404 ]\n",
      "  [ 1.9153696   0.00731886  1.213965   ...  0.12073256  0.18606125\n",
      "    0.53264576]\n",
      "  [ 1.8807385   0.17812808  1.3600119  ...  0.13349757  0.20197499\n",
      "    0.52855945]]], shape=(1, 64, 768), dtype=float32) \n",
      "WORD:  ।\n",
      "Input Text:  startseq একটি মানুষ আছে । Prediction:  3 Word:  endseq\n",
      "\n",
      "IF:  [4.0531983  2.7104762  0.         0.         0.10194886] \n",
      "IS tf.Tensor(\n",
      "[[[ 1.2199068   0.36412358  1.4500414  ...  0.4685968  -0.7147548\n",
      "   -0.26908535]\n",
      "  [ 0.01991321 -0.63129765 -0.4448665  ...  0.7335372  -0.85872877\n",
      "   -0.87621593]\n",
      "  [ 0.97421795 -0.37095642  1.8578095  ... -0.29801244 -1.2721171\n",
      "    0.12598646]\n",
      "  ...\n",
      "  [ 1.854756    0.27860305  1.3344256  ...  0.10119094  0.07364364\n",
      "    0.49447006]\n",
      "  [ 1.9834741   0.33482152  1.4673111  ...  0.1057035   0.08260393\n",
      "    0.34876642]\n",
      "  [ 1.9445434   0.53176594  1.6120968  ...  0.12245087  0.07611083\n",
      "    0.35026437]]], shape=(1, 64, 768), dtype=float32) \n",
      "WORD:  endseq\n",
      "একটি মানুষ আছে ।\n"
     ]
    },
    {
     "data": {
      "image/png": "[encoded data removed]",
      "text/plain": [
       "<Figure size 432x288 with 1 Axes>"
      ]
     },
     "metadata": {
      "needs_background": "light"
     },
     "output_type": "display_data"
    }
   ],
   "source": [
    "# Set the directory where your image belongs\n",
    "img_dir=r\"Farzad.jpg\"\n",
    "show_result(img_dir,image_fe_model)"
   ]
  },
  {
   "cell_type": "code",
   "execution_count": 41,
   "metadata": {
    "colab": {
     "base_uri": "https://localhost:8080/",
     "height": 906
    },
    "executionInfo": {
     "elapsed": 1828,
     "status": "ok",
     "timestamp": 1659436180021,
     "user": {
      "displayName": "Sajib Kumar Saha Joy",
      "userId": "00306887839544176354"
     },
     "user_tz": -360
    },
    "id": "XAoqsPELOA5s",
    "outputId": "704ae5aa-b959-4908-9a51-b60745bc8dd0"
   },
   "outputs": [
    {
     "name": "stdout",
     "output_type": "stream",
     "text": [
      "Input Text:  startseq Prediction:  5 Word:  একটি\n",
      "\n",
      "IF:  [2.4491796 0.753337  0.        0.        0.       ] \n",
      "IS tf.Tensor(\n",
      "[[[ 1.4750965   1.1387188   1.7412034  ... -0.286674   -1.0593104\n",
      "   -0.14788672]\n",
      "  [ 1.1080915  -0.15249713  0.6446228  ...  0.38424388 -0.7198979\n",
      "    0.46056375]\n",
      "  [ 1.4082086   0.64033306  1.826217   ...  0.26168945 -0.20956251\n",
      "    0.5708787 ]\n",
      "  ...\n",
      "  [ 1.721721   -0.03325674  1.1539526  ...  0.15190053  0.14398967\n",
      "    0.634163  ]\n",
      "  [ 1.8583742  -0.00522216  1.2509305  ...  0.17913845  0.13117772\n",
      "    0.5336137 ]\n",
      "  [ 1.8283669   0.15372951  1.3976763  ...  0.18428002  0.14013475\n",
      "    0.53098667]]], shape=(1, 64, 768), dtype=float32) \n",
      "WORD:  একটি\n",
      "Input Text:  startseq একটি Prediction:  11 Word:  মানুষ\n",
      "\n",
      "IF:  [2.4491796 0.753337  0.        0.        0.       ] \n",
      "IS tf.Tensor(\n",
      "[[[ 1.342203    0.6836855   1.7329967  ...  0.21460941 -0.6876741\n",
      "   -0.15364248]\n",
      "  [ 0.06546824 -0.03835118  0.5436279  ...  1.4557278  -0.00862954\n",
      "   -0.78658926]\n",
      "  [ 1.0441141  -1.3733596   2.2005398  ...  1.1473345  -1.1915022\n",
      "   -0.15958835]\n",
      "  ...\n",
      "  [ 1.6971611  -0.0211326   1.1492808  ...  0.16500281  0.14818995\n",
      "    0.61964595]\n",
      "  [ 1.8238115   0.00448206  1.2299606  ...  0.19964199  0.1415526\n",
      "    0.5266613 ]\n",
      "  [ 1.7942383   0.17108445  1.3665104  ...  0.22629946  0.15345627\n",
      "    0.5323977 ]]], shape=(1, 64, 768), dtype=float32) \n",
      "WORD:  মানুষ\n",
      "Input Text:  startseq একটি মানুষ Prediction:  6 Word:  আছে\n",
      "\n",
      "IF:  [2.4491796 0.753337  0.        0.        0.       ] \n",
      "IS tf.Tensor(\n",
      "[[[ 1.313472    0.35355398  1.2842901  ... -0.01006598 -0.5575929\n",
      "   -0.1643036 ]\n",
      "  [ 0.6993328  -0.5557846   0.739886   ...  1.0957059  -0.82488525\n",
      "   -0.7531575 ]\n",
      "  [ 1.2718061  -1.0668501   2.4877613  ...  0.21596718 -1.066606\n",
      "   -0.5464043 ]\n",
      "  ...\n",
      "  [ 1.7200558  -0.03078553  1.1753477  ...  0.11622284  0.19527434\n",
      "    0.59871554]\n",
      "  [ 1.8583475   0.00376707  1.260501   ...  0.1422809   0.18619569\n",
      "    0.5061348 ]\n",
      "  [ 1.8217112   0.17249365  1.4055951  ...  0.15724228  0.20753537\n",
      "    0.50424963]]], shape=(1, 64, 768), dtype=float32) \n",
      "WORD:  আছে\n",
      "Input Text:  startseq একটি মানুষ আছে Prediction:  4 Word:  ।\n",
      "\n",
      "IF:  [2.4491796 0.753337  0.        0.        0.       ] \n",
      "IS tf.Tensor(\n",
      "[[[ 1.2421439   0.8490593   1.2860551  ...  0.03445987 -0.63398135\n",
      "   -0.2922599 ]\n",
      "  [ 0.30161917 -0.909076    0.04121551 ...  0.85211426 -0.81812334\n",
      "   -0.48433924]\n",
      "  [ 0.9725333  -0.67429596  2.0003939  ... -0.0743462  -1.1854422\n",
      "    0.3162548 ]\n",
      "  ...\n",
      "  [ 1.7776864  -0.02157831  1.114451   ...  0.10012138  0.1908331\n",
      "    0.6222404 ]\n",
      "  [ 1.9153696   0.00731886  1.213965   ...  0.12073256  0.18606125\n",
      "    0.53264576]\n",
      "  [ 1.8807385   0.17812808  1.3600119  ...  0.13349757  0.20197499\n",
      "    0.52855945]]], shape=(1, 64, 768), dtype=float32) \n",
      "WORD:  ।\n",
      "Input Text:  startseq একটি মানুষ আছে । Prediction:  3 Word:  endseq\n",
      "\n",
      "IF:  [2.4491796 0.753337  0.        0.        0.       ] \n",
      "IS tf.Tensor(\n",
      "[[[ 1.2199068   0.36412358  1.4500414  ...  0.4685968  -0.7147548\n",
      "   -0.26908535]\n",
      "  [ 0.01991321 -0.63129765 -0.4448665  ...  0.7335372  -0.85872877\n",
      "   -0.87621593]\n",
      "  [ 0.97421795 -0.37095642  1.8578095  ... -0.29801244 -1.2721171\n",
      "    0.12598646]\n",
      "  ...\n",
      "  [ 1.854756    0.27860305  1.3344256  ...  0.10119094  0.07364364\n",
      "    0.49447006]\n",
      "  [ 1.9834741   0.33482152  1.4673111  ...  0.1057035   0.08260393\n",
      "    0.34876642]\n",
      "  [ 1.9445434   0.53176594  1.6120968  ...  0.12245087  0.07611083\n",
      "    0.35026437]]], shape=(1, 64, 768), dtype=float32) \n",
      "WORD:  endseq\n",
      "একটি মানুষ আছে ।\n"
     ]
    },
    {
     "data": {
      "image/png": "[encoded data removed]",
      "text/plain": [
       "<Figure size 432x288 with 1 Axes>"
      ]
     },
     "metadata": {
      "needs_background": "light"
     },
     "output_type": "display_data"
    }
   ],
   "source": [
    "\n",
    "# Set the directory where your image belongs\n",
    "img_dir=r\"shawon.jpg\"\n",
    "show_result(img_dir,image_fe_model)"
   ]
  },
  {
   "cell_type": "code",
   "execution_count": 54,
   "metadata": {},
   "outputs": [
    {
     "name": "stdout",
     "output_type": "stream",
     "text": [
      "একটি রঙের রঙের রঙের রঙের রঙের ।\n"
     ]
    },
    {
     "data": {
      "image/png": "[encoded data removed]",
      "text/plain": [
       "<Figure size 432x288 with 1 Axes>"
      ]
     },
     "metadata": {
      "needs_background": "light"
     },
     "output_type": "display_data"
    }
   ],
   "source": [
    "img_dir=r\"football.jpg\"\n",
    "show_result(img_dir,image_fe_model)"
   ]
  },
  {
   "cell_type": "markdown",
   "metadata": {
    "id": "CfUSu1VJpA_Y"
   },
   "source": [
    "# All the best"
   ]
  },
  {
   "cell_type": "code",
   "execution_count": null,
   "metadata": {
    "id": "lktV430nrvrX"
   },
   "outputs": [],
   "source": [
    "%%capture\n",
    "!pip3 install transformers"
   ]
  },
  {
   "cell_type": "code",
   "execution_count": null,
   "metadata": {
    "id": "pc9FrjEbsJp2"
   },
   "outputs": [],
   "source": [
    "from transformers import AutoModelForPreTraining, AutoTokenizer\n",
    "from transformers import BertTokenizer, TFBertModel\n",
    "\n",
    "def SagorBert():\n",
    "  model = TFBertModel.from_pretrained(\"sagorsarker/bangla-bert-base\")\n",
    "  # model = TFBertModel.from_pretrained(\"bert-base-multilingual-cased\")\n",
    "  # tokenizer = BertTokenizer.from_pretrained(\"sagorsarker/bangla-bert-base\")\n",
    "  tokenizer = BertTokenizer.from_pretrained(\"bert-base-multilingual-cased\")\n",
    "  #model.eval()\n",
    "  return tokenizer, model\n",
    "\n"
   ]
  },
  {
   "cell_type": "code",
   "execution_count": null,
   "metadata": {
    "id": "thBFYrRUw2zg"
   },
   "outputs": [],
   "source": []
  },
  {
   "cell_type": "code",
   "execution_count": null,
   "metadata": {
    "colab": {
     "base_uri": "https://localhost:8080/",
     "height": 124
    },
    "executionInfo": {
     "elapsed": 71704,
     "status": "ok",
     "timestamp": 1656404587423,
     "user": {
      "displayName": "Sajib Kumar Saha Joy",
      "userId": "00306887839544176354"
     },
     "user_tz": -360
    },
    "id": "Gu2T5DHwsMZa",
    "outputId": "5b346b60-362d-4170-8eb0-bae625053339"
   },
   "outputs": [],
   "source": [
    "%%capture\n",
    "tokenizer, model = SagorBert() "
   ]
  },
  {
   "cell_type": "code",
   "execution_count": null,
   "metadata": {
    "id": "4PSLPQFXtHfr"
   },
   "outputs": [],
   "source": [
    "import tensorflow as tf\n",
    "def bert_encode(data):\n",
    "    tokens = tokenizer.batch_encode_plus(data, max_length= 24, padding='max_length', truncation=True)\n",
    "    return tf.constant(tokens['input_ids'])"
   ]
  },
  {
   "cell_type": "code",
   "execution_count": null,
   "metadata": {
    "id": "yqxiJMTVtJwZ"
   },
   "outputs": [],
   "source": []
  },
  {
   "cell_type": "code",
   "execution_count": null,
   "metadata": {
    "id": "NlFMPBFssTFc"
   },
   "outputs": [],
   "source": [
    "# max_length = 128\n",
    "sentences =   \"আমি ভাত খাই\"\n",
    "            \n",
    "              "
   ]
  },
  {
   "cell_type": "code",
   "execution_count": null,
   "metadata": {
    "id": "YkccejUisqty"
   },
   "outputs": [],
   "source": [
    "def bert_encode(data):\n",
    "    tokens = tokenizer.batch_encode_plus(data, max_length=24, padding='max_length', truncation=True)\n",
    "    return tf.constant(tokens['input_ids'])"
   ]
  },
  {
   "cell_type": "code",
   "execution_count": null,
   "metadata": {
    "colab": {
     "base_uri": "https://localhost:8080/"
    },
    "executionInfo": {
     "elapsed": 3,
     "status": "ok",
     "timestamp": 1656404945839,
     "user": {
      "displayName": "Sajib Kumar Saha Joy",
      "userId": "00306887839544176354"
     },
     "user_tz": -360
    },
    "id": "p06rgnXcs08q",
    "outputId": "646e8c3e-9f42-486c-bc5e-8e96779f125d"
   },
   "outputs": [],
   "source": [
    "v = bert_encode([sentences])\n",
    "v.shape"
   ]
  },
  {
   "cell_type": "code",
   "execution_count": null,
   "metadata": {
    "colab": {
     "base_uri": "https://localhost:8080/"
    },
    "executionInfo": {
     "elapsed": 17,
     "status": "ok",
     "timestamp": 1655487093740,
     "user": {
      "displayName": "Sajib Kumar Saha Joy",
      "userId": "00306887839544176354"
     },
     "user_tz": -360
    },
    "id": "MByzU1F0tFTS",
    "outputId": "4383f6a2-65e4-449c-8da4-35b39e8f80a4"
   },
   "outputs": [],
   "source": [
    "v"
   ]
  },
  {
   "cell_type": "code",
   "execution_count": null,
   "metadata": {
    "id": "Jtpj1Zbxth6m"
   },
   "outputs": [],
   "source": [
    "a = model(v)"
   ]
  },
  {
   "cell_type": "code",
   "execution_count": null,
   "metadata": {
    "colab": {
     "base_uri": "https://localhost:8080/"
    },
    "executionInfo": {
     "elapsed": 780,
     "status": "ok",
     "timestamp": 1656405127684,
     "user": {
      "displayName": "Sajib Kumar Saha Joy",
      "userId": "00306887839544176354"
     },
     "user_tz": -360
    },
    "id": "vHiwcbLVuY6D",
    "outputId": "19daf4c9-729e-4a3c-92fa-73f8bc64048e"
   },
   "outputs": [],
   "source": [
    "a[0].shape"
   ]
  },
  {
   "cell_type": "markdown",
   "metadata": {
    "id": "ayjw0mG6vQEh"
   },
   "source": [
    "# Another model\n",
    "\n",
    "...neuropark/sahajBERT\n",
    "\n",
    "...ai4bharat/indic-bert\n",
    "\n",
    "monsoon-nlp/bangla-electra\n",
    "\n",
    "bert-base-multilingual-cased"
   ]
  },
  {
   "cell_type": "code",
   "execution_count": null,
   "metadata": {
    "id": "_1NxU-BAwQia"
   },
   "outputs": [],
   "source": [
    "# bangla_tokenizer, bangla_model = SagorBert() \n",
    "# def bert_encode(data):\n",
    "\n",
    "\n"
   ]
  },
  {
   "cell_type": "code",
   "execution_count": null,
   "metadata": {
    "executionInfo": {
     "elapsed": 459,
     "status": "ok",
     "timestamp": 1659429931682,
     "user": {
      "displayName": "Sajib Kumar Saha Joy",
      "userId": "00306887839544176354"
     },
     "user_tz": -360
    },
    "id": "9EUsLd3evSpf"
   },
   "outputs": [],
   "source": [
    "sentences =   \"আমি ভাত খাই\"\n",
    "input_seq = bert_encode([sentences])\n",
    "           \n",
    "input_seq = bangla_model(input_seq)"
   ]
  },
  {
   "cell_type": "code",
   "execution_count": null,
   "metadata": {
    "colab": {
     "base_uri": "https://localhost:8080/"
    },
    "executionInfo": {
     "elapsed": 375,
     "status": "ok",
     "timestamp": 1659431112182,
     "user": {
      "displayName": "Sajib Kumar Saha Joy",
      "userId": "00306887839544176354"
     },
     "user_tz": -360
    },
    "id": "Y6QnWzVuuzDv",
    "outputId": "7dec0c5f-34ef-4c26-a132-629aa88454da"
   },
   "outputs": [],
   "source": [
    "input_seq['pooler_output']"
   ]
  },
  {
   "cell_type": "code",
   "execution_count": null,
   "metadata": {
    "colab": {
     "base_uri": "https://localhost:8080/"
    },
    "executionInfo": {
     "elapsed": 399,
     "status": "ok",
     "timestamp": 1659430027374,
     "user": {
      "displayName": "Sajib Kumar Saha Joy",
      "userId": "00306887839544176354"
     },
     "user_tz": -360
    },
    "id": "1I6PwxzpuwL_",
    "outputId": "e55e5229-aebc-4721-e3cb-e113fc1236ec"
   },
   "outputs": [],
   "source": [
    "input_seq[0][0]"
   ]
  },
  {
   "cell_type": "code",
   "execution_count": null,
   "metadata": {
    "colab": {
     "base_uri": "https://localhost:8080/"
    },
    "executionInfo": {
     "elapsed": 389,
     "status": "ok",
     "timestamp": 1659430000842,
     "user": {
      "displayName": "Sajib Kumar Saha Joy",
      "userId": "00306887839544176354"
     },
     "user_tz": -360
    },
    "id": "L_e6LLiouvSA",
    "outputId": "92cc0bcc-5fb8-4d5a-99a9-7b568b21845e"
   },
   "outputs": [],
   "source": [
    "input_seq[0]"
   ]
  }
 ],
 "metadata": {
  "accelerator": "GPU",
  "colab": {
   "collapsed_sections": [],
   "name": "BERT LSTM Image_Caption_Generator.ipynb",
   "provenance": [],
   "toc_visible": true
  },
  "gpuClass": "standard",
  "kernelspec": {
   "display_name": "Python 3 (ipykernel)",
   "language": "python",
   "name": "python3"
  },
  "language_info": {
   "codemirror_mode": {
    "name": "ipython",
    "version": 3
   },
   "file_extension": ".py",
   "mimetype": "text/x-python",
   "name": "python",
   "nbconvert_exporter": "python",
   "pygments_lexer": "ipython3",
   "version": "3.9.7"
  },
  "widgets": {
   "application/vnd.jupyter.widget-state+json": {
    "0044219393414084b24278970035f030": {
     "model_module": "@jupyter-widgets/base",
     "model_module_version": "1.2.0",
     "model_name": "LayoutModel",
     "state": {
      "_model_module": "@jupyter-widgets/base",
      "_model_module_version": "1.2.0",
      "_model_name": "LayoutModel",
      "_view_count": null,
      "_view_module": "@jupyter-widgets/base",
      "_view_module_version": "1.2.0",
      "_view_name": "LayoutView",
      "align_content": null,
      "align_items": null,
      "align_self": null,
      "border": null,
      "bottom": null,
      "display": null,
      "flex": null,
      "flex_flow": null,
      "grid_area": null,
      "grid_auto_columns": null,
      "grid_auto_flow": null,
      "grid_auto_rows": null,
      "grid_column": null,
      "grid_gap": null,
      "grid_row": null,
      "grid_template_areas": null,
      "grid_template_columns": null,
      "grid_template_rows": null,
      "height": null,
      "justify_content": null,
      "justify_items": null,
      "left": null,
      "margin": null,
      "max_height": null,
      "max_width": null,
      "min_height": null,
      "min_width": null,
      "object_fit": null,
      "object_position": null,
      "order": null,
      "overflow": null,
      "overflow_x": null,
      "overflow_y": null,
      "padding": null,
      "right": null,
      "top": null,
      "visibility": null,
      "width": null
     }
    },
    "026e998b52f54005b3b3d5b2cce7ccb9": {
     "model_module": "@jupyter-widgets/base",
     "model_module_version": "1.2.0",
     "model_name": "LayoutModel",
     "state": {
      "_model_module": "@jupyter-widgets/base",
      "_model_module_version": "1.2.0",
      "_model_name": "LayoutModel",
      "_view_count": null,
      "_view_module": "@jupyter-widgets/base",
      "_view_module_version": "1.2.0",
      "_view_name": "LayoutView",
      "align_content": null,
      "align_items": null,
      "align_self": null,
      "border": null,
      "bottom": null,
      "display": null,
      "flex": null,
      "flex_flow": null,
      "grid_area": null,
      "grid_auto_columns": null,
      "grid_auto_flow": null,
      "grid_auto_rows": null,
      "grid_column": null,
      "grid_gap": null,
      "grid_row": null,
      "grid_template_areas": null,
      "grid_template_columns": null,
      "grid_template_rows": null,
      "height": null,
      "justify_content": null,
      "justify_items": null,
      "left": null,
      "margin": null,
      "max_height": null,
      "max_width": null,
      "min_height": null,
      "min_width": null,
      "object_fit": null,
      "object_position": null,
      "order": null,
      "overflow": null,
      "overflow_x": null,
      "overflow_y": null,
      "padding": null,
      "right": null,
      "top": null,
      "visibility": null,
      "width": null
     }
    },
    "0954811ec7f148cd994aa5bd862ec3be": {
     "model_module": "@jupyter-widgets/base",
     "model_module_version": "1.2.0",
     "model_name": "LayoutModel",
     "state": {
      "_model_module": "@jupyter-widgets/base",
      "_model_module_version": "1.2.0",
      "_model_name": "LayoutModel",
      "_view_count": null,
      "_view_module": "@jupyter-widgets/base",
      "_view_module_version": "1.2.0",
      "_view_name": "LayoutView",
      "align_content": null,
      "align_items": null,
      "align_self": null,
      "border": null,
      "bottom": null,
      "display": null,
      "flex": null,
      "flex_flow": null,
      "grid_area": null,
      "grid_auto_columns": null,
      "grid_auto_flow": null,
      "grid_auto_rows": null,
      "grid_column": null,
      "grid_gap": null,
      "grid_row": null,
      "grid_template_areas": null,
      "grid_template_columns": null,
      "grid_template_rows": null,
      "height": null,
      "justify_content": null,
      "justify_items": null,
      "left": null,
      "margin": null,
      "max_height": null,
      "max_width": null,
      "min_height": null,
      "min_width": null,
      "object_fit": null,
      "object_position": null,
      "order": null,
      "overflow": null,
      "overflow_x": null,
      "overflow_y": null,
      "padding": null,
      "right": null,
      "top": null,
      "visibility": null,
      "width": null
     }
    },
    "0a743870d04b454eb7cd8e8b53606745": {
     "model_module": "@jupyter-widgets/base",
     "model_module_version": "1.2.0",
     "model_name": "LayoutModel",
     "state": {
      "_model_module": "@jupyter-widgets/base",
      "_model_module_version": "1.2.0",
      "_model_name": "LayoutModel",
      "_view_count": null,
      "_view_module": "@jupyter-widgets/base",
      "_view_module_version": "1.2.0",
      "_view_name": "LayoutView",
      "align_content": null,
      "align_items": null,
      "align_self": null,
      "border": null,
      "bottom": null,
      "display": null,
      "flex": null,
      "flex_flow": null,
      "grid_area": null,
      "grid_auto_columns": null,
      "grid_auto_flow": null,
      "grid_auto_rows": null,
      "grid_column": null,
      "grid_gap": null,
      "grid_row": null,
      "grid_template_areas": null,
      "grid_template_columns": null,
      "grid_template_rows": null,
      "height": null,
      "justify_content": null,
      "justify_items": null,
      "left": null,
      "margin": null,
      "max_height": null,
      "max_width": null,
      "min_height": null,
      "min_width": null,
      "object_fit": null,
      "object_position": null,
      "order": null,
      "overflow": null,
      "overflow_x": null,
      "overflow_y": null,
      "padding": null,
      "right": null,
      "top": null,
      "visibility": null,
      "width": null
     }
    },
    "0e80ebfc988342ae8cd2ba7e73d94a39": {
     "model_module": "@jupyter-widgets/base",
     "model_module_version": "1.2.0",
     "model_name": "LayoutModel",
     "state": {
      "_model_module": "@jupyter-widgets/base",
      "_model_module_version": "1.2.0",
      "_model_name": "LayoutModel",
      "_view_count": null,
      "_view_module": "@jupyter-widgets/base",
      "_view_module_version": "1.2.0",
      "_view_name": "LayoutView",
      "align_content": null,
      "align_items": null,
      "align_self": null,
      "border": null,
      "bottom": null,
      "display": null,
      "flex": null,
      "flex_flow": null,
      "grid_area": null,
      "grid_auto_columns": null,
      "grid_auto_flow": null,
      "grid_auto_rows": null,
      "grid_column": null,
      "grid_gap": null,
      "grid_row": null,
      "grid_template_areas": null,
      "grid_template_columns": null,
      "grid_template_rows": null,
      "height": null,
      "justify_content": null,
      "justify_items": null,
      "left": null,
      "margin": null,
      "max_height": null,
      "max_width": null,
      "min_height": null,
      "min_width": null,
      "object_fit": null,
      "object_position": null,
      "order": null,
      "overflow": null,
      "overflow_x": null,
      "overflow_y": null,
      "padding": null,
      "right": null,
      "top": null,
      "visibility": null,
      "width": null
     }
    },
    "0fd726d01a5b44669b10dff472fa8e75": {
     "model_module": "@jupyter-widgets/base",
     "model_module_version": "1.2.0",
     "model_name": "LayoutModel",
     "state": {
      "_model_module": "@jupyter-widgets/base",
      "_model_module_version": "1.2.0",
      "_model_name": "LayoutModel",
      "_view_count": null,
      "_view_module": "@jupyter-widgets/base",
      "_view_module_version": "1.2.0",
      "_view_name": "LayoutView",
      "align_content": null,
      "align_items": null,
      "align_self": null,
      "border": null,
      "bottom": null,
      "display": null,
      "flex": null,
      "flex_flow": null,
      "grid_area": null,
      "grid_auto_columns": null,
      "grid_auto_flow": null,
      "grid_auto_rows": null,
      "grid_column": null,
      "grid_gap": null,
      "grid_row": null,
      "grid_template_areas": null,
      "grid_template_columns": null,
      "grid_template_rows": null,
      "height": null,
      "justify_content": null,
      "justify_items": null,
      "left": null,
      "margin": null,
      "max_height": null,
      "max_width": null,
      "min_height": null,
      "min_width": null,
      "object_fit": null,
      "object_position": null,
      "order": null,
      "overflow": null,
      "overflow_x": null,
      "overflow_y": null,
      "padding": null,
      "right": null,
      "top": null,
      "visibility": null,
      "width": null
     }
    },
    "1b0d03b6181c41a1a1d3c0124c4eac09": {
     "model_module": "@jupyter-widgets/base",
     "model_module_version": "1.2.0",
     "model_name": "LayoutModel",
     "state": {
      "_model_module": "@jupyter-widgets/base",
      "_model_module_version": "1.2.0",
      "_model_name": "LayoutModel",
      "_view_count": null,
      "_view_module": "@jupyter-widgets/base",
      "_view_module_version": "1.2.0",
      "_view_name": "LayoutView",
      "align_content": null,
      "align_items": null,
      "align_self": null,
      "border": null,
      "bottom": null,
      "display": null,
      "flex": null,
      "flex_flow": null,
      "grid_area": null,
      "grid_auto_columns": null,
      "grid_auto_flow": null,
      "grid_auto_rows": null,
      "grid_column": null,
      "grid_gap": null,
      "grid_row": null,
      "grid_template_areas": null,
      "grid_template_columns": null,
      "grid_template_rows": null,
      "height": null,
      "justify_content": null,
      "justify_items": null,
      "left": null,
      "margin": null,
      "max_height": null,
      "max_width": null,
      "min_height": null,
      "min_width": null,
      "object_fit": null,
      "object_position": null,
      "order": null,
      "overflow": null,
      "overflow_x": null,
      "overflow_y": null,
      "padding": null,
      "right": null,
      "top": null,
      "visibility": null,
      "width": null
     }
    },
    "1e0aef6fee31486e95d4657899fa1986": {
     "model_module": "@jupyter-widgets/controls",
     "model_module_version": "1.5.0",
     "model_name": "ProgressStyleModel",
     "state": {
      "_model_module": "@jupyter-widgets/controls",
      "_model_module_version": "1.5.0",
      "_model_name": "ProgressStyleModel",
      "_view_count": null,
      "_view_module": "@jupyter-widgets/base",
      "_view_module_version": "1.2.0",
      "_view_name": "StyleView",
      "bar_color": null,
      "description_width": ""
     }
    },
    "242acea326ab40ad9a9c295ea1859312": {
     "model_module": "@jupyter-widgets/controls",
     "model_module_version": "1.5.0",
     "model_name": "ProgressStyleModel",
     "state": {
      "_model_module": "@jupyter-widgets/controls",
      "_model_module_version": "1.5.0",
      "_model_name": "ProgressStyleModel",
      "_view_count": null,
      "_view_module": "@jupyter-widgets/base",
      "_view_module_version": "1.2.0",
      "_view_name": "StyleView",
      "bar_color": null,
      "description_width": ""
     }
    },
    "344f544ed30146429bde099b3689c2d3": {
     "model_module": "@jupyter-widgets/base",
     "model_module_version": "1.2.0",
     "model_name": "LayoutModel",
     "state": {
      "_model_module": "@jupyter-widgets/base",
      "_model_module_version": "1.2.0",
      "_model_name": "LayoutModel",
      "_view_count": null,
      "_view_module": "@jupyter-widgets/base",
      "_view_module_version": "1.2.0",
      "_view_name": "LayoutView",
      "align_content": null,
      "align_items": null,
      "align_self": null,
      "border": null,
      "bottom": null,
      "display": null,
      "flex": null,
      "flex_flow": null,
      "grid_area": null,
      "grid_auto_columns": null,
      "grid_auto_flow": null,
      "grid_auto_rows": null,
      "grid_column": null,
      "grid_gap": null,
      "grid_row": null,
      "grid_template_areas": null,
      "grid_template_columns": null,
      "grid_template_rows": null,
      "height": null,
      "justify_content": null,
      "justify_items": null,
      "left": null,
      "margin": null,
      "max_height": null,
      "max_width": null,
      "min_height": null,
      "min_width": null,
      "object_fit": null,
      "object_position": null,
      "order": null,
      "overflow": null,
      "overflow_x": null,
      "overflow_y": null,
      "padding": null,
      "right": null,
      "top": null,
      "visibility": null,
      "width": null
     }
    },
    "354a7d9dfd4644bd8907fe8a88cfad18": {
     "model_module": "@jupyter-widgets/controls",
     "model_module_version": "1.5.0",
     "model_name": "DescriptionStyleModel",
     "state": {
      "_model_module": "@jupyter-widgets/controls",
      "_model_module_version": "1.5.0",
      "_model_name": "DescriptionStyleModel",
      "_view_count": null,
      "_view_module": "@jupyter-widgets/base",
      "_view_module_version": "1.2.0",
      "_view_name": "StyleView",
      "description_width": ""
     }
    },
    "363663d32a164001859a92a5142add21": {
     "model_module": "@jupyter-widgets/controls",
     "model_module_version": "1.5.0",
     "model_name": "HTMLModel",
     "state": {
      "_dom_classes": [],
      "_model_module": "@jupyter-widgets/controls",
      "_model_module_version": "1.5.0",
      "_model_name": "HTMLModel",
      "_view_count": null,
      "_view_module": "@jupyter-widgets/controls",
      "_view_module_version": "1.5.0",
      "_view_name": "HTMLView",
      "description": "",
      "description_tooltip": null,
      "layout": "IPY_MODEL_fd86cabc49b44c8ca9ee96f82293048f",
      "placeholder": "​",
      "style": "IPY_MODEL_354a7d9dfd4644bd8907fe8a88cfad18",
      "value": " 491/491 [00:00&lt;00:00, 13.9kB/s]"
     }
    },
    "44388403c0094726a751c06fa2f5afe2": {
     "model_module": "@jupyter-widgets/controls",
     "model_module_version": "1.5.0",
     "model_name": "HTMLModel",
     "state": {
      "_dom_classes": [],
      "_model_module": "@jupyter-widgets/controls",
      "_model_module_version": "1.5.0",
      "_model_name": "HTMLModel",
      "_view_count": null,
      "_view_module": "@jupyter-widgets/controls",
      "_view_module_version": "1.5.0",
      "_view_name": "HTMLView",
      "description": "",
      "description_tooltip": null,
      "layout": "IPY_MODEL_6688a75ddc2b47b9984f8f0b76e16632",
      "placeholder": "​",
      "style": "IPY_MODEL_6df8f7e45c8f4c2883e6d90897f64d4a",
      "value": "Downloading config.json: 100%"
     }
    },
    "45a5a4a68ff54d46afb1bf034660a802": {
     "model_module": "@jupyter-widgets/controls",
     "model_module_version": "1.5.0",
     "model_name": "FloatProgressModel",
     "state": {
      "_dom_classes": [],
      "_model_module": "@jupyter-widgets/controls",
      "_model_module_version": "1.5.0",
      "_model_name": "FloatProgressModel",
      "_view_count": null,
      "_view_module": "@jupyter-widgets/controls",
      "_view_module_version": "1.5.0",
      "_view_name": "ProgressView",
      "bar_style": "success",
      "description": "",
      "description_tooltip": null,
      "layout": "IPY_MODEL_8f7c9b23f8d34c3bb6b2e2f3ebbc74f4",
      "max": 975649908,
      "min": 0,
      "orientation": "horizontal",
      "style": "IPY_MODEL_242acea326ab40ad9a9c295ea1859312",
      "value": 975649908
     }
    },
    "4aae3d36a44742928997752f96463ea4": {
     "model_module": "@jupyter-widgets/controls",
     "model_module_version": "1.5.0",
     "model_name": "DescriptionStyleModel",
     "state": {
      "_model_module": "@jupyter-widgets/controls",
      "_model_module_version": "1.5.0",
      "_model_name": "DescriptionStyleModel",
      "_view_count": null,
      "_view_module": "@jupyter-widgets/base",
      "_view_module_version": "1.2.0",
      "_view_name": "StyleView",
      "description_width": ""
     }
    },
    "54d3d108f7e0413ba32b4573298ee588": {
     "model_module": "@jupyter-widgets/controls",
     "model_module_version": "1.5.0",
     "model_name": "HTMLModel",
     "state": {
      "_dom_classes": [],
      "_model_module": "@jupyter-widgets/controls",
      "_model_module_version": "1.5.0",
      "_model_name": "HTMLModel",
      "_view_count": null,
      "_view_module": "@jupyter-widgets/controls",
      "_view_module_version": "1.5.0",
      "_view_name": "HTMLView",
      "description": "",
      "description_tooltip": null,
      "layout": "IPY_MODEL_344f544ed30146429bde099b3689c2d3",
      "placeholder": "​",
      "style": "IPY_MODEL_5f68c2c785534c90807dffe7896f8b03",
      "value": " 600/600 [19:07&lt;00:00,  1.71s/it]"
     }
    },
    "558d5f8d214349a5b651ff5170766e31": {
     "model_module": "@jupyter-widgets/controls",
     "model_module_version": "1.5.0",
     "model_name": "HTMLModel",
     "state": {
      "_dom_classes": [],
      "_model_module": "@jupyter-widgets/controls",
      "_model_module_version": "1.5.0",
      "_model_name": "HTMLModel",
      "_view_count": null,
      "_view_module": "@jupyter-widgets/controls",
      "_view_module_version": "1.5.0",
      "_view_name": "HTMLView",
      "description": "",
      "description_tooltip": null,
      "layout": "IPY_MODEL_f789e864b6b14fadb4c7636ec197bcb6",
      "placeholder": "​",
      "style": "IPY_MODEL_78eba9b6d012492b8efd7210ac1564ea",
      "value": "Downloading vocab.txt: 100%"
     }
    },
    "5c67d4b3e6e84ef1b6e1031f66f770c2": {
     "model_module": "@jupyter-widgets/base",
     "model_module_version": "1.2.0",
     "model_name": "LayoutModel",
     "state": {
      "_model_module": "@jupyter-widgets/base",
      "_model_module_version": "1.2.0",
      "_model_name": "LayoutModel",
      "_view_count": null,
      "_view_module": "@jupyter-widgets/base",
      "_view_module_version": "1.2.0",
      "_view_name": "LayoutView",
      "align_content": null,
      "align_items": null,
      "align_self": null,
      "border": null,
      "bottom": null,
      "display": null,
      "flex": null,
      "flex_flow": null,
      "grid_area": null,
      "grid_auto_columns": null,
      "grid_auto_flow": null,
      "grid_auto_rows": null,
      "grid_column": null,
      "grid_gap": null,
      "grid_row": null,
      "grid_template_areas": null,
      "grid_template_columns": null,
      "grid_template_rows": null,
      "height": null,
      "justify_content": null,
      "justify_items": null,
      "left": null,
      "margin": null,
      "max_height": null,
      "max_width": null,
      "min_height": null,
      "min_width": null,
      "object_fit": null,
      "object_position": null,
      "order": null,
      "overflow": null,
      "overflow_x": null,
      "overflow_y": null,
      "padding": null,
      "right": null,
      "top": null,
      "visibility": null,
      "width": null
     }
    },
    "5f68c2c785534c90807dffe7896f8b03": {
     "model_module": "@jupyter-widgets/controls",
     "model_module_version": "1.5.0",
     "model_name": "DescriptionStyleModel",
     "state": {
      "_model_module": "@jupyter-widgets/controls",
      "_model_module_version": "1.5.0",
      "_model_name": "DescriptionStyleModel",
      "_view_count": null,
      "_view_module": "@jupyter-widgets/base",
      "_view_module_version": "1.2.0",
      "_view_name": "StyleView",
      "description_width": ""
     }
    },
    "6310b0e26f5d4e348d3ae74c2fc3dbac": {
     "model_module": "@jupyter-widgets/controls",
     "model_module_version": "1.5.0",
     "model_name": "HBoxModel",
     "state": {
      "_dom_classes": [],
      "_model_module": "@jupyter-widgets/controls",
      "_model_module_version": "1.5.0",
      "_model_name": "HBoxModel",
      "_view_count": null,
      "_view_module": "@jupyter-widgets/controls",
      "_view_module_version": "1.5.0",
      "_view_name": "HBoxView",
      "box_style": "",
      "children": [
       "IPY_MODEL_e226b072068a4aaab922893e817975ef",
       "IPY_MODEL_45a5a4a68ff54d46afb1bf034660a802",
       "IPY_MODEL_aa2ace35c9214bdea9178b44d3df7d28"
      ],
      "layout": "IPY_MODEL_0954811ec7f148cd994aa5bd862ec3be"
     }
    },
    "6688a75ddc2b47b9984f8f0b76e16632": {
     "model_module": "@jupyter-widgets/base",
     "model_module_version": "1.2.0",
     "model_name": "LayoutModel",
     "state": {
      "_model_module": "@jupyter-widgets/base",
      "_model_module_version": "1.2.0",
      "_model_name": "LayoutModel",
      "_view_count": null,
      "_view_module": "@jupyter-widgets/base",
      "_view_module_version": "1.2.0",
      "_view_name": "LayoutView",
      "align_content": null,
      "align_items": null,
      "align_self": null,
      "border": null,
      "bottom": null,
      "display": null,
      "flex": null,
      "flex_flow": null,
      "grid_area": null,
      "grid_auto_columns": null,
      "grid_auto_flow": null,
      "grid_auto_rows": null,
      "grid_column": null,
      "grid_gap": null,
      "grid_row": null,
      "grid_template_areas": null,
      "grid_template_columns": null,
      "grid_template_rows": null,
      "height": null,
      "justify_content": null,
      "justify_items": null,
      "left": null,
      "margin": null,
      "max_height": null,
      "max_width": null,
      "min_height": null,
      "min_width": null,
      "object_fit": null,
      "object_position": null,
      "order": null,
      "overflow": null,
      "overflow_x": null,
      "overflow_y": null,
      "padding": null,
      "right": null,
      "top": null,
      "visibility": null,
      "width": null
     }
    },
    "6ab50c92393c45b1894b5f9a8c60718e": {
     "model_module": "@jupyter-widgets/controls",
     "model_module_version": "1.5.0",
     "model_name": "HTMLModel",
     "state": {
      "_dom_classes": [],
      "_model_module": "@jupyter-widgets/controls",
      "_model_module_version": "1.5.0",
      "_model_name": "HTMLModel",
      "_view_count": null,
      "_view_module": "@jupyter-widgets/controls",
      "_view_module_version": "1.5.0",
      "_view_name": "HTMLView",
      "description": "",
      "description_tooltip": null,
      "layout": "IPY_MODEL_748de356114944db883c59c2fb906307",
      "placeholder": "​",
      "style": "IPY_MODEL_e6a68110fd1a42d5930531830368feb0",
      "value": "100%"
     }
    },
    "6df8f7e45c8f4c2883e6d90897f64d4a": {
     "model_module": "@jupyter-widgets/controls",
     "model_module_version": "1.5.0",
     "model_name": "DescriptionStyleModel",
     "state": {
      "_model_module": "@jupyter-widgets/controls",
      "_model_module_version": "1.5.0",
      "_model_name": "DescriptionStyleModel",
      "_view_count": null,
      "_view_module": "@jupyter-widgets/base",
      "_view_module_version": "1.2.0",
      "_view_name": "StyleView",
      "description_width": ""
     }
    },
    "748de356114944db883c59c2fb906307": {
     "model_module": "@jupyter-widgets/base",
     "model_module_version": "1.2.0",
     "model_name": "LayoutModel",
     "state": {
      "_model_module": "@jupyter-widgets/base",
      "_model_module_version": "1.2.0",
      "_model_name": "LayoutModel",
      "_view_count": null,
      "_view_module": "@jupyter-widgets/base",
      "_view_module_version": "1.2.0",
      "_view_name": "LayoutView",
      "align_content": null,
      "align_items": null,
      "align_self": null,
      "border": null,
      "bottom": null,
      "display": null,
      "flex": null,
      "flex_flow": null,
      "grid_area": null,
      "grid_auto_columns": null,
      "grid_auto_flow": null,
      "grid_auto_rows": null,
      "grid_column": null,
      "grid_gap": null,
      "grid_row": null,
      "grid_template_areas": null,
      "grid_template_columns": null,
      "grid_template_rows": null,
      "height": null,
      "justify_content": null,
      "justify_items": null,
      "left": null,
      "margin": null,
      "max_height": null,
      "max_width": null,
      "min_height": null,
      "min_width": null,
      "object_fit": null,
      "object_position": null,
      "order": null,
      "overflow": null,
      "overflow_x": null,
      "overflow_y": null,
      "padding": null,
      "right": null,
      "top": null,
      "visibility": null,
      "width": null
     }
    },
    "78eba9b6d012492b8efd7210ac1564ea": {
     "model_module": "@jupyter-widgets/controls",
     "model_module_version": "1.5.0",
     "model_name": "DescriptionStyleModel",
     "state": {
      "_model_module": "@jupyter-widgets/controls",
      "_model_module_version": "1.5.0",
      "_model_name": "DescriptionStyleModel",
      "_view_count": null,
      "_view_module": "@jupyter-widgets/base",
      "_view_module_version": "1.2.0",
      "_view_name": "StyleView",
      "description_width": ""
     }
    },
    "865efc731570481a8d1e2a8347950135": {
     "model_module": "@jupyter-widgets/controls",
     "model_module_version": "1.5.0",
     "model_name": "ProgressStyleModel",
     "state": {
      "_model_module": "@jupyter-widgets/controls",
      "_model_module_version": "1.5.0",
      "_model_name": "ProgressStyleModel",
      "_view_count": null,
      "_view_module": "@jupyter-widgets/base",
      "_view_module_version": "1.2.0",
      "_view_name": "StyleView",
      "bar_color": null,
      "description_width": ""
     }
    },
    "8cfd973ca07540c6ad1946b4660e87c1": {
     "model_module": "@jupyter-widgets/base",
     "model_module_version": "1.2.0",
     "model_name": "LayoutModel",
     "state": {
      "_model_module": "@jupyter-widgets/base",
      "_model_module_version": "1.2.0",
      "_model_name": "LayoutModel",
      "_view_count": null,
      "_view_module": "@jupyter-widgets/base",
      "_view_module_version": "1.2.0",
      "_view_name": "LayoutView",
      "align_content": null,
      "align_items": null,
      "align_self": null,
      "border": null,
      "bottom": null,
      "display": null,
      "flex": null,
      "flex_flow": null,
      "grid_area": null,
      "grid_auto_columns": null,
      "grid_auto_flow": null,
      "grid_auto_rows": null,
      "grid_column": null,
      "grid_gap": null,
      "grid_row": null,
      "grid_template_areas": null,
      "grid_template_columns": null,
      "grid_template_rows": null,
      "height": null,
      "justify_content": null,
      "justify_items": null,
      "left": null,
      "margin": null,
      "max_height": null,
      "max_width": null,
      "min_height": null,
      "min_width": null,
      "object_fit": null,
      "object_position": null,
      "order": null,
      "overflow": null,
      "overflow_x": null,
      "overflow_y": null,
      "padding": null,
      "right": null,
      "top": null,
      "visibility": null,
      "width": null
     }
    },
    "8f7c9b23f8d34c3bb6b2e2f3ebbc74f4": {
     "model_module": "@jupyter-widgets/base",
     "model_module_version": "1.2.0",
     "model_name": "LayoutModel",
     "state": {
      "_model_module": "@jupyter-widgets/base",
      "_model_module_version": "1.2.0",
      "_model_name": "LayoutModel",
      "_view_count": null,
      "_view_module": "@jupyter-widgets/base",
      "_view_module_version": "1.2.0",
      "_view_name": "LayoutView",
      "align_content": null,
      "align_items": null,
      "align_self": null,
      "border": null,
      "bottom": null,
      "display": null,
      "flex": null,
      "flex_flow": null,
      "grid_area": null,
      "grid_auto_columns": null,
      "grid_auto_flow": null,
      "grid_auto_rows": null,
      "grid_column": null,
      "grid_gap": null,
      "grid_row": null,
      "grid_template_areas": null,
      "grid_template_columns": null,
      "grid_template_rows": null,
      "height": null,
      "justify_content": null,
      "justify_items": null,
      "left": null,
      "margin": null,
      "max_height": null,
      "max_width": null,
      "min_height": null,
      "min_width": null,
      "object_fit": null,
      "object_position": null,
      "order": null,
      "overflow": null,
      "overflow_x": null,
      "overflow_y": null,
      "padding": null,
      "right": null,
      "top": null,
      "visibility": null,
      "width": null
     }
    },
    "a223afc8d2cb414cbe26c1fc0858f55f": {
     "model_module": "@jupyter-widgets/controls",
     "model_module_version": "1.5.0",
     "model_name": "DescriptionStyleModel",
     "state": {
      "_model_module": "@jupyter-widgets/controls",
      "_model_module_version": "1.5.0",
      "_model_name": "DescriptionStyleModel",
      "_view_count": null,
      "_view_module": "@jupyter-widgets/base",
      "_view_module_version": "1.2.0",
      "_view_name": "StyleView",
      "description_width": ""
     }
    },
    "a619cbd594884f919f8c335e3bbe219b": {
     "model_module": "@jupyter-widgets/controls",
     "model_module_version": "1.5.0",
     "model_name": "FloatProgressModel",
     "state": {
      "_dom_classes": [],
      "_model_module": "@jupyter-widgets/controls",
      "_model_module_version": "1.5.0",
      "_model_name": "FloatProgressModel",
      "_view_count": null,
      "_view_module": "@jupyter-widgets/controls",
      "_view_module_version": "1.5.0",
      "_view_name": "ProgressView",
      "bar_style": "success",
      "description": "",
      "description_tooltip": null,
      "layout": "IPY_MODEL_0044219393414084b24278970035f030",
      "max": 2237676,
      "min": 0,
      "orientation": "horizontal",
      "style": "IPY_MODEL_c6cb0856b24f4a13b768b2cd6899e895",
      "value": 2237676
     }
    },
    "aa2ace35c9214bdea9178b44d3df7d28": {
     "model_module": "@jupyter-widgets/controls",
     "model_module_version": "1.5.0",
     "model_name": "HTMLModel",
     "state": {
      "_dom_classes": [],
      "_model_module": "@jupyter-widgets/controls",
      "_model_module_version": "1.5.0",
      "_model_name": "HTMLModel",
      "_view_count": null,
      "_view_module": "@jupyter-widgets/controls",
      "_view_module_version": "1.5.0",
      "_view_name": "HTMLView",
      "description": "",
      "description_tooltip": null,
      "layout": "IPY_MODEL_026e998b52f54005b3b3d5b2cce7ccb9",
      "placeholder": "​",
      "style": "IPY_MODEL_4aae3d36a44742928997752f96463ea4",
      "value": " 930M/930M [00:17&lt;00:00, 60.3MB/s]"
     }
    },
    "b6262428896e4c039996c5eb12d93df9": {
     "model_module": "@jupyter-widgets/controls",
     "model_module_version": "1.5.0",
     "model_name": "HBoxModel",
     "state": {
      "_dom_classes": [],
      "_model_module": "@jupyter-widgets/controls",
      "_model_module_version": "1.5.0",
      "_model_name": "HBoxModel",
      "_view_count": null,
      "_view_module": "@jupyter-widgets/controls",
      "_view_module_version": "1.5.0",
      "_view_name": "HBoxView",
      "box_style": "",
      "children": [
       "IPY_MODEL_44388403c0094726a751c06fa2f5afe2",
       "IPY_MODEL_f74b427c3fee448ca962de11cb2a3870",
       "IPY_MODEL_363663d32a164001859a92a5142add21"
      ],
      "layout": "IPY_MODEL_0fd726d01a5b44669b10dff472fa8e75"
     }
    },
    "b94c6c7b6a3141f7b31bd12efdbc8a06": {
     "model_module": "@jupyter-widgets/controls",
     "model_module_version": "1.5.0",
     "model_name": "HTMLModel",
     "state": {
      "_dom_classes": [],
      "_model_module": "@jupyter-widgets/controls",
      "_model_module_version": "1.5.0",
      "_model_name": "HTMLModel",
      "_view_count": null,
      "_view_module": "@jupyter-widgets/controls",
      "_view_module_version": "1.5.0",
      "_view_name": "HTMLView",
      "description": "",
      "description_tooltip": null,
      "layout": "IPY_MODEL_f5b0d5f3ebc54bc6b42d09387f7ed225",
      "placeholder": "​",
      "style": "IPY_MODEL_d95bb4b269d9498384135055d600097a",
      "value": " 2.13M/2.13M [00:00&lt;00:00, 2.63MB/s]"
     }
    },
    "be2c3df55d4649319bd880b0992e6abf": {
     "model_module": "@jupyter-widgets/controls",
     "model_module_version": "1.5.0",
     "model_name": "HBoxModel",
     "state": {
      "_dom_classes": [],
      "_model_module": "@jupyter-widgets/controls",
      "_model_module_version": "1.5.0",
      "_model_name": "HBoxModel",
      "_view_count": null,
      "_view_module": "@jupyter-widgets/controls",
      "_view_module_version": "1.5.0",
      "_view_name": "HBoxView",
      "box_style": "",
      "children": [
       "IPY_MODEL_558d5f8d214349a5b651ff5170766e31",
       "IPY_MODEL_a619cbd594884f919f8c335e3bbe219b",
       "IPY_MODEL_b94c6c7b6a3141f7b31bd12efdbc8a06"
      ],
      "layout": "IPY_MODEL_1b0d03b6181c41a1a1d3c0124c4eac09"
     }
    },
    "c117fec8fdfc40a2a75ec5acbaceabc4": {
     "model_module": "@jupyter-widgets/controls",
     "model_module_version": "1.5.0",
     "model_name": "HBoxModel",
     "state": {
      "_dom_classes": [],
      "_model_module": "@jupyter-widgets/controls",
      "_model_module_version": "1.5.0",
      "_model_name": "HBoxModel",
      "_view_count": null,
      "_view_module": "@jupyter-widgets/controls",
      "_view_module_version": "1.5.0",
      "_view_name": "HBoxView",
      "box_style": "",
      "children": [
       "IPY_MODEL_6ab50c92393c45b1894b5f9a8c60718e",
       "IPY_MODEL_e4f6b0910c614d4e9a7860345d10ff3d",
       "IPY_MODEL_54d3d108f7e0413ba32b4573298ee588"
      ],
      "layout": "IPY_MODEL_5c67d4b3e6e84ef1b6e1031f66f770c2"
     }
    },
    "c6cb0856b24f4a13b768b2cd6899e895": {
     "model_module": "@jupyter-widgets/controls",
     "model_module_version": "1.5.0",
     "model_name": "ProgressStyleModel",
     "state": {
      "_model_module": "@jupyter-widgets/controls",
      "_model_module_version": "1.5.0",
      "_model_name": "ProgressStyleModel",
      "_view_count": null,
      "_view_module": "@jupyter-widgets/base",
      "_view_module_version": "1.2.0",
      "_view_name": "StyleView",
      "bar_color": null,
      "description_width": ""
     }
    },
    "d95bb4b269d9498384135055d600097a": {
     "model_module": "@jupyter-widgets/controls",
     "model_module_version": "1.5.0",
     "model_name": "DescriptionStyleModel",
     "state": {
      "_model_module": "@jupyter-widgets/controls",
      "_model_module_version": "1.5.0",
      "_model_name": "DescriptionStyleModel",
      "_view_count": null,
      "_view_module": "@jupyter-widgets/base",
      "_view_module_version": "1.2.0",
      "_view_name": "StyleView",
      "description_width": ""
     }
    },
    "e226b072068a4aaab922893e817975ef": {
     "model_module": "@jupyter-widgets/controls",
     "model_module_version": "1.5.0",
     "model_name": "HTMLModel",
     "state": {
      "_dom_classes": [],
      "_model_module": "@jupyter-widgets/controls",
      "_model_module_version": "1.5.0",
      "_model_name": "HTMLModel",
      "_view_count": null,
      "_view_module": "@jupyter-widgets/controls",
      "_view_module_version": "1.5.0",
      "_view_name": "HTMLView",
      "description": "",
      "description_tooltip": null,
      "layout": "IPY_MODEL_8cfd973ca07540c6ad1946b4660e87c1",
      "placeholder": "​",
      "style": "IPY_MODEL_a223afc8d2cb414cbe26c1fc0858f55f",
      "value": "Downloading tf_model.h5: 100%"
     }
    },
    "e4f6b0910c614d4e9a7860345d10ff3d": {
     "model_module": "@jupyter-widgets/controls",
     "model_module_version": "1.5.0",
     "model_name": "FloatProgressModel",
     "state": {
      "_dom_classes": [],
      "_model_module": "@jupyter-widgets/controls",
      "_model_module_version": "1.5.0",
      "_model_name": "FloatProgressModel",
      "_view_count": null,
      "_view_module": "@jupyter-widgets/controls",
      "_view_module_version": "1.5.0",
      "_view_name": "ProgressView",
      "bar_style": "success",
      "description": "",
      "description_tooltip": null,
      "layout": "IPY_MODEL_0e80ebfc988342ae8cd2ba7e73d94a39",
      "max": 600,
      "min": 0,
      "orientation": "horizontal",
      "style": "IPY_MODEL_1e0aef6fee31486e95d4657899fa1986",
      "value": 600
     }
    },
    "e6a68110fd1a42d5930531830368feb0": {
     "model_module": "@jupyter-widgets/controls",
     "model_module_version": "1.5.0",
     "model_name": "DescriptionStyleModel",
     "state": {
      "_model_module": "@jupyter-widgets/controls",
      "_model_module_version": "1.5.0",
      "_model_name": "DescriptionStyleModel",
      "_view_count": null,
      "_view_module": "@jupyter-widgets/base",
      "_view_module_version": "1.2.0",
      "_view_name": "StyleView",
      "description_width": ""
     }
    },
    "f5b0d5f3ebc54bc6b42d09387f7ed225": {
     "model_module": "@jupyter-widgets/base",
     "model_module_version": "1.2.0",
     "model_name": "LayoutModel",
     "state": {
      "_model_module": "@jupyter-widgets/base",
      "_model_module_version": "1.2.0",
      "_model_name": "LayoutModel",
      "_view_count": null,
      "_view_module": "@jupyter-widgets/base",
      "_view_module_version": "1.2.0",
      "_view_name": "LayoutView",
      "align_content": null,
      "align_items": null,
      "align_self": null,
      "border": null,
      "bottom": null,
      "display": null,
      "flex": null,
      "flex_flow": null,
      "grid_area": null,
      "grid_auto_columns": null,
      "grid_auto_flow": null,
      "grid_auto_rows": null,
      "grid_column": null,
      "grid_gap": null,
      "grid_row": null,
      "grid_template_areas": null,
      "grid_template_columns": null,
      "grid_template_rows": null,
      "height": null,
      "justify_content": null,
      "justify_items": null,
      "left": null,
      "margin": null,
      "max_height": null,
      "max_width": null,
      "min_height": null,
      "min_width": null,
      "object_fit": null,
      "object_position": null,
      "order": null,
      "overflow": null,
      "overflow_x": null,
      "overflow_y": null,
      "padding": null,
      "right": null,
      "top": null,
      "visibility": null,
      "width": null
     }
    },
    "f74b427c3fee448ca962de11cb2a3870": {
     "model_module": "@jupyter-widgets/controls",
     "model_module_version": "1.5.0",
     "model_name": "FloatProgressModel",
     "state": {
      "_dom_classes": [],
      "_model_module": "@jupyter-widgets/controls",
      "_model_module_version": "1.5.0",
      "_model_name": "FloatProgressModel",
      "_view_count": null,
      "_view_module": "@jupyter-widgets/controls",
      "_view_module_version": "1.5.0",
      "_view_name": "ProgressView",
      "bar_style": "success",
      "description": "",
      "description_tooltip": null,
      "layout": "IPY_MODEL_0a743870d04b454eb7cd8e8b53606745",
      "max": 491,
      "min": 0,
      "orientation": "horizontal",
      "style": "IPY_MODEL_865efc731570481a8d1e2a8347950135",
      "value": 491
     }
    },
    "f789e864b6b14fadb4c7636ec197bcb6": {
     "model_module": "@jupyter-widgets/base",
     "model_module_version": "1.2.0",
     "model_name": "LayoutModel",
     "state": {
      "_model_module": "@jupyter-widgets/base",
      "_model_module_version": "1.2.0",
      "_model_name": "LayoutModel",
      "_view_count": null,
      "_view_module": "@jupyter-widgets/base",
      "_view_module_version": "1.2.0",
      "_view_name": "LayoutView",
      "align_content": null,
      "align_items": null,
      "align_self": null,
      "border": null,
      "bottom": null,
      "display": null,
      "flex": null,
      "flex_flow": null,
      "grid_area": null,
      "grid_auto_columns": null,
      "grid_auto_flow": null,
      "grid_auto_rows": null,
      "grid_column": null,
      "grid_gap": null,
      "grid_row": null,
      "grid_template_areas": null,
      "grid_template_columns": null,
      "grid_template_rows": null,
      "height": null,
      "justify_content": null,
      "justify_items": null,
      "left": null,
      "margin": null,
      "max_height": null,
      "max_width": null,
      "min_height": null,
      "min_width": null,
      "object_fit": null,
      "object_position": null,
      "order": null,
      "overflow": null,
      "overflow_x": null,
      "overflow_y": null,
      "padding": null,
      "right": null,
      "top": null,
      "visibility": null,
      "width": null
     }
    },
    "fd86cabc49b44c8ca9ee96f82293048f": {
     "model_module": "@jupyter-widgets/base",
     "model_module_version": "1.2.0",
     "model_name": "LayoutModel",
     "state": {
      "_model_module": "@jupyter-widgets/base",
      "_model_module_version": "1.2.0",
      "_model_name": "LayoutModel",
      "_view_count": null,
      "_view_module": "@jupyter-widgets/base",
      "_view_module_version": "1.2.0",
      "_view_name": "LayoutView",
      "align_content": null,
      "align_items": null,
      "align_self": null,
      "border": null,
      "bottom": null,
      "display": null,
      "flex": null,
      "flex_flow": null,
      "grid_area": null,
      "grid_auto_columns": null,
      "grid_auto_flow": null,
      "grid_auto_rows": null,
      "grid_column": null,
      "grid_gap": null,
      "grid_row": null,
      "grid_template_areas": null,
      "grid_template_columns": null,
      "grid_template_rows": null,
      "height": null,
      "justify_content": null,
      "justify_items": null,
      "left": null,
      "margin": null,
      "max_height": null,
      "max_width": null,
      "min_height": null,
      "min_width": null,
      "object_fit": null,
      "object_position": null,
      "order": null,
      "overflow": null,
      "overflow_x": null,
      "overflow_y": null,
      "padding": null,
      "right": null,
      "top": null,
      "visibility": null,
      "width": null
     }
    }
   }
  }
 },
 "nbformat": 4,
 "nbformat_minor": 1
}
